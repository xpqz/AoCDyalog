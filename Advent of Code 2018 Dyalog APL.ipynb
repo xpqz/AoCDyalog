{
 "cells": [
  {
   "cell_type": "markdown",
   "metadata": {},
   "source": [
    "# Advent of Code 2018, Dyalog APL edition\n",
    "\n",
    "To see a correct render of this notebook, check it out on [nbviewer](https://nbviewer.jupyter.org/github/xpqz/AoCDyalog/blob/master/Advent%20of%20Code%202018%20Dyalog%20APL.ipynb).\n",
    "\n",
    "Annotated solutions in Dyalog APL.\n",
    "\n",
    "Note that part of the charm of AoC is that every user (or at least groups of users) gets their own unique data set. Some of the solutions below exploit quirks in my particular data set, and so may conceivably not work for the general case."
   ]
  },
  {
   "cell_type": "code",
   "execution_count": 5,
   "metadata": {},
   "outputs": [
    {
     "data": {
      "text/html": [
       "<span style=\"white-space:pre; font-family: monospace\">┌→─────────────────────────────────────┐\n",
       "│Was ON -style=min -trains=tree -fns=on│\n",
       "└──────────────────────────────────────┘\n",
       "</span>"
      ]
     },
     "execution_count": 5,
     "metadata": {},
     "output_type": "execute_result"
    },
    {
     "data": {
      "text/html": [
       "<span style=\"white-space:pre; font-family: monospace\">┌→──────┐\n",
       "│Was OFF│\n",
       "└───────┘\n",
       "</span>"
      ]
     },
     "execution_count": 5,
     "metadata": {},
     "output_type": "execute_result"
    }
   ],
   "source": [
    "⍝ Helper functions and common settings\n",
    "⎕IO←0\n",
    "assert←{⍺←'assertion failure' ⋄ 0∊⍵:⍺ ⎕signal 8 ⋄ shy←0}\n",
    "lines←{⊃⎕NGET ⍵ 1}\n",
    "ilines←{⍎¨lines ⍵}\n",
    "line←{⊃lines ⍵}\n",
    "sorted←{⍵[⍋⍵]}\n",
    "sortbycol←⊢⌷⍨∘⊂∘⍒⌷⍤1\n",
    "pairs←{↓(2÷⍨≢⍵) 2⍴⍵}\n",
    "]box on -style=max -trains=tree -fns=on\n",
    "]rows on"
   ]
  },
  {
   "cell_type": "markdown",
   "metadata": {},
   "source": [
    "### Day 1: Chronal Calibration\n",
    "https://adventofcode.com/2018/day/1"
   ]
  },
  {
   "cell_type": "code",
   "execution_count": 39,
   "metadata": {},
   "outputs": [],
   "source": [
    "DAY1←ilines'data/2018/01.txt'"
   ]
  },
  {
   "cell_type": "code",
   "execution_count": 87,
   "metadata": {},
   "outputs": [
    {
     "data": {
      "text/html": [
       "<span style=\"white-space:pre; font-family: monospace\">   \n",
       "477\n",
       "   \n",
       "</span>"
      ]
     },
     "execution_count": 87,
     "metadata": {},
     "output_type": "execute_result"
    }
   ],
   "source": [
    "⊢Part1←+/DAY1\n",
    "assert 477=Part1"
   ]
  },
  {
   "cell_type": "markdown",
   "metadata": {},
   "source": [
    "For part 2 we're looking for the first frequency to recur. If we get to the end, take the last value and use that as the start value for the next iteration. We look for the first duplicate using APL's [unique mask](https://aplwiki.com/wiki/Nub_Sieve) function.     "
   ]
  },
  {
   "cell_type": "code",
   "execution_count": 32,
   "metadata": {},
   "outputs": [],
   "source": [
    "Day1p2←{t←⍬⋄0{t,←1↓+\\⍺,⍵⋄1=≢e←t[⍸<\\~≠t]:⊃e⋄⍵∇⍨⊃¯1↑t}⍵}"
   ]
  },
  {
   "cell_type": "code",
   "execution_count": 86,
   "metadata": {},
   "outputs": [
    {
     "data": {
      "text/html": [
       "<span style=\"white-space:pre; font-family: monospace\">   \n",
       "390\n",
       "   \n",
       "</span>"
      ]
     },
     "execution_count": 86,
     "metadata": {},
     "output_type": "execute_result"
    }
   ],
   "source": [
    "⊢Part2←Day1p2 DAY1\n",
    "assert 390=Part2"
   ]
  },
  {
   "cell_type": "markdown",
   "metadata": {},
   "source": [
    "### Day 2: Inventory Management System\n",
    "https://adventofcode.com/2018/day/2"
   ]
  },
  {
   "cell_type": "code",
   "execution_count": 85,
   "metadata": {},
   "outputs": [
    {
     "data": {
      "text/html": [
       "<span style=\"white-space:pre; font-family: monospace\">    \n",
       "8118\n",
       "    \n",
       "</span>"
      ]
     },
     "execution_count": 85,
     "metadata": {},
     "output_type": "execute_result"
    }
   ],
   "source": [
    "⊢Part1←×/+/⍉↑2 3∘∊¨(≢⊢)⌸¨DAY2←lines'data/2018/02.txt'\n",
    "assert 8118=Part1"
   ]
  },
  {
   "cell_type": "code",
   "execution_count": 84,
   "metadata": {},
   "outputs": [
    {
     "data": {
      "text/html": [
       "<span style=\"white-space:pre; font-family: monospace\">┌→────────────────────────┐\n",
       "│jbbenqtlaxhivmwyscjukztdp│\n",
       "└─────────────────────────┘\n",
       "</span>"
      ]
     },
     "execution_count": 84,
     "metadata": {},
     "output_type": "execute_result"
    }
   ],
   "source": [
    "⊢Part2←(=⌿l)/0⌷l←↑DAY2[⍸{1∊⍵}¨↓DAY2∘.{+/≠/⍺,⍪⍵}DAY2]\n",
    "assert 'jbbenqtlaxhivmwyscjukztdp'≡Part2"
   ]
  },
  {
   "cell_type": "markdown",
   "metadata": {},
   "source": [
    "### Day 3: No Matter How You Slice It\n",
    "https://adventofcode.com/2018/day/3"
   ]
  },
  {
   "cell_type": "code",
   "execution_count": 128,
   "metadata": {},
   "outputs": [],
   "source": [
    "DAY3←⍎¨¨'\\d+'⎕s'&'¨lines'data/2018/03.txt'"
   ]
  },
  {
   "cell_type": "code",
   "execution_count": 152,
   "metadata": {},
   "outputs": [],
   "source": [
    "R←1000 1000⍴0⋄_←{R[⍵]+←1}¨CL←{,((2⊃⍵)+⍳4⊃⍵)∘.,((1⊃⍵)+⍳3⌷⍵)}¨DAY3 ⍝ Convert origin + dx dy to coord pairs"
   ]
  },
  {
   "cell_type": "code",
   "execution_count": 153,
   "metadata": {},
   "outputs": [
    {
     "data": {
      "text/html": [
       "<span style=\"white-space:pre; font-family: monospace\">      \n",
       "104126\n",
       "      \n",
       "</span>"
      ]
     },
     "execution_count": 153,
     "metadata": {},
     "output_type": "execute_result"
    }
   ],
   "source": [
    "⊢Part1←+/2≤∊R\n",
    "assert 104126=Part1"
   ]
  },
  {
   "cell_type": "code",
   "execution_count": 154,
   "metadata": {},
   "outputs": [
    {
     "data": {
      "text/html": [
       "<span style=\"white-space:pre; font-family: monospace\">   \n",
       "695\n",
       "   \n",
       "</span>"
      ]
     },
     "execution_count": 154,
     "metadata": {},
     "output_type": "execute_result"
    }
   ],
   "source": [
    "⊢Part2←1+⊃⍸{∧/1=R[⍵]}¨CL ⍝ Claim numbers are 1-indexed, so need to add 1\n",
    "assert 695=Part2          "
   ]
  },
  {
   "cell_type": "markdown",
   "metadata": {},
   "source": [
    "### Day 4: Repose Record\n",
    "https://adventofcode.com/2018/day/4\n",
    "\n",
    "Basically a series of set operations -- sort based on date, then split and merge into chunks based on each guard's log lines. Pair up into sleep-wake pairs and expand into the corresponding minute range. We can then use key `⌸` to find the most frequent minute for the guard with the most sleep minutes.\n",
    "\n",
    "The regex\n",
    "\n",
    "   '(?|.*(#\\d+).*|.*:(\\d\\d)).*'\n",
    "   \n",
    "is a _branch reset_ `(?| ...|... )`, which means that the result of whichever of the two branches that matches can be referred to as `\\1` in the replacement."
   ]
  },
  {
   "cell_type": "code",
   "execution_count": 393,
   "metadata": {},
   "outputs": [],
   "source": [
    "'iotag'⎕CY'dfns'\n",
    "DAY4←sorted lines'data/2018/04.txt'"
   ]
  },
  {
   "cell_type": "code",
   "execution_count": 394,
   "metadata": {},
   "outputs": [],
   "source": [
    "parsed←'(?|.*(#\\d+).*|.*:(\\d\\d)).*'⎕r'\\1'⊢DAY4 ⍝ Pick out guard number, and minutes for each sleep/wake item"
   ]
  },
  {
   "cell_type": "code",
   "execution_count": 395,
   "metadata": {},
   "outputs": [],
   "source": [
    "guards←{0⊃0⊃⍵}¨merged←(≠{⍎1↓0⊃⍵}¨grouped)⊂grouped←sorted parsed⊂⍨'#'∘(1∊⍷)¨parsed"
   ]
  },
  {
   "cell_type": "code",
   "execution_count": 396,
   "metadata": {},
   "outputs": [],
   "source": [
    "sleepiest←⊃⍒≢¨sleep←{∊{(⍎⍺) iotag ¯1+⍎⍵}/↑⍵}¨pairs¨{⊃,/{1↓⍵}¨⍵}¨merged"
   ]
  },
  {
   "cell_type": "code",
   "execution_count": 397,
   "metadata": {},
   "outputs": [
    {
     "data": {
      "text/html": [
       "<span style=\"white-space:pre; font-family: monospace\">      \n",
       "138280\n",
       "      \n",
       "</span>"
      ]
     },
     "execution_count": 397,
     "metadata": {},
     "output_type": "execute_result"
    }
   ],
   "source": [
    "⊢Part1←(⍎1↓sleepiest⊃guards)×⊃((⊣/⊢⍤/⍨∘(⌈/=⊢)⊢/){⍺(≢⍵)}⌸)sleepiest⊃sleep\n",
    "assert 138280=Part1"
   ]
  },
  {
   "cell_type": "markdown",
   "metadata": {},
   "source": [
    "For part 2, we seek the guard which has the highest minute sleep frequency. We have most of the parts already."
   ]
  },
  {
   "cell_type": "code",
   "execution_count": 412,
   "metadata": {},
   "outputs": [],
   "source": [
    "f←⊃⍒{⌈/1⌷⍉⍵}¨freq←({⍺,(≢⍵)}⌸)¨sleep"
   ]
  },
  {
   "cell_type": "code",
   "execution_count": 417,
   "metadata": {},
   "outputs": [
    {
     "data": {
      "text/html": [
       "<span style=\"white-space:pre; font-family: monospace\">     \n",
       "89347\n",
       "     \n",
       "</span>"
      ]
     },
     "execution_count": 417,
     "metadata": {},
     "output_type": "execute_result"
    }
   ],
   "source": [
    "⊢Part2←(⍎1↓f⊃guards)×⊃(⊣/⊢⍤/⍨∘(⌈/=⊢)⊢/)f⊃freq\n",
    "assert 89347=Part2"
   ]
  },
  {
   "cell_type": "markdown",
   "metadata": {},
   "source": [
    "### Day 5: Alchemical Reduction\n",
    "https://adventofcode.com/2018/day/5"
   ]
  },
  {
   "cell_type": "code",
   "execution_count": null,
   "metadata": {},
   "outputs": [],
   "source": [
    "DAY5←line'data/2018/05.txt'"
   ]
  },
  {
   "cell_type": "code",
   "execution_count": 418,
   "metadata": {},
   "outputs": [],
   "source": [
    "r←∊'|'(1↓∘,,⍤0)p,⌽¨p←(⎕C⎕A),¨⎕A ⍝ Make the regex aA|Aa|bB|Bb ... etc"
   ]
  },
  {
   "cell_type": "code",
   "execution_count": 433,
   "metadata": {},
   "outputs": [
    {
     "data": {
      "text/html": [
       "<span style=\"white-space:pre; font-family: monospace\">    \n",
       "9172\n",
       "    \n",
       "</span>"
      ]
     },
     "execution_count": 433,
     "metadata": {},
     "output_type": "execute_result"
    }
   ],
   "source": [
    "⊢Part1←≢{r⎕r''⊢⍵}⍣≡⊢DAY5        ⍝ Apply regex replace until no change\n",
    "assert 9172=Part1"
   ]
  },
  {
   "cell_type": "code",
   "execution_count": 435,
   "metadata": {},
   "outputs": [
    {
     "data": {
      "text/html": [
       "<span style=\"white-space:pre; font-family: monospace\">    \n",
       "6550\n",
       "    \n",
       "</span>"
      ]
     },
     "execution_count": 435,
     "metadata": {},
     "output_type": "execute_result"
    }
   ],
   "source": [
    "⊢Part2←⌊/{≢{r⎕r''⊢⍵}⍣≡⊢(⍵⎕r''⍠'IC'1)DAY5}¨⎕A ⍝ This several minutes to run\n",
    "assert 6550=Part2"
   ]
  },
  {
   "cell_type": "markdown",
   "metadata": {},
   "source": [
    "### Day 6: Chronal Coordinates\n",
    "https://adventofcode.com/2018/day/6\n",
    "\n",
    "This problem is very suited to an array language like APL. We create a 3D matrix where each major cell is a 2D matrix holding the manhattan distances from each point to the input coordinate. We can then process this along the z-axis to pick the layer index of the smallest distance. That gives us a \"Nearest\" map. What remains is to remove any \"infinites\", defined as the numbers which occur along any edge of the \"Nearest\" map, and finally find the highest frequency. \n",
    "\n",
    "The Python [solution](https://github.com/xpqz/aoc-18/blob/master/day6.py) is considerably longer and slower."
   ]
  },
  {
   "cell_type": "code",
   "execution_count": 128,
   "metadata": {},
   "outputs": [],
   "source": [
    "⎕io←0\n",
    "DAY6←⍎¨lines'data/2018/06.txt'"
   ]
  },
  {
   "cell_type": "code",
   "execution_count": 129,
   "metadata": {},
   "outputs": [],
   "source": [
    "(XMAX YMAX)←⊃↓⍉↑⌈/DAY6"
   ]
  },
  {
   "cell_type": "markdown",
   "metadata": {},
   "source": [
    "For each of the 50 points, make an array where each value is the MHD from the point."
   ]
  },
  {
   "cell_type": "code",
   "execution_count": 130,
   "metadata": {},
   "outputs": [],
   "source": [
    "MHD←{+/|⍵-⍺}\n",
    "Dist←{YMAX XMAX⍴⍵∘MHD¨,⍳YMAX XMAX}"
   ]
  },
  {
   "cell_type": "markdown",
   "metadata": {},
   "source": [
    "Create the nearest distance map. A small hoop to jump through: points that are equidistant to several coordinates should be removed. We set those to ¯1."
   ]
  },
  {
   "cell_type": "code",
   "execution_count": 131,
   "metadata": {},
   "outputs": [],
   "source": [
    "Nearest←{v←⍋⍵⋄⍵[v[0]]=⍵[v[1]]:¯1⋄⊃v}¨↓[0]↑Dist¨⌽¨DAY6 ⍝ Flip each input pair so we have (y x)"
   ]
  },
  {
   "cell_type": "markdown",
   "metadata": {},
   "source": [
    "Remove any items touching the boundaries of the array, as they're 'infinite'."
   ]
  },
  {
   "cell_type": "code",
   "execution_count": 132,
   "metadata": {},
   "outputs": [
    {
     "data": {
      "text/html": [
       "<span style=\"white-space:pre; font-family: monospace\">    \n",
       "3989\n",
       "    \n",
       "</span>"
      ]
     },
     "execution_count": 132,
     "metadata": {},
     "output_type": "execute_result"
    }
   ],
   "source": [
    "⊢Part1←1⊃0⌷1 sortbycol{⍺(≢⍵)}⌸(∊Nearest)~∪Nearest[⍸(⌽∨⊖)0∊¨⍳⍴Nearest]\n",
    "assert 3989=Part1"
   ]
  },
  {
   "cell_type": "markdown",
   "metadata": {},
   "source": [
    "For part 2, we instead seek the set of points that each have a combined MHD to all coords < 10,000."
   ]
  },
  {
   "cell_type": "code",
   "execution_count": 133,
   "metadata": {},
   "outputs": [
    {
     "data": {
      "text/html": [
       "<span style=\"white-space:pre; font-family: monospace\">     \n",
       "49715\n",
       "     \n",
       "</span>"
      ]
     },
     "execution_count": 133,
     "metadata": {},
     "output_type": "execute_result"
    }
   ],
   "source": [
    "⊢Part2←+/{10000>+/⍵∘MHD¨DAY6}¨,⍳YMAX XMAX\n",
    "assert 49715=Part2"
   ]
  },
  {
   "cell_type": "markdown",
   "metadata": {},
   "source": [
    "### Day 7: The Sum of Its Parts\n",
    "https://adventofcode.com/2018/day/7\n",
    "\n",
    "We have a graph which we need to traverse in a specific child-order - sorting the queue each iteration is a somewhat inefficient approach, but as the number of nodes is tiny it doesn't really matter."
   ]
  },
  {
   "cell_type": "code",
   "execution_count": 105,
   "metadata": {},
   "outputs": [],
   "source": [
    "DAY7←'^.+?([A-Z]).*([A-Z]).*$'⎕r'\\1\\2'⊢lines'data/2018/07.txt'"
   ]
  },
  {
   "cell_type": "code",
   "execution_count": 106,
   "metadata": {},
   "outputs": [],
   "source": [
    "(KEY PRE)←↓⍉↑(↓⊃¨,∘⊂⌸⊢/¨)↓⌽↑DAY7 ⍝ Make the graph - splitting out nodes and their ascendants"
   ]
  },
  {
   "cell_type": "code",
   "execution_count": 107,
   "metadata": {},
   "outputs": [],
   "source": [
    "Day7p1←{0=≢⍵:⍺⋄(⍺,p)∇(⍺,p)~⍨sorted ⍵∪{KEY/⍨⍵∘{∧/⍵∊⍺}¨PRE} ⍺,p←⊃⍵}"
   ]
  },
  {
   "cell_type": "code",
   "execution_count": 108,
   "metadata": {},
   "outputs": [
    {
     "data": {
      "text/html": [
       "<span style=\"white-space:pre; font-family: monospace\">┌→─────────────────────────┐\n",
       "│BHMOTUFLCPQKWINZVRXAJDSYEG│\n",
       "└──────────────────────────┘\n",
       "</span>"
      ]
     },
     "execution_count": 108,
     "metadata": {},
     "output_type": "execute_result"
    }
   ],
   "source": [
    "⊢Part1←⍬ Day7p1 sorted KEY~⍨∪∊DAY7\n",
    "assert 'BHMOTUFLCPQKWINZVRXAJDSYEG'≡Part1"
   ]
  },
  {
   "cell_type": "markdown",
   "metadata": {},
   "source": [
    "Part 2 -- process items concurrently in a worker pool of 5. Each job now takes 60 + a number corresponding to the item's position in the alphabet (A=60+1, B=60+2 etc). Replaces 200+ lines of my Python [solution](https://github.com/xpqz/aoc-18/blob/master/day7.py)."
   ]
  },
  {
   "cell_type": "code",
   "execution_count": 110,
   "metadata": {},
   "outputs": [],
   "source": [
    "Workers←{0=slots←5-≢⍺:⍺⋄⍺,{⍵,⍨61+⎕A⍳⍵}¨(slots⌊≢⍵)↑⍵}"
   ]
  },
  {
   "cell_type": "code",
   "execution_count": 111,
   "metadata": {},
   "outputs": [],
   "source": [
    "]dinput\n",
    "Day7p2←{\n",
    "    wrk←⍬ ⋄ sec←0\n",
    "    ⍬ {\n",
    "        (0=≢⍵)∧0=≢wrk:sec\n",
    "        (remains jobs)←↓⍉↑wrk⊢←¯1∘+@0¨wrk Workers ⍵ ⍝ Fill any available slots and 'tick'\n",
    "        wrk⊢←(0≠remains)/wrk                        ⍝ Reap any dead worker processes\n",
    "        sec+←1\n",
    "        (⍺,sorted ready)∇(⍺,jobs)~⍨⍵∪{KEY/⍨⍵∘{∧/⍵∊⍺}¨PRE}⍺,ready←(0=remains)/jobs\n",
    "    } ⍵\n",
    "}"
   ]
  },
  {
   "cell_type": "code",
   "execution_count": 112,
   "metadata": {},
   "outputs": [
    {
     "data": {
      "text/html": [
       "<span style=\"white-space:pre; font-family: monospace\">   \n",
       "877\n",
       "   \n",
       "</span>"
      ]
     },
     "execution_count": 112,
     "metadata": {},
     "output_type": "execute_result"
    }
   ],
   "source": [
    "⊢Part2←Day7p2 sorted KEY~⍨∪∊DAY7\n",
    "assert 877=Part2"
   ]
  },
  {
   "cell_type": "markdown",
   "metadata": {},
   "source": [
    "### Day 8: Memory Maneuver\n",
    "https://adventofcode.com/2018/day/8\n",
    "\n",
    "Release the recursions!"
   ]
  },
  {
   "cell_type": "code",
   "execution_count": 99,
   "metadata": {},
   "outputs": [],
   "source": [
    "DAY8←⍎line'data/2018/08.txt'"
   ]
  },
  {
   "cell_type": "code",
   "execution_count": 100,
   "metadata": {},
   "outputs": [],
   "source": [
    "get←{v←DAY8[CUR+⍳⍵]⋄CUR+←⍵⋄v}"
   ]
  },
  {
   "cell_type": "code",
   "execution_count": 101,
   "metadata": {},
   "outputs": [],
   "source": [
    "Day8p1←{(chc mtc)←get 2⋄ch←⍬ {⍵=0:⍺⋄(⍺,Day8p1⍬)∇⍵-1} chc⋄⊂ch (get mtc)}"
   ]
  },
  {
   "cell_type": "code",
   "execution_count": 102,
   "metadata": {},
   "outputs": [
    {
     "data": {
      "text/html": [
       "<span style=\"white-space:pre; font-family: monospace\">     \n",
       "44838\n",
       "     \n",
       "</span>"
      ]
     },
     "execution_count": 102,
     "metadata": {},
     "output_type": "execute_result"
    }
   ],
   "source": [
    "CUR←0\n",
    "⊢Part1←+/∊TREE←Day8p1⍬\n",
    "assert 44838=Part1"
   ]
  },
  {
   "cell_type": "code",
   "execution_count": 103,
   "metadata": {},
   "outputs": [],
   "source": [
    "Day8p2←{(ch mt)←⍵⋄0=≢ch:+/mt⋄ind←¯1+mt~0⋄+/∇¨ch[(ind<≢ch)/ind]}"
   ]
  },
  {
   "cell_type": "code",
   "execution_count": 104,
   "metadata": {},
   "outputs": [
    {
     "data": {
      "text/html": [
       "<span style=\"white-space:pre; font-family: monospace\">     \n",
       "22198\n",
       "     \n",
       "</span>"
      ]
     },
     "execution_count": 104,
     "metadata": {},
     "output_type": "execute_result"
    }
   ],
   "source": [
    "⊢Part2←Day8p2 ⊃TREE\n",
    "assert 22198=Part2"
   ]
  },
  {
   "cell_type": "code",
   "execution_count": null,
   "metadata": {},
   "outputs": [],
   "source": []
  }
 ],
 "metadata": {
  "kernelspec": {
   "display_name": "Dyalog APL",
   "language": "apl",
   "name": "dyalog-kernel"
  },
  "language_info": {
   "file_extension": ".apl",
   "mimetype": "text/apl",
   "name": "APL"
  }
 },
 "nbformat": 4,
 "nbformat_minor": 2
}
