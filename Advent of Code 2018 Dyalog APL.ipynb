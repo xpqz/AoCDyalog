{
 "cells": [
  {
   "cell_type": "markdown",
   "metadata": {},
   "source": [
    "# Advent of Code 2018, Dyalog APL edition\n",
    "\n",
    "To see a correct render of this notebook, check it out on [nbviewer](https://nbviewer.jupyter.org/github/xpqz/AoCDyalog/blob/master/Advent%20of%20Code%202018%20Dyalog%20APL.ipynb).\n",
    "\n",
    "Annotated solutions in Dyalog APL.\n",
    "\n",
    "Note that part of the charm of AoC is that every user (or at least groups of users) gets their own unique data set. Some of the solutions below exploit quirks in my particular data set, and so may conceivably not work for the general case."
   ]
  },
  {
   "cell_type": "code",
   "execution_count": 2,
   "metadata": {},
   "outputs": [
    {
     "data": {
      "text/html": [
       "<span style=\"white-space:pre; font-family: monospace\">┌→─────────────────────────────────────┐\n",
       "│Was ON -style=min -trains=tree -fns=on│\n",
       "└──────────────────────────────────────┘\n",
       "</span>"
      ]
     },
     "execution_count": 2,
     "metadata": {},
     "output_type": "execute_result"
    },
    {
     "data": {
      "text/html": [
       "<span style=\"white-space:pre; font-family: monospace\">┌→──────┐\n",
       "│Was OFF│\n",
       "└───────┘\n",
       "</span>"
      ]
     },
     "execution_count": 2,
     "metadata": {},
     "output_type": "execute_result"
    }
   ],
   "source": [
    "⍝ Helper functions and common settings\n",
    "⎕IO←0\n",
    "assert←{⍺←'assertion failure' ⋄ 0∊⍵:⍺ ⎕signal 8 ⋄ shy←0}\n",
    "lines←{⊃⎕NGET ⍵ 1}\n",
    "ilines←{⍎¨lines ⍵}\n",
    "line←{⊃lines ⍵}\n",
    "sorted←{⍵[⍋⍵]}\n",
    "sortbycol←⊢⌷⍨∘⊂∘⍒⌷⍤1\n",
    "pairs←{↓(2÷⍨≢⍵) 2⍴⍵}\n",
    "]box on -style=max -trains=tree -fns=on\n",
    "]rows on"
   ]
  },
  {
   "cell_type": "markdown",
   "metadata": {},
   "source": [
    "### Day 1: Chronal Calibration\n",
    "https://adventofcode.com/2018/day/1"
   ]
  },
  {
   "cell_type": "code",
   "execution_count": 39,
   "metadata": {},
   "outputs": [],
   "source": [
    "DAY1←ilines'data/2018/01.txt'"
   ]
  },
  {
   "cell_type": "code",
   "execution_count": 87,
   "metadata": {},
   "outputs": [
    {
     "data": {
      "text/html": [
       "<span style=\"white-space:pre; font-family: monospace\">   \n",
       "477\n",
       "   \n",
       "</span>"
      ]
     },
     "execution_count": 87,
     "metadata": {},
     "output_type": "execute_result"
    }
   ],
   "source": [
    "⊢Part1←+/DAY1\n",
    "assert 477=Part1"
   ]
  },
  {
   "cell_type": "markdown",
   "metadata": {},
   "source": [
    "For part 2 we're looking for the first frequency to recur. If we get to the end, take the last value and use that as the start value for the next iteration. We look for the first duplicate using Dyalog's [unique mask](https://aplwiki.com/wiki/Nub_Sieve) function (monadic `≠`), introduced in v18."
   ]
  },
  {
   "cell_type": "code",
   "execution_count": 32,
   "metadata": {},
   "outputs": [],
   "source": [
    "Day1p2←{t←⍬⋄0{t,←1↓+\\⍺,⍵⋄1=≢e←t[⍸<\\~≠t]:⊃e⋄⍵∇⍨⊃¯1↑t}⍵}"
   ]
  },
  {
   "cell_type": "code",
   "execution_count": 86,
   "metadata": {},
   "outputs": [
    {
     "data": {
      "text/html": [
       "<span style=\"white-space:pre; font-family: monospace\">   \n",
       "390\n",
       "   \n",
       "</span>"
      ]
     },
     "execution_count": 86,
     "metadata": {},
     "output_type": "execute_result"
    }
   ],
   "source": [
    "⊢Part2←Day1p2 DAY1\n",
    "assert 390=Part2"
   ]
  },
  {
   "cell_type": "markdown",
   "metadata": {},
   "source": [
    "### Day 2: Inventory Management System\n",
    "https://adventofcode.com/2018/day/2"
   ]
  },
  {
   "cell_type": "code",
   "execution_count": 85,
   "metadata": {},
   "outputs": [
    {
     "data": {
      "text/html": [
       "<span style=\"white-space:pre; font-family: monospace\">    \n",
       "8118\n",
       "    \n",
       "</span>"
      ]
     },
     "execution_count": 85,
     "metadata": {},
     "output_type": "execute_result"
    }
   ],
   "source": [
    "⊢Part1←×/+/⍉↑2 3∘∊¨(≢⊢)⌸¨DAY2←lines'data/2018/02.txt'\n",
    "assert 8118=Part1"
   ]
  },
  {
   "cell_type": "code",
   "execution_count": 84,
   "metadata": {},
   "outputs": [
    {
     "data": {
      "text/html": [
       "<span style=\"white-space:pre; font-family: monospace\">┌→────────────────────────┐\n",
       "│jbbenqtlaxhivmwyscjukztdp│\n",
       "└─────────────────────────┘\n",
       "</span>"
      ]
     },
     "execution_count": 84,
     "metadata": {},
     "output_type": "execute_result"
    }
   ],
   "source": [
    "⊢Part2←(=⌿l)/0⌷l←↑DAY2[⍸{1∊⍵}¨↓DAY2∘.{+/≠/⍺,⍪⍵}DAY2]\n",
    "assert 'jbbenqtlaxhivmwyscjukztdp'≡Part2"
   ]
  },
  {
   "cell_type": "markdown",
   "metadata": {},
   "source": [
    "### Day 3: No Matter How You Slice It\n",
    "https://adventofcode.com/2018/day/3"
   ]
  },
  {
   "cell_type": "code",
   "execution_count": 128,
   "metadata": {},
   "outputs": [],
   "source": [
    "DAY3←⍎¨¨'\\d+'⎕s'&'¨lines'data/2018/03.txt'"
   ]
  },
  {
   "cell_type": "code",
   "execution_count": 152,
   "metadata": {},
   "outputs": [],
   "source": [
    "R←1000 1000⍴0⋄_←{R[⍵]+←1}¨CL←{,((2⊃⍵)+⍳4⊃⍵)∘.,((1⊃⍵)+⍳3⌷⍵)}¨DAY3 ⍝ Convert origin + dx dy to coord pairs"
   ]
  },
  {
   "cell_type": "code",
   "execution_count": 153,
   "metadata": {},
   "outputs": [
    {
     "data": {
      "text/html": [
       "<span style=\"white-space:pre; font-family: monospace\">      \n",
       "104126\n",
       "      \n",
       "</span>"
      ]
     },
     "execution_count": 153,
     "metadata": {},
     "output_type": "execute_result"
    }
   ],
   "source": [
    "⊢Part1←+/2≤∊R\n",
    "assert 104126=Part1"
   ]
  },
  {
   "cell_type": "code",
   "execution_count": 154,
   "metadata": {},
   "outputs": [
    {
     "data": {
      "text/html": [
       "<span style=\"white-space:pre; font-family: monospace\">   \n",
       "695\n",
       "   \n",
       "</span>"
      ]
     },
     "execution_count": 154,
     "metadata": {},
     "output_type": "execute_result"
    }
   ],
   "source": [
    "⊢Part2←1+⊃⍸{∧/1=R[⍵]}¨CL ⍝ Claim numbers are 1-indexed, so need to add 1\n",
    "assert 695=Part2          "
   ]
  },
  {
   "cell_type": "markdown",
   "metadata": {},
   "source": [
    "### Day 4: Repose Record\n",
    "https://adventofcode.com/2018/day/4\n",
    "\n",
    "Basically a series of set operations -- sort based on date, then split and merge into chunks based on each guard's log lines. Pair up into sleep-wake pairs and expand into the corresponding minute range. We can then use key `⌸` to find the most frequent minute for the guard with the most sleep minutes.\n",
    "\n",
    "The regex\n",
    "\n",
    "   '(?|.*(#\\d+).*|.*:(\\d\\d)).*'\n",
    "   \n",
    "is a _branch reset_ `(?| ...|... )`, which means that the result of whichever of the two branches that matches can be referred to as `\\1` in the replacement."
   ]
  },
  {
   "cell_type": "code",
   "execution_count": 118,
   "metadata": {},
   "outputs": [],
   "source": [
    "'iotag'⎕CY'dfns'\n",
    "DAY4←sorted lines'data/2018/04.txt'"
   ]
  },
  {
   "cell_type": "code",
   "execution_count": 119,
   "metadata": {},
   "outputs": [],
   "source": [
    "parsed←'(?|.*(#\\d+).*|.*:(\\d\\d)).*'⎕r'\\1'⊢DAY4 ⍝ Pick out guard number, and minutes for each sleep/wake item"
   ]
  },
  {
   "cell_type": "code",
   "execution_count": 120,
   "metadata": {},
   "outputs": [],
   "source": [
    "guards←{0⊃0⊃⍵}¨merged←(≠{⍎1↓0⊃⍵}¨grouped)⊂grouped←sorted parsed⊂⍨'#'∘(1∊⍷)¨parsed"
   ]
  },
  {
   "cell_type": "code",
   "execution_count": 121,
   "metadata": {},
   "outputs": [],
   "source": [
    "sleepiest←⊃⍒≢¨sleep←{∊{(⍎⍺) iotag ¯1+⍎⍵}/↑⍵}¨pairs¨{⊃,/{1↓⍵}¨⍵}¨merged"
   ]
  },
  {
   "cell_type": "code",
   "execution_count": 122,
   "metadata": {},
   "outputs": [
    {
     "data": {
      "text/html": [
       "<span style=\"white-space:pre; font-family: monospace\">      \n",
       "138280\n",
       "      \n",
       "</span>"
      ]
     },
     "execution_count": 122,
     "metadata": {},
     "output_type": "execute_result"
    }
   ],
   "source": [
    "⊢Part1←(⍎1↓sleepiest⊃guards)×⊃((⊣/⊢⍤/⍨∘(⌈/=⊢)⊢/){⍺(≢⍵)}⌸)sleepiest⊃sleep\n",
    "assert 138280=Part1"
   ]
  },
  {
   "cell_type": "markdown",
   "metadata": {},
   "source": [
    "For part 2, we seek the guard which has the highest minute sleep frequency. We have most of the parts already."
   ]
  },
  {
   "cell_type": "code",
   "execution_count": 412,
   "metadata": {},
   "outputs": [],
   "source": [
    "f←⊃⍒{⌈/1⌷⍉⍵}¨freq←({⍺,(≢⍵)}⌸)¨sleep"
   ]
  },
  {
   "cell_type": "code",
   "execution_count": 417,
   "metadata": {},
   "outputs": [
    {
     "data": {
      "text/html": [
       "<span style=\"white-space:pre; font-family: monospace\">     \n",
       "89347\n",
       "     \n",
       "</span>"
      ]
     },
     "execution_count": 417,
     "metadata": {},
     "output_type": "execute_result"
    }
   ],
   "source": [
    "⊢Part2←(⍎1↓f⊃guards)×⊃(⊣/⊢⍤/⍨∘(⌈/=⊢)⊢/)f⊃freq\n",
    "assert 89347=Part2"
   ]
  },
  {
   "cell_type": "markdown",
   "metadata": {},
   "source": [
    "### Day 5: Alchemical Reduction\n",
    "https://adventofcode.com/2018/day/5"
   ]
  },
  {
   "cell_type": "code",
   "execution_count": null,
   "metadata": {},
   "outputs": [],
   "source": [
    "DAY5←line'data/2018/05.txt'"
   ]
  },
  {
   "cell_type": "code",
   "execution_count": 418,
   "metadata": {},
   "outputs": [],
   "source": [
    "r←∊'|'(1↓∘,,⍤0)p,⌽¨p←(⎕C⎕A),¨⎕A ⍝ Make the regex aA|Aa|bB|Bb ... etc"
   ]
  },
  {
   "cell_type": "code",
   "execution_count": 433,
   "metadata": {},
   "outputs": [
    {
     "data": {
      "text/html": [
       "<span style=\"white-space:pre; font-family: monospace\">    \n",
       "9172\n",
       "    \n",
       "</span>"
      ]
     },
     "execution_count": 433,
     "metadata": {},
     "output_type": "execute_result"
    }
   ],
   "source": [
    "⊢Part1←≢{r⎕r''⊢⍵}⍣≡⊢DAY5        ⍝ Apply regex replace until no change\n",
    "assert 9172=Part1"
   ]
  },
  {
   "cell_type": "code",
   "execution_count": 435,
   "metadata": {},
   "outputs": [
    {
     "data": {
      "text/html": [
       "<span style=\"white-space:pre; font-family: monospace\">    \n",
       "6550\n",
       "    \n",
       "</span>"
      ]
     },
     "execution_count": 435,
     "metadata": {},
     "output_type": "execute_result"
    }
   ],
   "source": [
    "⊢Part2←⌊/{≢{r⎕r''⊢⍵}⍣≡⊢(⍵⎕r''⍠'IC'1)DAY5}¨⎕A ⍝ This several minutes to run\n",
    "assert 6550=Part2"
   ]
  },
  {
   "cell_type": "markdown",
   "metadata": {},
   "source": [
    "### Day 6: Chronal Coordinates\n",
    "https://adventofcode.com/2018/day/6\n",
    "\n",
    "This problem is very suited to an array language like APL. We create a 3D matrix where each major cell is a 2D matrix holding the manhattan distances from each point to the input coordinate. We can then process this along the z-axis to pick the layer index of the smallest distance. That gives us a \"Nearest\" map. What remains is to remove any \"infinites\", defined as the numbers which occur along any edge of the \"Nearest\" map, and finally find the highest frequency. \n",
    "\n",
    "The Python [solution](https://github.com/xpqz/aoc-18/blob/master/day6.py) is considerably longer and slower."
   ]
  },
  {
   "cell_type": "code",
   "execution_count": 128,
   "metadata": {},
   "outputs": [],
   "source": [
    "⎕io←0\n",
    "DAY6←⍎¨lines'data/2018/06.txt'"
   ]
  },
  {
   "cell_type": "code",
   "execution_count": 129,
   "metadata": {},
   "outputs": [],
   "source": [
    "(XMAX YMAX)←⊃↓⍉↑⌈/DAY6"
   ]
  },
  {
   "cell_type": "markdown",
   "metadata": {},
   "source": [
    "For each of the 50 points, make an array where each value is the MHD from the point."
   ]
  },
  {
   "cell_type": "code",
   "execution_count": 130,
   "metadata": {},
   "outputs": [],
   "source": [
    "MHD←{+/|⍵-⍺}\n",
    "Dist←{YMAX XMAX⍴⍵∘MHD¨,⍳YMAX XMAX}"
   ]
  },
  {
   "cell_type": "markdown",
   "metadata": {},
   "source": [
    "Create the nearest distance map. A small hoop to jump through: points that are equidistant to several coordinates should be removed. We set those to ¯1."
   ]
  },
  {
   "cell_type": "code",
   "execution_count": 131,
   "metadata": {},
   "outputs": [],
   "source": [
    "Nearest←{v←⍋⍵⋄⍵[v[0]]=⍵[v[1]]:¯1⋄⊃v}¨↓[0]↑Dist¨⌽¨DAY6 ⍝ Flip each input pair so we have (y x)"
   ]
  },
  {
   "cell_type": "markdown",
   "metadata": {},
   "source": [
    "Remove any items touching the boundaries of the array, as they're 'infinite'."
   ]
  },
  {
   "cell_type": "code",
   "execution_count": 132,
   "metadata": {},
   "outputs": [
    {
     "data": {
      "text/html": [
       "<span style=\"white-space:pre; font-family: monospace\">    \n",
       "3989\n",
       "    \n",
       "</span>"
      ]
     },
     "execution_count": 132,
     "metadata": {},
     "output_type": "execute_result"
    }
   ],
   "source": [
    "⊢Part1←1⊃0⌷1 sortbycol{⍺(≢⍵)}⌸(∊Nearest)~∪Nearest[⍸(⌽∨⊖)0∊¨⍳⍴Nearest]\n",
    "assert 3989=Part1"
   ]
  },
  {
   "cell_type": "markdown",
   "metadata": {},
   "source": [
    "For part 2, we instead seek the set of points that each have a combined MHD to all coords < 10,000."
   ]
  },
  {
   "cell_type": "code",
   "execution_count": 133,
   "metadata": {},
   "outputs": [
    {
     "data": {
      "text/html": [
       "<span style=\"white-space:pre; font-family: monospace\">     \n",
       "49715\n",
       "     \n",
       "</span>"
      ]
     },
     "execution_count": 133,
     "metadata": {},
     "output_type": "execute_result"
    }
   ],
   "source": [
    "⊢Part2←+/{10000>+/⍵∘MHD¨DAY6}¨,⍳YMAX XMAX\n",
    "assert 49715=Part2"
   ]
  },
  {
   "cell_type": "markdown",
   "metadata": {},
   "source": [
    "### Day 7: The Sum of Its Parts\n",
    "https://adventofcode.com/2018/day/7\n",
    "\n",
    "We have a graph which we need to traverse in a specific child-order - sorting the queue each iteration is a somewhat inefficient approach, but as the number of nodes is tiny it doesn't really matter."
   ]
  },
  {
   "cell_type": "code",
   "execution_count": 123,
   "metadata": {},
   "outputs": [],
   "source": [
    "DAY7←'^.+?([A-Z]).*([A-Z]).*$'⎕r'\\1\\2'⊢lines'data/2018/07.txt'"
   ]
  },
  {
   "cell_type": "code",
   "execution_count": 124,
   "metadata": {},
   "outputs": [],
   "source": [
    "(KEY PRE)←↓⍉↑(↓⊃¨,∘⊂⌸⊢/¨)↓⌽↑DAY7 ⍝ Make the graph - splitting out nodes and their ascendants"
   ]
  },
  {
   "cell_type": "code",
   "execution_count": 125,
   "metadata": {},
   "outputs": [],
   "source": [
    "Day7p1←{0=≢⍵:⍺⋄(⍺,p)∇(⍺,p)~⍨sorted ⍵∪{KEY/⍨⍵∘{∧/⍵∊⍺}¨PRE} ⍺,p←⊃⍵}"
   ]
  },
  {
   "cell_type": "code",
   "execution_count": 126,
   "metadata": {},
   "outputs": [
    {
     "data": {
      "text/html": [
       "<span style=\"white-space:pre; font-family: monospace\">┌→─────────────────────────┐\n",
       "│BHMOTUFLCPQKWINZVRXAJDSYEG│\n",
       "└──────────────────────────┘\n",
       "</span>"
      ]
     },
     "execution_count": 126,
     "metadata": {},
     "output_type": "execute_result"
    }
   ],
   "source": [
    "⊢Part1←⍬ Day7p1 sorted KEY~⍨∪∊DAY7\n",
    "assert 'BHMOTUFLCPQKWINZVRXAJDSYEG'≡Part1"
   ]
  },
  {
   "cell_type": "markdown",
   "metadata": {},
   "source": [
    "Part 2 -- process items concurrently in a worker pool of 5. Each job now takes 60 + a number corresponding to the item's position in the alphabet (A=60+1, B=60+2 etc). Replaces 200+ lines of my Python [solution](https://github.com/xpqz/aoc-18/blob/master/day7.py)."
   ]
  },
  {
   "cell_type": "code",
   "execution_count": 127,
   "metadata": {},
   "outputs": [],
   "source": [
    "Workers←{0=slots←5-≢⍺:⍺⋄⍺,{⍵,⍨61+⎕A⍳⍵}¨(slots⌊≢⍵)↑⍵}"
   ]
  },
  {
   "cell_type": "code",
   "execution_count": 130,
   "metadata": {},
   "outputs": [],
   "source": [
    "]dinput\n",
    "Day7p2←{\n",
    "    wrk←⍬ ⋄ sec←0\n",
    "    ⍬ {\n",
    "        (0=≢⍵)∧0=≢wrk:sec\n",
    "        (remains jobs)←↓⍉↑wrk⊢←¯1∘+@0¨wrk Workers ⍵ ⍝ Fill any available slots and 'tick'\n",
    "        wrk⊢←wrk/⍨0≠remains                         ⍝ Reap any dead worker processes\n",
    "        sec+←1\n",
    "        (⍺,sorted ready)∇(⍺,jobs)~⍨⍵∪{KEY/⍨⍵∘{∧/⍵∊⍺}¨PRE}⍺,ready←jobs/⍨0=remains\n",
    "    } ⍵\n",
    "}"
   ]
  },
  {
   "cell_type": "code",
   "execution_count": 131,
   "metadata": {},
   "outputs": [
    {
     "data": {
      "text/html": [
       "<span style=\"white-space:pre; font-family: monospace\">   \n",
       "877\n",
       "   \n",
       "</span>"
      ]
     },
     "execution_count": 131,
     "metadata": {},
     "output_type": "execute_result"
    }
   ],
   "source": [
    "⊢Part2←Day7p2 sorted KEY~⍨∪∊DAY7\n",
    "assert 877=Part2"
   ]
  },
  {
   "cell_type": "markdown",
   "metadata": {},
   "source": [
    "### Day 8: Memory Maneuver\n",
    "https://adventofcode.com/2018/day/8\n",
    "\n",
    "Release the recursions!"
   ]
  },
  {
   "cell_type": "code",
   "execution_count": 99,
   "metadata": {},
   "outputs": [],
   "source": [
    "DAY8←⍎line'data/2018/08.txt'"
   ]
  },
  {
   "cell_type": "code",
   "execution_count": 100,
   "metadata": {},
   "outputs": [],
   "source": [
    "get←{v←DAY8[CUR+⍳⍵]⋄CUR+←⍵⋄v} ⍝ Poor-man's generator"
   ]
  },
  {
   "cell_type": "code",
   "execution_count": 101,
   "metadata": {},
   "outputs": [],
   "source": [
    "Day8p1←{(chc mtc)←get 2⋄ch←⍬ {⍵=0:⍺⋄(⍺,Day8p1⍬)∇⍵-1} chc⋄⊂ch (get mtc)}"
   ]
  },
  {
   "cell_type": "code",
   "execution_count": 102,
   "metadata": {},
   "outputs": [
    {
     "data": {
      "text/html": [
       "<span style=\"white-space:pre; font-family: monospace\">     \n",
       "44838\n",
       "     \n",
       "</span>"
      ]
     },
     "execution_count": 102,
     "metadata": {},
     "output_type": "execute_result"
    }
   ],
   "source": [
    "CUR←0\n",
    "⊢Part1←+/∊TREE←Day8p1⍬\n",
    "assert 44838=Part1"
   ]
  },
  {
   "cell_type": "code",
   "execution_count": 103,
   "metadata": {},
   "outputs": [],
   "source": [
    "Day8p2←{(ch mt)←⍵⋄0=≢ch:+/mt⋄ind←¯1+mt~0⋄+/∇¨ch[(ind<≢ch)/ind]}"
   ]
  },
  {
   "cell_type": "code",
   "execution_count": 104,
   "metadata": {},
   "outputs": [
    {
     "data": {
      "text/html": [
       "<span style=\"white-space:pre; font-family: monospace\">     \n",
       "22198\n",
       "     \n",
       "</span>"
      ]
     },
     "execution_count": 104,
     "metadata": {},
     "output_type": "execute_result"
    }
   ],
   "source": [
    "⊢Part2←Day8p2 ⊃TREE\n",
    "assert 22198=Part2"
   ]
  },
  {
   "cell_type": "markdown",
   "metadata": {},
   "source": [
    "### Day 9: Marble Mania\n",
    "https://adventofcode.com/2018/day/9\n",
    "\n",
    "This will tax systems that are O(N) for vector insert or delete. We need a structure that's O(1) for both insert and delete for part 2 at least, here in the shape of a bi-directional linked list. Ugly, but does the job."
   ]
  },
  {
   "cell_type": "code",
   "execution_count": 60,
   "metadata": {},
   "outputs": [],
   "source": [
    "ELVES←430⍴0\n",
    "CIRCLE←{⍵⊣⍵.(v l r pos start)←(,0) (,0) (,0) 0 0}⎕NS'' "
   ]
  },
  {
   "cell_type": "code",
   "execution_count": 42,
   "metadata": {},
   "outputs": [],
   "source": [
    "val←{⍵.pos⊃⍵.v}\n",
    "rev7←{l←⍵ ⋄ {⍵=¯1:l ⋄ l.pos←l.pos⊃l.l ⋄ ∇ ⍵-1}7}\n",
    "fwd←{⍵.pos←⍵.pos⊃⍵.r⋄⍵}\n",
    "twenty3←{v←val rev7 CIRCLE⋄_←fwd del CIRCLE⋄ELVES[⍺]+←⍵+v⋄⍬}"
   ]
  },
  {
   "cell_type": "code",
   "execution_count": 43,
   "metadata": {},
   "outputs": [],
   "source": [
    "]dinput\n",
    "add←{\n",
    "    ⍺.v,←⍵\n",
    "    ⍺.l,←⍺.pos\n",
    "    ⍺.r,←right←⍺.pos⊃⍺.r\n",
    "    ⍺.pos←⍺.l[right]←⍺.r[⍺.pos]←¯1+≢⍺.v\n",
    "    ⍺\n",
    "}"
   ]
  },
  {
   "cell_type": "code",
   "execution_count": 44,
   "metadata": {},
   "outputs": [],
   "source": [
    "]dinput\n",
    "del←{\n",
    "    left←⍵.pos⊃⍵.l\n",
    "    ⍵.r[left]←right←⍵.pos⊃⍵.r\n",
    "    ⍵.l[right]←left\n",
    "    ⍵.pos=⍵.start:⊢⍵.pos←⍵.start←right\n",
    "    ⍵.pos←right\n",
    "    ⍵\n",
    "}"
   ]
  },
  {
   "cell_type": "code",
   "execution_count": 61,
   "metadata": {},
   "outputs": [],
   "source": [
    "]dinput\n",
    "Day9←{\n",
    "    max←⍵\n",
    "    0 {\n",
    "        max<⍵:⌈/ELVES\n",
    "        0=23|⍵:((≢ELVES)|⍺+1)∇(⍵+1)⊣⍺ twenty3 ⍵\n",
    "        _←fwd CIRCLE add ⍵\n",
    "        ((≢ELVES)|⍺+1)∇⍵+1\n",
    "    } 1\n",
    "}"
   ]
  },
  {
   "cell_type": "code",
   "execution_count": 62,
   "metadata": {},
   "outputs": [
    {
     "data": {
      "text/html": [
       "<span style=\"white-space:pre; font-family: monospace\">      \n",
       "422748\n",
       "      \n",
       "</span>"
      ]
     },
     "execution_count": 62,
     "metadata": {},
     "output_type": "execute_result"
    }
   ],
   "source": [
    "⊢Part1←Day9 71588\n",
    "assert 422748=Part1"
   ]
  },
  {
   "cell_type": "markdown",
   "metadata": {},
   "source": [
    "For part 2, we're asked to increase the marble count by two orders of magnitude."
   ]
  },
  {
   "cell_type": "code",
   "execution_count": 58,
   "metadata": {},
   "outputs": [],
   "source": [
    "ELVES←430⍴0\n",
    "CIRCLE←{⍵⊣⍵.(v l r pos start)←(,0) (,0) (,0) 0 0}⎕NS''"
   ]
  },
  {
   "cell_type": "code",
   "execution_count": 59,
   "metadata": {},
   "outputs": [
    {
     "data": {
      "text/html": [
       "<span style=\"white-space:pre; font-family: monospace\">          \n",
       "3412522480\n",
       "          \n",
       "</span>"
      ]
     },
     "execution_count": 59,
     "metadata": {},
     "output_type": "execute_result"
    }
   ],
   "source": [
    "⎕PP←11                     ⍝ Up the precision limit for printing floats\n",
    "⊢Part2←Day9 7158800        ⍝ Takes ~15s to run\n",
    "assert 3412522480=Part2"
   ]
  },
  {
   "cell_type": "markdown",
   "metadata": {},
   "source": [
    "### Day 10: The Stars Align\n",
    "https://adventofcode.com/2018/day/10\n",
    "\n",
    "Back on solid array footing for day 10 - a task ideally suited for APL. Repeatedly add the velocity vector until the bounding box of the points no longer decreases."
   ]
  },
  {
   "cell_type": "code",
   "execution_count": 74,
   "metadata": {},
   "outputs": [],
   "source": [
    "⎕IO←0\n",
    "DAY10←↑⍎¨¨'(-?\\d+)'⎕s'\\1'¨lines'data/2018/10.txt'"
   ]
  },
  {
   "cell_type": "code",
   "execution_count": 75,
   "metadata": {},
   "outputs": [],
   "source": [
    "POS←,/DAY10[;0 1]⋄DELTA←,/DAY10[;2 3]"
   ]
  },
  {
   "cell_type": "code",
   "execution_count": 76,
   "metadata": {},
   "outputs": [],
   "source": [
    "Bbox←{+/|-⌿2 2⍴(⌊⌿,⌈⌿)↑⍵} ⍝ Width + height of bounding box"
   ]
  },
  {
   "cell_type": "code",
   "execution_count": 77,
   "metadata": {},
   "outputs": [],
   "source": [
    "MSG←DELTA-⍨DELTA∘{⍵+⍺}⍣{(Bbox ⍺)>Bbox ⍵}⊢POS ⍝ Add velocity until bounding box no longer decreases."
   ]
  },
  {
   "cell_type": "code",
   "execution_count": 78,
   "metadata": {},
   "outputs": [],
   "source": [
    "(W H)←|-⌿2 2⍴(⌊⌿,⌈⌿)↑MSG ⍝ Width and height of bounding box"
   ]
  },
  {
   "cell_type": "code",
   "execution_count": 79,
   "metadata": {},
   "outputs": [
    {
     "data": {
      "text/html": [
       "<span style=\"white-space:pre; font-family: monospace\">┌→─────────────────────────────────────────────────────────────┐\n",
       "↓******  *****   *****   *****   *****   *****   ******    **  │\n",
       "│*       *    *  *    *  *    *  *    *  *    *       *   *  * │\n",
       "│*       *    *  *    *  *    *  *    *  *    *       *  *    *│\n",
       "│*       *    *  *    *  *    *  *    *  *    *      *   *    *│\n",
       "│*****   *****   *****   *****   *****   *****      *    *    *│\n",
       "│*       *       *  *    *    *  *  *    *  *      *     ******│\n",
       "│*       *       *   *   *    *  *   *   *   *    *      *    *│\n",
       "│*       *       *   *   *    *  *   *   *   *   *       *    *│\n",
       "│*       *       *    *  *    *  *    *  *    *  *       *    *│\n",
       "│*       *       *    *  *****   *    *  *    *  ******  *    *│\n",
       "└──────────────────────────────────────────────────────────────┘\n",
       "</span>"
      ]
     },
     "execution_count": 79,
     "metadata": {},
     "output_type": "execute_result"
    }
   ],
   "source": [
    "⍉(-(W+1))↑⍉(-(H+1))↑'*'@(⊖¨MSG)⊢143 203⍴' ' ⍝ Prune our display: FPRBRRZA"
   ]
  },
  {
   "cell_type": "markdown",
   "metadata": {},
   "source": [
    "Part 2: how many iterations was that?"
   ]
  },
  {
   "cell_type": "code",
   "execution_count": 80,
   "metadata": {},
   "outputs": [],
   "source": [
    "I←0\n",
    "_←DELTA∘{⍵+⍺}⍣{I+←1⋄(Bbox ⍺)>Bbox ⍵}⊢POS"
   ]
  },
  {
   "cell_type": "code",
   "execution_count": 81,
   "metadata": {},
   "outputs": [
    {
     "data": {
      "text/html": [
       "<span style=\"white-space:pre; font-family: monospace\">     \n",
       "10027\n",
       "     \n",
       "</span>"
      ]
     },
     "execution_count": 81,
     "metadata": {},
     "output_type": "execute_result"
    }
   ],
   "source": [
    "⊢Part2←I-1\n",
    "assert 10027=Part2"
   ]
  },
  {
   "cell_type": "markdown",
   "metadata": {},
   "source": [
    "### Day 11: Chronal Charge\n",
    "https://adventofcode.com/2018/day/11\n",
    "\n",
    "More APL home court advantage here."
   ]
  },
  {
   "cell_type": "code",
   "execution_count": 142,
   "metadata": {},
   "outputs": [],
   "source": [
    "⎕IO←1        ⍝ Note: 1-based indexing\n",
    "DAY11←7803"
   ]
  },
  {
   "cell_type": "code",
   "execution_count": 143,
   "metadata": {},
   "outputs": [],
   "source": [
    "P←{¯5+1⊃10 10 10⊤rack×DAY11+⍺×rack←⍵+10} ⍝ The power function, as defined by the question"
   ]
  },
  {
   "cell_type": "markdown",
   "metadata": {},
   "source": [
    "We apply the power function P to a 300×300 grid and then use stencil to define all 3×3 neighbourhoods which we then sum up. Note that stencil used this way creates neighbourhoods that straddle the boundaries, so we need to subtract 1,1 from the result. To be completely general we should probably have excluded these boundary neighbourhoods."
   ]
  },
  {
   "cell_type": "code",
   "execution_count": 144,
   "metadata": {},
   "outputs": [],
   "source": [
    "G←300 300⍴P/↑,⍳300 300\n",
    "SUM←{+/,⍵}⌺3 3⊢G"
   ]
  },
  {
   "cell_type": "code",
   "execution_count": 145,
   "metadata": {},
   "outputs": [],
   "source": [
    "MAX←⌈/,SUM"
   ]
  },
  {
   "cell_type": "code",
   "execution_count": 146,
   "metadata": {},
   "outputs": [
    {
     "data": {
      "text/html": [
       "<span style=\"white-space:pre; font-family: monospace\">┌→────┐\n",
       "│20 51│\n",
       "└~────┘\n",
       "</span>"
      ]
     },
     "execution_count": 146,
     "metadata": {},
     "output_type": "execute_result"
    }
   ],
   "source": [
    "⊢Part1←¯1+⊖⊃⍸MAX⍷SUM ⍝ Question specifically asks for x,y so we flip the coordinate pair\n",
    "assert 20 51≡Part1   ⍝ Submittable result format: 20,51"
   ]
  },
  {
   "cell_type": "markdown",
   "metadata": {},
   "source": [
    "Part 2 asks us to find the neighbourhood of any size that gives the largest sum. There are possibly smart ways to achieve this, noting that we could reuse smaller neighbourhood sums when calculating larger ones. But let's start with the simple way, looking for some probable patterns."
   ]
  },
  {
   "cell_type": "markdown",
   "metadata": {},
   "source": [
    "Let's consider all regions up to 50×50 -- reasonably quick:"
   ]
  },
  {
   "cell_type": "code",
   "execution_count": 147,
   "metadata": {},
   "outputs": [
    {
     "data": {
      "text/html": [
       "<span style=\"white-space:pre; font-family: monospace\">┌→───────────────────────────────────────────────────────────────────────────────────────────────────────────────────────────────────────────────────────────────────────────────────────────┐\n",
       "│36 55 58 70 73 75 76 99 101 117 117 116 119 125 122 113 110 96 74 81 73 71 63 64 57 62 55 43 13 6 2 ¯6 ¯32 ¯52 ¯72 ¯79 ¯101 ¯108 ¯117 ¯117 ¯117 ¯117 ¯127 ¯127 ¯136 ¯136 ¯146 ¯146 ¯151 ¯151│\n",
       "└~───────────────────────────────────────────────────────────────────────────────────────────────────────────────────────────────────────────────────────────────────────────────────────────┘\n",
       "</span>"
      ]
     },
     "execution_count": 147,
     "metadata": {},
     "output_type": "execute_result"
    }
   ],
   "source": [
    "G∘{⌈/,{+/,⍵}⌺⍵ ⍵⊢⍺}¨3+⍳50"
   ]
  },
  {
   "cell_type": "markdown",
   "metadata": {},
   "source": [
    "We can see that the max sum (125) is at size 17, and then the values wobble downwards. So for part 2, we simply apply the same process as for part 1, but for a region size of 17×17, noting that we need to subtract 8,8 to skip the 17×17 neighbourhoods that aren't fully inside the boundary."
   ]
  },
  {
   "cell_type": "code",
   "execution_count": 148,
   "metadata": {},
   "outputs": [
    {
     "data": {
      "text/html": [
       "<span style=\"white-space:pre; font-family: monospace\">┌→──────┐\n",
       "│230 272│\n",
       "└~──────┘\n",
       "</span>"
      ]
     },
     "execution_count": 148,
     "metadata": {},
     "output_type": "execute_result"
    }
   ],
   "source": [
    "SUM←{+/,⍵}⌺17 17⊢G\n",
    "MAX←⌈/,SUM\n",
    "⊢Part2←¯8+⊖⊃⍸MAX⍷SUM  ⍝ Skip all neighbourhoods straddling a boundary\n",
    "assert 230 272≡Part2  ⍝ Submittable result format: 230,272,17"
   ]
  },
  {
   "cell_type": "markdown",
   "metadata": {},
   "source": [
    "### Day 12: Subterranean Sustainability\n",
    "https://adventofcode.com/2018/day/12"
   ]
  },
  {
   "cell_type": "code",
   "execution_count": 231,
   "metadata": {},
   "outputs": [],
   "source": [
    "⎕IO←0\n",
    "DAY12←'#'⎕R'1'¨'\\.'⎕R'0'¨lines'data/2018/12.txt'"
   ]
  },
  {
   "cell_type": "code",
   "execution_count": 232,
   "metadata": {},
   "outputs": [],
   "source": [
    "STATE←∊0 0,(⍎¨15↓0⊃DAY12),50⍴0 ⍝ Start state, as binary vector, padded a bit to the left and right\n",
    "PATT←⍎¨¨5↑¨2↓DAY12             ⍝ Rule pattern bodies, as binary vectors\n",
    "NEW←⍎¨¯1↑¨2↓DAY12              ⍝ Rule results as binary vector\n",
    "RULES←NEW[⍋2⊥¨PATT]            ⍝ Sort rule results by the patterns converted from binary to decimal 0-31"
   ]
  },
  {
   "cell_type": "markdown",
   "metadata": {},
   "source": [
    "The generational transform is now simply each overlapping binary 5-neighbourhood converted to decimal as indices into the RULES vector."
   ]
  },
  {
   "cell_type": "code",
   "execution_count": 233,
   "metadata": {},
   "outputs": [],
   "source": [
    "Next←{RULES[2⊥¨{⊂⍵}⌺5⊢⍵]}      ⍝ Transformation function"
   ]
  },
  {
   "cell_type": "markdown",
   "metadata": {},
   "source": [
    "Part 1: run for 20 generations and sum up the pot-numbers for pots containing live plants. Note: not the number of live plants!"
   ]
  },
  {
   "cell_type": "code",
   "execution_count": 235,
   "metadata": {},
   "outputs": [
    {
     "data": {
      "text/html": [
       "<span style=\"white-space:pre; font-family: monospace\">    \n",
       "3421\n",
       "    \n",
       "</span>"
      ]
     },
     "execution_count": 235,
     "metadata": {},
     "output_type": "execute_result"
    }
   ],
   "source": [
    "⊢Part1←+/¯2+⍸Next⍣20⊢STATE     ⍝ Remember to remove the left-side padding (¯2)\n",
    "assert 3421=Part1"
   ]
  },
  {
   "cell_type": "markdown",
   "metadata": {},
   "source": [
    "Part 2: FIDDY BEEEEEEELLLION iterations! Obviously need to look at some data dependency trick here. Working hypothesis: check for emergent stable pattern. \n",
    "\n",
    "The two simplest potential options are:\n",
    "\n",
    "1. Constant -- sum converges to constant value\n",
    "2. Constant change -- sum _change_ converges to constant value\n",
    "\n",
    "We can confirm that that the second case is what we have - let's look at the sums over time:"
   ]
  },
  {
   "cell_type": "code",
   "execution_count": 253,
   "metadata": {},
   "outputs": [],
   "source": [
    "P2STATE←∊0 0,(⍎¨15↓0⊃DAY12),200⍴0         ⍝ Give ourselves a bit more growth room to the right\n",
    "GENS←,+/¯2+⍸STATE\n",
    "_←{v←Next ⍵⋄GENS,←+/¯2+⍸v⋄v}⍣150⊢P2STATE  ⍝ 150 generations"
   ]
  },
  {
   "cell_type": "code",
   "execution_count": 254,
   "metadata": {},
   "outputs": [],
   "source": [
    "DIFFS←2-/GENS ⍝ Subtract current from previous; increases will show as negative"
   ]
  },
  {
   "cell_type": "markdown",
   "metadata": {},
   "source": [
    "If we inspect how the generational differences change over the generations, we can see that after the 97th generation, every subsequent step adds 51 to the value:"
   ]
  },
  {
   "cell_type": "code",
   "execution_count": 255,
   "metadata": {},
   "outputs": [
    {
     "data": {
      "text/html": [
       "<span style=\"white-space:pre; font-family: monospace\">┌→──────────────────────────────────────────────────────────────────────────────────────────────────────────────────────────────────────────────────────────────────────────────────────────────────────────────────┐\n",
       "│¯48 ¯51 ¯51 ¯51 ¯51 ¯51 ¯51 ¯51 ¯51 ¯51 ¯51 ¯51 ¯51 ¯51 ¯51 ¯51 ¯51 ¯51 ¯51 ¯51 ¯51 ¯51 ¯51 ¯51 ¯51 ¯51 ¯51 ¯51 ¯51 ¯51 ¯51 ¯51 ¯51 ¯51 ¯51 ¯51 ¯51 ¯51 ¯51 ¯51 ¯51 ¯51 ¯51 ¯51 ¯51 ¯51 ¯51 ¯51 ¯51 ¯51 ¯51 ¯51 ¯51│\n",
       "└~──────────────────────────────────────────────────────────────────────────────────────────────────────────────────────────────────────────────────────────────────────────────────────────────────────────────────┘\n",
       "</span>"
      ]
     },
     "execution_count": 255,
     "metadata": {},
     "output_type": "execute_result"
    }
   ],
   "source": [
    "97↓DIFFS"
   ]
  },
  {
   "cell_type": "code",
   "execution_count": 264,
   "metadata": {},
   "outputs": [
    {
     "data": {
      "text/html": [
       "<span style=\"white-space:pre; font-family: monospace\">             \n",
       "2550000001195\n",
       "             \n",
       "</span>"
      ]
     },
     "execution_count": 264,
     "metadata": {},
     "output_type": "execute_result"
    }
   ],
   "source": [
    "⎕PP←20\n",
    "⊢Part2←(98⊃GENS)+51×50000000000-98\n",
    "assert 2550000001195=Part2"
   ]
  },
  {
   "cell_type": "markdown",
   "metadata": {},
   "source": [
    "### Day 13: Mine Cart Madness\n",
    "https://adventofcode.com/2018/day/13"
   ]
  },
  {
   "cell_type": "code",
   "execution_count": 317,
   "metadata": {},
   "outputs": [],
   "source": [
    "DAY13←↑lines'data/2018/13.txt'"
   ]
  },
  {
   "cell_type": "markdown",
   "metadata": {},
   "source": [
    "Pick out the carts. \n",
    "\n",
    "We represent the compass bearings as 0, 1, 2, 3 for East, South, West and North respectively. The \"turn state\" for each cart defines its behaviour at intersections: left (0), straight (1), right (2)."
   ]
  },
  {
   "cell_type": "code",
   "execution_count": 318,
   "metadata": {},
   "outputs": [],
   "source": [
    "⍝ row, col, heading, turn state\n",
    "WEST ←(W←⍸'<'⍷DAY13),¨⊂0 0 1 2\n",
    "SOUTH←(S←⍸'v'⍷DAY13),¨⊂1 0 1 2\n",
    "EAST ←(E←⍸'>'⍷DAY13),¨⊂2 0 1 2\n",
    "NORTH←(N←⍸'^'⍷DAY13),¨⊂3 0 1 2"
   ]
  },
  {
   "cell_type": "markdown",
   "metadata": {},
   "source": [
    "\"Fill in\" the tiles the carts are sitting on. No cart is starting on an intersection or turn."
   ]
  },
  {
   "cell_type": "code",
   "execution_count": 319,
   "metadata": {},
   "outputs": [],
   "source": [
    "DAY13[W,E]←'-'\n",
    "DAY13[N,S]←'|'"
   ]
  },
  {
   "cell_type": "markdown",
   "metadata": {},
   "source": [
    "Part 1: what is the location of the first collision?\n",
    "Part 2: each time we detect a collision, remove the two \"wrecks\" and carry on - what is the location of the last remaining cart at the moment of the final collision? \n",
    "\n",
    "As most of the bits are the same for part 1 and part 2, we can solve both at once."
   ]
  },
  {
   "cell_type": "code",
   "execution_count": 339,
   "metadata": {},
   "outputs": [],
   "source": [
    "]dinput\n",
    "Day13←{\n",
    "    graph←⍺\n",
    "    loc←1@(↓(↑⍵)[;0 1])⊢150 150⍴0 ⍝ State: location of carts.\n",
    "    Next←{\n",
    "        dir←2⊃⍵ ⍝ Current bearing\n",
    "        Rot←{∊(4 3⍴1 0 3 2 1 0 3 2 1 0 3 2)[0⊃⍵;1⊃⍵],1⊖1↓⍵} ⍝ Return new bearing and turn state\n",
    "        \n",
    "        Step←{\n",
    "            ⍝ Move one step. Takes a left arg as a vector: dy dx turn1 turn2, and right arg a cart.\n",
    "            ⍝ Move as defined by unit vector (dy, dx). Turn1 and turn2 are \n",
    "            ⍝ the new bearings when landing on a \"/\" or \"\\\" respectively.\n",
    "            ⍝ Thus: 0 ¯1 1 3 means \"go one step east. If landing on \"/\", turn \n",
    "            ⍝ south. If \"\\\", turn north.\n",
    "            (dy dx slash backslash)←⍺\n",
    "            loc[0⊃⍵;1⊃⍵]-←1\n",
    "            pos←(dy+0⊃⍵),dx+1⊃⍵          ⍝ Step in stated direction\n",
    "            loc[0⊃pos;1⊃pos]+←1\n",
    "            tile←pos⌷graph               ⍝ Check the tile we landed on:\n",
    "            '/'=tile:∊pos,slash,3↓⍵        ⍝ Turn: /\n",
    "            '\\'=tile:∊pos,backslash,3↓⍵    ⍝ Turn: \\\n",
    "            '+'=tile:∊pos,Rot 2↓⍵          ⍝ Intersection: +\n",
    "            ∊pos,2↓⍵                       ⍝ Straight on: - or |\n",
    "        }\n",
    "        (dir⊃(0 ¯1 1 3)(1 0 0 2)(0 1 3 1)(¯1 0 2 0)) Step ⍵\n",
    "    }\n",
    "\n",
    "    crashes←⍬ ⍝ Store crash locations; only need first one for Part 1.\n",
    "    Crash←{\n",
    "        pos←2↑⍺\n",
    "        crashes,←⊂pos\n",
    "        loc[0⊃pos;1⊃pos]←0\n",
    "        ⍵/⍨~(⊂pos)≡¨2↑¨⍵\n",
    "    }\n",
    "    MoveAll←{ ⍝ ⍺ are carts that have moved, ⍵ carts yet to move\n",
    "        ⍺←⍬\n",
    "        0=≢⍵:sorted ⍺\n",
    "        cart←Next 0⊃⍵\n",
    "        pos←2↑cart\n",
    "        ⍝ If we have a 2 in the loc matrix, this cart collided with someone.\n",
    "        2∊loc:(pos Crash ⍺)∇pos Crash 1↓⍵\n",
    "        (⍺,⊂cart)∇1↓⍵\n",
    "    }\n",
    "    (⊂⊖0⊃crashes),⊂⊖2↑⊃MoveAll⍣{1=≢⍺}⊢⍵ ⍝ Repeat until only one remaining cart\n",
    "}"
   ]
  },
  {
   "cell_type": "code",
   "execution_count": 340,
   "metadata": {},
   "outputs": [
    {
     "data": {
      "text/html": [
       "<span style=\"white-space:pre; font-family: monospace\">┌→────────────────┐\n",
       "│ ┌→─────┐ ┌→───┐ │\n",
       "│ │76 108│ │2 84│ │\n",
       "│ └~─────┘ └~───┘ │\n",
       "└∊────────────────┘\n",
       "</span>"
      ]
     },
     "execution_count": 340,
     "metadata": {},
     "output_type": "execute_result"
    }
   ],
   "source": [
    "⊢Solution←DAY13 Day13 WEST,SOUTH,EAST,NORTH\n",
    "assert (76 108)(2 84)≡Solution"
   ]
  },
  {
   "cell_type": "markdown",
   "metadata": {},
   "source": [
    "### Day 14: Chocolate Charts\n",
    "https://adventofcode.com/2018/day/14"
   ]
  },
  {
   "cell_type": "code",
   "execution_count": 357,
   "metadata": {},
   "outputs": [],
   "source": [
    "DAY14←765071"
   ]
  },
  {
   "cell_type": "code",
   "execution_count": 362,
   "metadata": {},
   "outputs": [],
   "source": [
    "]dinput\n",
    "Day14←{\n",
    "    Mix←{new←10 10⊤+/⍺[⍵]⋄0≠0⊃new:new⋄1⊃new}\n",
    "    data←3 7\n",
    "    ⍵ {\n",
    "        (≢data)≥⍺+10:⍺↓data\n",
    "        data,←data Mix ⍵\n",
    "        ⍺∇(≢data)|1+⍵+data[⍵]\n",
    "    } 0 1\n",
    "}"
   ]
  },
  {
   "cell_type": "code",
   "execution_count": 363,
   "metadata": {},
   "outputs": [
    {
     "data": {
      "text/html": [
       "<span style=\"white-space:pre; font-family: monospace\">┌→──────────────────┐\n",
       "│3 1 7 1 1 2 3 9 2 3│\n",
       "└~──────────────────┘\n",
       "</span>"
      ]
     },
     "execution_count": 363,
     "metadata": {},
     "output_type": "execute_result"
    }
   ],
   "source": [
    "⊢Part1←Day14 DAY14\n",
    "assert 3 1 7 1 1 2 3 9 2 3≡Part1"
   ]
  },
  {
   "cell_type": "markdown",
   "metadata": {},
   "source": [
    "Part 2: how many iterations before the given pattern appears to the left of us?"
   ]
  }
 ],
 "metadata": {
  "kernelspec": {
   "display_name": "Dyalog APL",
   "language": "apl",
   "name": "dyalog-kernel"
  },
  "language_info": {
   "file_extension": ".apl",
   "mimetype": "text/apl",
   "name": "APL"
  }
 },
 "nbformat": 4,
 "nbformat_minor": 2
}
