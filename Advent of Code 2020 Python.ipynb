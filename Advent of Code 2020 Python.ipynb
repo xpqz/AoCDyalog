{
 "cells": [
  {
   "cell_type": "markdown",
   "metadata": {},
   "source": [
    "# Advent of Code 2020, Python edition\n",
    "\n",
    "Annotated solutions in Python.\n",
    "\n",
    "Note that part of the charm of AoC is that every user (or at least groups of users) gets their own unique data set. Some of the solutions below exploit quirks in my particular data set, and so may conceivably not work for the general case."
   ]
  },
  {
   "cell_type": "code",
   "execution_count": 138,
   "metadata": {},
   "outputs": [],
   "source": [
    "from collections import Counter, defaultdict, deque\n",
    "from dataclasses import dataclass\n",
    "from functools import lru_cache, reduce\n",
    "from itertools import accumulate, chain, combinations, count, product\n",
    "from math import ceil, prod\n",
    "from operator import mul\n",
    "import re\n",
    "import sys"
   ]
  },
  {
   "cell_type": "markdown",
   "metadata": {},
   "source": [
    "### Day 1: Report Repair\n",
    "https://adventofcode.com/2020/day/1"
   ]
  },
  {
   "cell_type": "code",
   "execution_count": 20,
   "metadata": {},
   "outputs": [
    {
     "name": "stdout",
     "output_type": "stream",
     "text": [
      "73371 127642310\n"
     ]
    }
   ],
   "source": [
    "def day01(d, size):\n",
    "    def finder(x): return sum(x) == 2020\n",
    "    return prod(next(filter(finder, combinations(d, size))))\n",
    "\n",
    "with open('data/2020/day01.txt') as f:\n",
    "    data = [int(l) for l in f]\n",
    "\n",
    "p1 = day01(data, 2)\n",
    "p2 = day01(data, 3)\n",
    "\n",
    "assert p1 == 73371\n",
    "assert p2 == 127642310\n",
    "print(p1, p2)"
   ]
  },
  {
   "cell_type": "markdown",
   "metadata": {},
   "source": [
    "### Day 2: Password Philosophy\n",
    "https://adventofcode.com/2020/day/2"
   ]
  },
  {
   "cell_type": "code",
   "execution_count": 21,
   "metadata": {},
   "outputs": [
    {
     "name": "stdout",
     "output_type": "stream",
     "text": [
      "528 497\n"
     ]
    }
   ],
   "source": [
    "def part1(d):\n",
    "    count = sum(map(lambda c: c == d[2], d[-1]))\n",
    "    return int(d[0]) <= count <= int(d[1])\n",
    "\n",
    "def part2(d):\n",
    "    return (d[2] == d[-1][int(d[0])-1]) != (d[2] == d[-1][int(d[1])-1])\n",
    "\n",
    "with open('data/2020/day02.txt') as f:\n",
    "    data = [re.split(r'[ :-]', l) for l in f]\n",
    "\n",
    "p1 = sum(map(part1, data))\n",
    "p2 = sum(map(part2, data))\n",
    "\n",
    "assert p1 == 528\n",
    "assert p2 == 497\n",
    "print(p1, p2)"
   ]
  },
  {
   "cell_type": "markdown",
   "metadata": {},
   "source": [
    "### Day 3: Toboggan Trajectory\n",
    "https://adventofcode.com/2020/day/3"
   ]
  },
  {
   "cell_type": "code",
   "execution_count": 22,
   "metadata": {},
   "outputs": [
    {
     "name": "stdout",
     "output_type": "stream",
     "text": [
      "203 3316272960\n"
     ]
    }
   ],
   "source": [
    "def day03(d, dy, dx):\n",
    "    return sum('#'==d[dy*i][(dx*i)%len(d[0])] for i in range(ceil(len(d)/dy)))\n",
    "\n",
    "with open('data/2020/day03.txt') as f:\n",
    "    data = f.read().splitlines()\n",
    "\n",
    "result = [day03(data, *v) for v in [[1, 1], [1, 3], [1, 5], [1, 7], [2, 1]]]\n",
    "\n",
    "p1 = result[1]\n",
    "p2 = prod(result)\n",
    "\n",
    "assert p1 == 203\n",
    "assert p2 == 3316272960\n",
    "print(p1, p2)"
   ]
  },
  {
   "cell_type": "markdown",
   "metadata": {},
   "source": [
    "### Day 4: Passport Processing\n",
    "https://adventofcode.com/2020/day/4"
   ]
  },
  {
   "cell_type": "code",
   "execution_count": 32,
   "metadata": {},
   "outputs": [
    {
     "name": "stdout",
     "output_type": "stream",
     "text": [
      "256 198\n"
     ]
    }
   ],
   "source": [
    "SYMTAB = {\n",
    "    'eyr': lambda a: 2020 <= int(a) <= 2030,\n",
    "    'iyr': lambda a: 2010 <= int(a) <= 2020,\n",
    "    'byr': lambda a: 1920 <= int(a) <= 2002,\n",
    "    'ecl': lambda a: a in {'amb', 'blu', 'brn', 'gry', 'grn', 'hzl', 'oth'},\n",
    "    'cid': lambda a: True,\n",
    "    'pid': lambda a: re.match(r'^\\d{9}$', a),\n",
    "    'hcl': lambda a: re.match(r'^#[a-f0-9]{6}$', a),\n",
    "    'hgt': lambda a: re.match(r'^(((59|6[0-9]|7[0-6])in)|((1[5-8][0-9]|19[0-3])cm))$',a)\n",
    "}\n",
    "\n",
    "def part1(pp):\n",
    "    return {'byr', 'iyr', 'eyr', 'hgt', 'hcl', 'ecl', 'pid'} <= set(pp.keys())\n",
    "\n",
    "def part2(passports):\n",
    "    count = 0\n",
    "    for pp in passports:\n",
    "        try:\n",
    "            for check, arg in pp.items():\n",
    "                if not (part1(pp) and SYMTAB[check](arg)):\n",
    "                    raise Exception()\n",
    "            count += 1\n",
    "        except:        # Sorry. Convenience wins over pythonic\n",
    "            pass\n",
    "\n",
    "    return count\n",
    "\n",
    "def parse_data(data):\n",
    "    keyvals = {}\n",
    "    for d in (re.findall(r'([^:\\s]+):([^\\s]+)', line) for line in data):\n",
    "        if not d:\n",
    "            yield keyvals\n",
    "            keyvals = {}\n",
    "            continue\n",
    "        keyvals |= dict(d) # Recent pythons only\n",
    "    yield keyvals\n",
    "\n",
    "with open('data/2020/day04.txt') as f:\n",
    "    passports = list(parse_data(f))\n",
    "\n",
    "p1 = sum(part1(p) for p in passports)\n",
    "p2 = part2(passports)\n",
    "\n",
    "assert p1 == 256\n",
    "assert p2 == 198\n",
    "print(p1, p2)"
   ]
  },
  {
   "cell_type": "markdown",
   "metadata": {},
   "source": [
    "### Day 5: Binary Boarding\n",
    "https://adventofcode.com/2020/day/5"
   ]
  },
  {
   "cell_type": "code",
   "execution_count": 24,
   "metadata": {},
   "outputs": [
    {
     "name": "stdout",
     "output_type": "stream",
     "text": [
      "888 522\n"
     ]
    }
   ],
   "source": [
    "def SeatID(spec):\n",
    "    return int(''.join({'F':'0','L':'0'}.get(l, '1') for l in spec), 2)\n",
    "\n",
    "with open('data/2020/day05.txt') as f:\n",
    "    data = [SeatID(l) for l in f.read().splitlines()]\n",
    "\n",
    "p1 = max(data)\n",
    "p2 = list(set(range(min(data), p1)) - set(data))[0]\n",
    "\n",
    "assert p1 == 888\n",
    "assert p2 == 522\n",
    "print(p1, p2)"
   ]
  },
  {
   "cell_type": "markdown",
   "metadata": {},
   "source": [
    "### Day 6: Custom Customs\n",
    "https://adventofcode.com/2020/day/6"
   ]
  },
  {
   "cell_type": "code",
   "execution_count": 25,
   "metadata": {},
   "outputs": [
    {
     "name": "stdout",
     "output_type": "stream",
     "text": [
      "6416 3050\n"
     ]
    }
   ],
   "source": [
    "def gr(data):\n",
    "    g = []\n",
    "    for l in data:\n",
    "        if l != '':\n",
    "            g.append(l)\n",
    "        else:\n",
    "            yield g\n",
    "            g = []\n",
    "    yield g\n",
    "    \n",
    "with open('data/2020/day06.txt') as f:\n",
    "    data = list(gr(f.read().splitlines()))\n",
    "\n",
    "p1 = sum((len(set(''.join(l))) for l in data))\n",
    "p2 = sum(len(set.intersection(*[set(s) for s in g])) for g in data)\n",
    "\n",
    "assert p1 == 6416\n",
    "assert p2 == 3050\n",
    "print(p1, p2)"
   ]
  },
  {
   "cell_type": "markdown",
   "metadata": {},
   "source": [
    "### Day 7: Handy Haversacks\n",
    "https://adventofcode.com/2020/day/7"
   ]
  },
  {
   "cell_type": "code",
   "execution_count": 26,
   "metadata": {},
   "outputs": [
    {
     "name": "stdout",
     "output_type": "stream",
     "text": [
      "185 89084\n"
     ]
    }
   ],
   "source": [
    "def parse(data):\n",
    "    head, tail = data.split(' bags contain ')\n",
    "    tail = tail.replace('no other bags.', '0 other bags.')\n",
    "    contents = [\n",
    "        re.findall(r'^(\\d+)\\s+(\\w+\\s\\w+)', ss) for ss in tail.split(', ')\n",
    "    ]\n",
    "    return (head, [(int(w[0][0]), w[0][1]) for w in contents])\n",
    "\n",
    "def invert(data):\n",
    "    contained_in = defaultdict(set)\n",
    "    for spec in data:\n",
    "        for (_, name) in spec[1]:\n",
    "            contained_in[name].add(spec[0])\n",
    "    return contained_in\n",
    "\n",
    "def vert(data):\n",
    "    contains = defaultdict(dict)\n",
    "    for spec in data:\n",
    "        for (mag, name) in spec[1]:\n",
    "            contains[spec[0]][name] = mag\n",
    "    return contains\n",
    "\n",
    "def part1(inverted):\n",
    "    found = set()\n",
    "    queue = list(inverted['shiny gold'])\n",
    "    for item in queue:\n",
    "        found.add(item)\n",
    "        if item in inverted:\n",
    "            queue.extend(list(inverted[item]))\n",
    "    return len(found)\n",
    "\n",
    "def part2(verted, key='shiny gold'):\n",
    "    if key == 'other bags': return 0\n",
    "    return sum(vv * (1 + part2(verted, kk)) for kk, vv in verted[key].items())\n",
    "\n",
    "with open('data/2020/day07.txt') as f:\n",
    "    data = [parse(l) for l in f]\n",
    "\n",
    "p1 = part1(invert(data))\n",
    "p2 = part2(vert(data))\n",
    "\n",
    "assert p1 == 185\n",
    "assert p2 == 89084\n",
    "print(p1, p2)"
   ]
  },
  {
   "cell_type": "markdown",
   "metadata": {},
   "source": [
    "### Day 8: Handheld Halting\n",
    "https://adventofcode.com/2020/day/8"
   ]
  },
  {
   "cell_type": "code",
   "execution_count": 27,
   "metadata": {},
   "outputs": [
    {
     "name": "stdout",
     "output_type": "stream",
     "text": [
      "1134 1205\n"
     ]
    }
   ],
   "source": [
    "@dataclass\n",
    "class State:\n",
    "    ip: int\n",
    "    code: list\n",
    "    args: list\n",
    "    acc: int\n",
    "    lines: list\n",
    "\n",
    "    def halted(self):\n",
    "        return self.ip >= len(self.code)\n",
    "    \n",
    "    def infloop(self):\n",
    "        return 2 in self.lines\n",
    "    \n",
    "    def step(self):\n",
    "        instr = self.code[self.ip]\n",
    "        arg = self.args[self.ip]\n",
    "        self.lines[self.ip] += 1\n",
    "        if self.infloop():\n",
    "            return \n",
    "        if instr == 'nop':\n",
    "            self.ip += 1\n",
    "        elif instr == 'acc':\n",
    "            self.acc += arg\n",
    "            self.ip += 1\n",
    "        else:\n",
    "            self.ip += arg\n",
    "            \n",
    "    def run(self):\n",
    "        while not self.halted() and not self.infloop():\n",
    "            self.step()\n",
    "        return self.acc\n",
    "\n",
    "def tweak(code):\n",
    "    def repl(data, idx, to):\n",
    "        data[idx] = to\n",
    "        return data\n",
    "\n",
    "    for idx, instr in enumerate(code):\n",
    "        if instr == 'nop':\n",
    "            yield repl(list(code), idx, 'jmp')\n",
    "        elif instr == 'jmp':\n",
    "            yield repl(list(code), idx, 'nop')\n",
    "\n",
    "def part2(data):\n",
    "    for code in tweak(data[0]):\n",
    "        state = State(0, code, [int(a) for a in data[1]], 0, [0]*len(code))\n",
    "        result = state.run()\n",
    "        if state.halted():\n",
    "            return result\n",
    "\n",
    "with open('data/2020/day08.txt') as f:\n",
    "    data = list(zip(*[l.split() for l in f]))\n",
    "\n",
    "part1 = State(0, data[0], [int(a) for a in data[1]], 0, [0]*len(data[0]))\n",
    "\n",
    "p1 = part1.run()\n",
    "p2 = part2(data)\n",
    "\n",
    "assert p1 == 1134\n",
    "assert p2 == 1205\n",
    "print(p1, p2)"
   ]
  },
  {
   "cell_type": "markdown",
   "metadata": {},
   "source": [
    "### Day 9: Encoding Error\n",
    "https://adventofcode.com/2020/day/9\n",
    "\n",
    "For part 2, the sum of a stretch is the sum to the end, minus sum to the start. Outer product gives us all stretches, but we need to convert from single index back to start and end of the stretch. In APL, the outer product would have given us a 2D matrix of the correct dimensions, rather than a vector."
   ]
  },
  {
   "cell_type": "code",
   "execution_count": 45,
   "metadata": {},
   "outputs": [
    {
     "name": "stdout",
     "output_type": "stream",
     "text": [
      "1639024365 219202240\n"
     ]
    }
   ],
   "source": [
    "def find(data, idx, size):\n",
    "    return data[idx] not in map(sum, combinations(data[idx-size:idx], 2))\n",
    "    \n",
    "def part1(data, win):\n",
    "    for idx in range(win, len(data)):\n",
    "        if find(data, idx, win): return data[idx]\n",
    "    return -1\n",
    "\n",
    "def part2(data, item):\n",
    "    sums = list(accumulate(data))\n",
    "    idx = [a[0]-a[1] for a in product(sums, sums)].index(item)\n",
    "    values = data[1+idx%len(sums):idx//len(sums)+2]\n",
    "    return min(values) + max(values)\n",
    "        \n",
    "with open('data/2020/day09.txt') as f:\n",
    "    data = list(map(int, f))\n",
    "\n",
    "p1 = part1(data, 25)\n",
    "p2 = part2(data, p1)\n",
    "\n",
    "assert p1 == 1639024365\n",
    "assert p2 == 219202240\n",
    "print(p1, p2)"
   ]
  },
  {
   "cell_type": "markdown",
   "metadata": {},
   "source": [
    "### Day 10: Adapter Array\n",
    "https://adventofcode.com/2020/day/10\n",
    "\n",
    "Part 2 -- a [Dynamic Programming](https://en.wikipedia.org/wiki/Dynamic_programming) solution. The cache only needs two slots."
   ]
  },
  {
   "cell_type": "code",
   "execution_count": 113,
   "metadata": {},
   "outputs": [
    {
     "name": "stdout",
     "output_type": "stream",
     "text": [
      "2059 86812553324672\n"
     ]
    }
   ],
   "source": [
    "def part1(data):\n",
    "    diff = [data[i]-data[i-1] for i in range(1, len(data))] # Windowed reduction\n",
    "    return prod(sum(d==c for d in diff) for c in [1, 3])\n",
    "\n",
    "@lru_cache(maxsize=2)\n",
    "def part2(v, data):\n",
    "    if not data: return 1\n",
    "    count = 0       # Valid solutions from this point\n",
    "    for idx, item in enumerate(data):\n",
    "        if item - v <= 3:\n",
    "            count += part2(item, tuple(data[1+idx:]))\n",
    "    return count\n",
    "\n",
    "with open('data/2020/day10.txt') as f:\n",
    "    data = sorted(list(map(int, f)))\n",
    "data = [0, *data, 3 + data[-1]]\n",
    "\n",
    "p1 = part1(data)\n",
    "p2 = part2(0, tuple(data[1:]))\n",
    "\n",
    "assert p1 == 2059\n",
    "assert p2 == 86812553324672\n",
    "print(p1, p2)"
   ]
  },
  {
   "cell_type": "markdown",
   "metadata": {},
   "source": [
    "Here's part 2 as a single reduction. Python folds left-right, unlike APL."
   ]
  },
  {
   "cell_type": "code",
   "execution_count": 114,
   "metadata": {},
   "outputs": [
    {
     "name": "stdout",
     "output_type": "stream",
     "text": [
      "86812553324672\n"
     ]
    }
   ],
   "source": [
    "with open('data/2020/day10.txt') as f:\n",
    "    data = sorted(list(map(int, f)))                # (⍋⌷¨⊂)⍎⍕⊃⎕NGET'data/2020/day10.txt'1\n",
    "\n",
    "p2 = reduce(\n",
    "    lambda acc, w:[*acc[1:], w*sum(acc)],           # {1↓⍵,⍺×+/⍵}\n",
    "    [int(i in data) for i in range(1, data[-1]+1)], # ⌽data∊⍨1+⍳⊃⌽data\n",
    "    [0, 0, 1]                                       # ⊂0 0 1\n",
    ")[2]\n",
    "\n",
    "assert p2 == 86812553324672\n",
    "print(p2)"
   ]
  },
  {
   "cell_type": "markdown",
   "metadata": {},
   "source": [
    "### Day 11: Seating System\n",
    "https://adventofcode.com/2020/day/11"
   ]
  },
  {
   "cell_type": "code",
   "execution_count": 115,
   "metadata": {},
   "outputs": [
    {
     "name": "stdout",
     "output_type": "stream",
     "text": [
      "2344\n"
     ]
    }
   ],
   "source": [
    "OFFSET = ((-1, -1), (-1, 0), (-1, 1), (0, -1), (0, 1), (1, -1), (1, 0), (1, 1))\n",
    "\n",
    "def N8(data, pos):\n",
    "    coords = ((pos[0] + t[0], pos[1] + t[1]) for t in OFFSET)\n",
    "    return [\n",
    "        data[y][x] for y, x in coords\n",
    "        if 0 <= y < len(data) and 0 <= x < len(data[0])\n",
    "    ]\n",
    "\n",
    "def Transition(data, pos):\n",
    "    elem = data[pos[0]][pos[1]]\n",
    "    if elem == '.': return '.'\n",
    "    c = Counter(N8(data, pos))\n",
    "    if elem == 'L' and '#' not in c: return '#'\n",
    "    if elem == '#' and c['#'] >= 4: return 'L'\n",
    "    return elem\n",
    "\n",
    "def part1(data):\n",
    "    return tuple(\n",
    "        tuple(Transition(data, (y, x)) for x in range(len(data[0])))\n",
    "        for y in range(len(data)))\n",
    "\n",
    "def C(data): return sum(e == '#' for e in chain(*data))\n",
    "\n",
    "with open('/Users/stefan/work/dyalog/AoCDyalog/data/2020/day11.txt') as f:\n",
    "    data = tuple(tuple(l) for l in f.read().splitlines())\n",
    "\n",
    "while (new := part1(data)) != data:\n",
    "    data = new\n",
    "\n",
    "p1 = C(data)\n",
    "\n",
    "assert p1 == 2344\n",
    "print(p1)\n",
    "\n",
    "# TODO: Part 2"
   ]
  },
  {
   "cell_type": "markdown",
   "metadata": {},
   "source": [
    "### Day 12: Rain Risk\n",
    "https://adventofcode.com/2020/day/12"
   ]
  },
  {
   "cell_type": "code",
   "execution_count": 135,
   "metadata": {},
   "outputs": [
    {
     "name": "stdout",
     "output_type": "stream",
     "text": [
      "2879 178986\n"
     ]
    }
   ],
   "source": [
    "# ---- PART 1 --------\n",
    "def N(acc, mag): return [acc[0] - mag, acc[1], acc[2]]\n",
    "def S(acc, mag): return N(acc, -mag)\n",
    "def E(acc, mag): return [acc[0], acc[1] + mag, acc[2]]\n",
    "def W(acc, mag): return E(acc, -mag)\n",
    "\n",
    "def R(acc, mag):\n",
    "    acc[2].rotate(-mag // 90)\n",
    "    return [*acc[:2], acc[2]]\n",
    "\n",
    "def L(acc, mag): return R(acc, -mag)\n",
    "\n",
    "def F(acc, mag):\n",
    "    dv = ((0, mag), (mag, 0), (0, -mag), (-mag, 0))[acc[2][0]]\n",
    "    return [dv[0] + acc[0], dv[1] + acc[1], acc[2]]\n",
    "\n",
    "def run(acc, item):\n",
    "    return {'N': N, 'W': W, 'E': E, 'S': S, 'L': L, 'R': R, 'F': F,}[item[0]](acc, item[1])\n",
    "\n",
    "# ---- PART 2 --------\n",
    "def N2(acc, mag): return [acc[0]-mag, acc[1], acc[2], acc[3]]\n",
    "def S2(acc, mag): return N2(acc, -mag)\n",
    "def E2(acc, mag): return [acc[0], acc[1]+mag, acc[2], acc[3]]\n",
    "def W2(acc, mag): return E2(acc, -mag)\n",
    "def F2(acc, mag):\n",
    "    d = [acc[0]*mag, acc[1]*mag]\n",
    "    return [acc[0], acc[1], acc[2]+d[0], acc[3]+d[1]]\n",
    "                          \n",
    "def R2(acc, mag):\n",
    "    if mag == 90:\n",
    "        return [acc[1], -acc[0], acc[2], acc[3]]\n",
    "    if mag == 180:\n",
    "        return [-acc[0], -acc[1], acc[2], acc[3]]\n",
    "    return [-acc[1], acc[0], acc[2], acc[3]]\n",
    "\n",
    "def L2(acc, mag):\n",
    "    return R2(acc, 360-mag)\n",
    "\n",
    "def run2(acc, item):\n",
    "    return {'N': N2, 'W': W2, 'E': E2, 'S': S2, 'L': L2, 'R': R2, 'F': F2,}[item[0]](acc, item[1])\n",
    "\n",
    "# -------------------\n",
    "with open('data/2020/day12.txt') as f:\n",
    "    (cmd, arg) = list(zip(*[m[0] for m in [re.findall(r'^([FRLNWES])(\\d+)$', l) for l in f]]))\n",
    "\n",
    "data = tuple(zip(cmd, tuple(map(int, arg))))\n",
    "\n",
    "result = list(reduce(run, data, [0, 0, deque([0, 1, 2, 3])]))[:2]\n",
    "p1 = abs(result[0]) + abs(result[1])\n",
    "\n",
    "result = list(reduce(run2, data, [-1, 10, 0, 0])) \n",
    "                                 \n",
    "p2 = abs(result[2]) + abs(result[3])\n",
    "\n",
    "assert p1 == 2879\n",
    "assert p2 == 178986\n",
    "\n",
    "print(p1, p2)"
   ]
  },
  {
   "cell_type": "markdown",
   "metadata": {},
   "source": [
    "### Day 13: Shuttle Search\n",
    "https://adventofcode.com/2020/day/13\n",
    "\n",
    "Python implementation of the CRT taken verbatim from\n",
    "\n",
    "https://rosettacode.org/wiki/Chinese_remainder_theorem#Python"
   ]
  },
  {
   "cell_type": "code",
   "execution_count": 139,
   "metadata": {},
   "outputs": [
    {
     "name": "stdout",
     "output_type": "stream",
     "text": [
      "410 600691418730595\n"
     ]
    }
   ],
   "source": [
    "def chinese_remainder(n, a):\n",
    "    sum = 0\n",
    "    prod = reduce(lambda a, b: a * b, n)\n",
    "    for n_i, a_i in zip(n, a):\n",
    "        p = prod // n_i\n",
    "        sum += a_i * mul_inv(p, n_i) * p\n",
    "    return sum % prod\n",
    "\n",
    "def mul_inv(a, b):\n",
    "    b0 = b\n",
    "    x0, x1 = 0, 1\n",
    "    if b == 1: return 1\n",
    "    while a > 1:\n",
    "        q = a // b\n",
    "        a, b = b, a % b\n",
    "        x0, x1 = x1 - q * x0, x0\n",
    "    if x1 < 0: x1 += b0\n",
    "    return x1\n",
    "\n",
    "with open('data/2020/day13.txt') as f:\n",
    "    data = f.read().splitlines()\n",
    "\n",
    "timestamp = int(data[0])\n",
    "buses = eval(f\"[{data[1].replace('x', '0')}]\")\n",
    "n = [i for i in buses if i != 0]\n",
    "\n",
    "p1 = next(delta * bus for delta in count() for bus in n\n",
    "          if (timestamp + delta) % bus == 0)\n",
    "\n",
    "idx = [buses.index(i) for i in n]\n",
    "a = [n[j] - idx[j] + 1 for j in range(len(n))]\n",
    "p2 = chinese_remainder(n, a) - 1\n",
    "\n",
    "assert p1 == 410\n",
    "assert p2 == 600691418730595\n",
    "print(p1, p2)"
   ]
  },
  {
   "cell_type": "code",
   "execution_count": null,
   "metadata": {},
   "outputs": [],
   "source": []
  }
 ],
 "metadata": {
  "kernelspec": {
   "display_name": "Python 3",
   "language": "python",
   "name": "python3"
  },
  "language_info": {
   "codemirror_mode": {
    "name": "ipython",
    "version": 3
   },
   "file_extension": ".py",
   "mimetype": "text/x-python",
   "name": "python",
   "nbconvert_exporter": "python",
   "pygments_lexer": "ipython3",
   "version": "3.9.0"
  }
 },
 "nbformat": 4,
 "nbformat_minor": 2
}
