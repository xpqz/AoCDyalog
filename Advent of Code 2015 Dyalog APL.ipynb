{
 "cells": [
  {
   "cell_type": "markdown",
   "metadata": {},
   "source": [
    "# Advent of Code 2015, Dyalog APL edition"
   ]
  },
  {
   "cell_type": "code",
   "execution_count": 1,
   "metadata": {},
   "outputs": [
    {
     "data": {
      "text/html": [
       "<span style=\"white-space:pre; font-family: monospace\">\n",
       "Rebuilding user command cache... done\n",
       "</span>"
      ]
     },
     "execution_count": 1,
     "metadata": {},
     "output_type": "execute_result"
    },
    {
     "data": {
      "text/html": [
       "<span style=\"white-space:pre; font-family: monospace\">┌→─────────────────────────────────────┐\n",
       "│Was ON -style=min -trains=tree -fns=on│\n",
       "└──────────────────────────────────────┘\n",
       "</span>"
      ]
     },
     "execution_count": 1,
     "metadata": {},
     "output_type": "execute_result"
    }
   ],
   "source": [
    "⎕IO←1\n",
    "]box on -style=max -trains=tree -fns=on ⍝ Pass all output through DISPLAY"
   ]
  },
  {
   "cell_type": "markdown",
   "metadata": {},
   "source": [
    "### Day 1: Not Quite Lisp\n",
    "https://adventofcode.com/2015/day/1"
   ]
  },
  {
   "cell_type": "code",
   "execution_count": 2,
   "metadata": {},
   "outputs": [],
   "source": [
    "DAY1←⊃⊃⎕NGET'data/2015/01.txt'1"
   ]
  },
  {
   "cell_type": "code",
   "execution_count": 3,
   "metadata": {},
   "outputs": [],
   "source": [
    "Day1p1←{+/+⌿-@2⌷'()'∘.=⍵}     ⍝ Binary mask with positions for '(' in row 1 and ')' in row 2, \n",
    "                              ⍝ and then row 2 negated. Sum down, then across."
   ]
  },
  {
   "cell_type": "code",
   "execution_count": 4,
   "metadata": {},
   "outputs": [
    {
     "data": {
      "text/html": [
       "<span style=\"white-space:pre; font-family: monospace\">   \n",
       "138\n",
       "   \n",
       "</span>"
      ]
     },
     "execution_count": 4,
     "metadata": {},
     "output_type": "execute_result"
    }
   ],
   "source": [
    "Day1p1 DAY1 ⍝ 138"
   ]
  },
  {
   "cell_type": "code",
   "execution_count": 5,
   "metadata": {},
   "outputs": [],
   "source": [
    "Day1p2←{1⊃⍸{⍵<0}¨+\\+⌿-@2⌷'()'∘.=⍵} ⍝ As before, but scan-sum across and create mask of negatives and pick first."
   ]
  },
  {
   "cell_type": "code",
   "execution_count": 6,
   "metadata": {},
   "outputs": [
    {
     "data": {
      "text/html": [
       "<span style=\"white-space:pre; font-family: monospace\">    \n",
       "1771\n",
       "    \n",
       "</span>"
      ]
     },
     "execution_count": 6,
     "metadata": {},
     "output_type": "execute_result"
    }
   ],
   "source": [
    "Day1p2 DAY1 ⍝ 1771"
   ]
  },
  {
   "cell_type": "markdown",
   "metadata": {},
   "source": [
    "### Day 2: I Was Told There Would Be No Math\n",
    "https://adventofcode.com/2015/day/2"
   ]
  },
  {
   "cell_type": "code",
   "execution_count": 7,
   "metadata": {},
   "outputs": [],
   "source": [
    "DAY2←2⊃¨'x'⎕VFI¨⊃⎕NGET 'data/2015/02.txt' 1  ⍝ Many lines. Pick out three ints from each, separated by 'x'"
   ]
  },
  {
   "cell_type": "code",
   "execution_count": 8,
   "metadata": {},
   "outputs": [],
   "source": [
    "Day2p1←{(l w h)←⍵ ⋄ s[⊃⍋s]++/2×s←(l×w) (w×h) (h×l)}"
   ]
  },
  {
   "cell_type": "code",
   "execution_count": 9,
   "metadata": {},
   "outputs": [
    {
     "data": {
      "text/html": [
       "<span style=\"white-space:pre; font-family: monospace\">       \n",
       "1606483\n",
       "       \n",
       "</span>"
      ]
     },
     "execution_count": 9,
     "metadata": {},
     "output_type": "execute_result"
    }
   ],
   "source": [
    "+/Day2p1¨DAY2 ⍝ 1606483"
   ]
  },
  {
   "cell_type": "code",
   "execution_count": 10,
   "metadata": {},
   "outputs": [],
   "source": [
    "Day2p2←{(ll ww hh)←2×⍵⋄c[⊃⍋c←(hh+ww) (ww+ll) (ll+hh)]+×/⍵}"
   ]
  },
  {
   "cell_type": "code",
   "execution_count": 11,
   "metadata": {},
   "outputs": [
    {
     "data": {
      "text/html": [
       "<span style=\"white-space:pre; font-family: monospace\">       \n",
       "3842356\n",
       "       \n",
       "</span>"
      ]
     },
     "execution_count": 11,
     "metadata": {},
     "output_type": "execute_result"
    }
   ],
   "source": [
    "+/Day2p2¨DAY2 ⍝ 3842356"
   ]
  },
  {
   "cell_type": "markdown",
   "metadata": {},
   "source": [
    "### Day 3: Perfectly Spherical Houses in a Vacuum\n",
    "\n",
    "https://adventofcode.com/2015/day/3"
   ]
  },
  {
   "cell_type": "code",
   "execution_count": 12,
   "metadata": {},
   "outputs": [],
   "source": [
    "DAY3←⊃⊃⎕NGET 'data/2015/03.txt' 1"
   ]
  },
  {
   "cell_type": "code",
   "execution_count": 13,
   "metadata": {},
   "outputs": [],
   "source": [
    "]dinput\n",
    "Day3p1←{\n",
    "    points←-@1 3⌷'^v<>'∘.=⍵                   ⍝ Matrix with 4 rows -y, y, -x, x\n",
    "    ⍉(+\\+⌿points[3 4;]),[0.5]+\\+⌿points[1 2;] ⍝ Sum first along axis 1, then sum-scan along axis 2\n",
    "}                                             ⍝ separately for x and y. Laminate x and y parts, transpose"
   ]
  },
  {
   "cell_type": "code",
   "execution_count": 14,
   "metadata": {},
   "outputs": [
    {
     "data": {
      "text/html": [
       "<span style=\"white-space:pre; font-family: monospace\">    \n",
       "2081\n",
       "    \n",
       "</span>"
      ]
     },
     "execution_count": 14,
     "metadata": {},
     "output_type": "execute_result"
    }
   ],
   "source": [
    "1+≢∪ Day3p1 DAY3 ⍝ 2081"
   ]
  },
  {
   "cell_type": "code",
   "execution_count": 15,
   "metadata": {},
   "outputs": [],
   "source": [
    "Day3p2←{(1⊃p)⍪2⊃p←Day3p1¨{⍵⊢∘⊂⌸⍨2|⍳≢⍵}⍵}      ⍝ Unzip ⍵ so we can treat santa and robo's paths separately"
   ]
  },
  {
   "cell_type": "code",
   "execution_count": 16,
   "metadata": {},
   "outputs": [
    {
     "data": {
      "text/html": [
       "<span style=\"white-space:pre; font-family: monospace\">    \n",
       "2341\n",
       "    \n",
       "</span>"
      ]
     },
     "execution_count": 16,
     "metadata": {},
     "output_type": "execute_result"
    }
   ],
   "source": [
    "≢∪ Day3p2 DAY3 ⍝ 2341"
   ]
  },
  {
   "cell_type": "markdown",
   "metadata": {},
   "source": [
    "### Day 4: The Ideal Stocking Stuffer\n",
    "https://adventofcode.com/2015/day/4"
   ]
  },
  {
   "cell_type": "code",
   "execution_count": 27,
   "metadata": {},
   "outputs": [],
   "source": [
    "Md5←{⎕SH 'md5 -q -s \"',⍵,'\"'}  ⍝ No Dyalog built-in MD5 function, sadly"
   ]
  },
  {
   "cell_type": "code",
   "execution_count": 28,
   "metadata": {},
   "outputs": [],
   "source": [
    "Day4p1←{⍺←0⋄'00000'≡5↑Md5 ⍵,⍕⍺:⍺⋄(⍺+1)∇⍵}  ⍝ NOTE: WORKS, BUT INTRACTABLE WITHOUT NATIVE MD5"
   ]
  },
  {
   "cell_type": "markdown",
   "metadata": {},
   "source": [
    "### Day 5: Doesn't He Have Intern-Elves For This?\n",
    "https://adventofcode.com/2015/day/5"
   ]
  },
  {
   "cell_type": "code",
   "execution_count": 5,
   "metadata": {},
   "outputs": [],
   "source": [
    "DAY5←⊃⎕NGET 'data/2015/05.txt' 1"
   ]
  },
  {
   "cell_type": "code",
   "execution_count": 8,
   "metadata": {},
   "outputs": [],
   "source": [
    "]dinput\n",
    "Day5p1←{\n",
    "    3>+/+⌿'aeiou'∘.=⍵:0                  ⍝ Three or more vowels\n",
    "    0≠+/'ab' 'cd' 'pq' 'xy'∊↓{⍵}⌺2⊢⍵:0   ⍝ Illegal pairs\n",
    "    1≤+/=⌿⍵,[0.5](≢⍵)↑1↓⍵                ⍝ Repeated letters\n",
    "}"
   ]
  },
  {
   "cell_type": "code",
   "execution_count": 9,
   "metadata": {},
   "outputs": [
    {
     "data": {
      "text/html": [
       "<span style=\"white-space:pre; font-family: monospace\">238\n",
       "</span>"
      ]
     },
     "execution_count": 9,
     "metadata": {},
     "output_type": "execute_result"
    }
   ],
   "source": [
    "+/Day5p1¨DAY5 ⍝ 238"
   ]
  },
  {
   "cell_type": "code",
   "execution_count": 10,
   "metadata": {},
   "outputs": [],
   "source": [
    "]dinput\n",
    "Day5p2←{\n",
    "    0=≢'(..).*\\1'⎕S'\\1'⊢⍵:0              ⍝ Regexery feels like a defeat\n",
    "    0≠+/(⊣/=⊢/){⍵}⌺3⊢⍵                   ⍝ Overlapping triplets, compare first and last columns\n",
    " }"
   ]
  },
  {
   "cell_type": "code",
   "execution_count": 11,
   "metadata": {},
   "outputs": [
    {
     "data": {
      "text/html": [
       "<span style=\"white-space:pre; font-family: monospace\">69\n",
       "</span>"
      ]
     },
     "execution_count": 11,
     "metadata": {},
     "output_type": "execute_result"
    }
   ],
   "source": [
    "+/Day5p2¨DAY5 ⍝ 69"
   ]
  },
  {
   "cell_type": "markdown",
   "metadata": {},
   "source": [
    "### Day 6: Probably a Fire Hazard\n",
    "https://adventofcode.com/2015/day/6\n",
    "\n",
    "This time we'll go old-skool with a tradfn."
   ]
  },
  {
   "cell_type": "code",
   "execution_count": 19,
   "metadata": {},
   "outputs": [],
   "source": [
    "⎕IO←0       ⍝ The problem's coordinates are 0-based.\n",
    "⎕CY 'dfns'  ⍝ iotag -- generalised iota"
   ]
  },
  {
   "cell_type": "code",
   "execution_count": 20,
   "metadata": {},
   "outputs": [],
   "source": [
    "DAY6←⊃⎕NGET 'data/2015/06.txt' 1"
   ]
  },
  {
   "cell_type": "code",
   "execution_count": 21,
   "metadata": {},
   "outputs": [],
   "source": [
    "RegexGroups←{⍺⎕S{⍵.(1↓Lengths↑¨Offsets↓¨⊂Block)} ⊢ ⍵}"
   ]
  },
  {
   "cell_type": "code",
   "execution_count": 24,
   "metadata": {},
   "outputs": [],
   "source": [
    "]dinput\n",
    "res←Day6p1 data;state;parsed;row;spec;points\n",
    "state←1000 1000⍴0\n",
    "parsed←'(on|off|toggle)\\s(\\d+),(\\d+)[^\\d]+(\\d+),(\\d+)' RegexGroups data\n",
    ":For row :In parsed\n",
    "    spec←⍎¨1↓row\n",
    "    points←(spec[0] iotag spec[2]) ∘., (spec[1] iotag spec[3])\n",
    "    :If (0⊃row)≡'on'\n",
    "        state[points]←1\n",
    "    :ElseIf (0⊃row)≡'off'\n",
    "        state[points]←0\n",
    "    :Else\n",
    "        state[points]←~state[points]\n",
    "    :EndIf\n",
    ":EndFor\n",
    "res←+/+⌿state"
   ]
  },
  {
   "cell_type": "code",
   "execution_count": 23,
   "metadata": {},
   "outputs": [
    {
     "data": {
      "text/html": [
       "<span style=\"white-space:pre; font-family: monospace\">569999\n",
       "</span>"
      ]
     },
     "execution_count": 23,
     "metadata": {},
     "output_type": "execute_result"
    }
   ],
   "source": [
    "Day6p1 DAY6 ⍝ 569999"
   ]
  },
  {
   "cell_type": "markdown",
   "metadata": {},
   "source": [
    "Part 2 is more of the same, just with different updates: turn on means add 1, turn off means subtract 1, capped at 0, and toggle means add 2."
   ]
  },
  {
   "cell_type": "code",
   "execution_count": 25,
   "metadata": {},
   "outputs": [],
   "source": [
    "]dinput\n",
    "res←Day6p2 data;state;parsed;row;op;spec;points\n",
    "state←1000 1000⍴0\n",
    "parsed←'(on|off|toggle)\\s(\\d+),(\\d+)[^\\d]+(\\d+),(\\d+)' RegexGroups data\n",
    ":For row :In parsed\n",
    "    spec←⍎¨1↓row\n",
    "    points←(spec[0] iotag spec[2]) ∘., (spec[1] iotag spec[3])\n",
    "    :If (0⊃row)≡'on'\n",
    "        state[points]+←1\n",
    "    :Elseif (0⊃row)≡'off'\n",
    "        state[points]-←1\n",
    "        state[points]⌈←0\n",
    "    :Else\n",
    "        state[points]+←2\n",
    "    :EndIf\n",
    ":EndFor\n",
    "res←+/+⌿state"
   ]
  },
  {
   "cell_type": "code",
   "execution_count": 26,
   "metadata": {},
   "outputs": [
    {
     "data": {
      "text/html": [
       "<span style=\"white-space:pre; font-family: monospace\">17836115\n",
       "</span>"
      ]
     },
     "execution_count": 26,
     "metadata": {},
     "output_type": "execute_result"
    }
   ],
   "source": [
    "Day6p2 DAY6 ⍝ 17836115"
   ]
  },
  {
   "cell_type": "markdown",
   "metadata": {},
   "source": [
    "### Day 7: Some Assembly Required\n",
    "https://adventofcode.com/2015/day/7\n",
    "\n",
    "A very interesting question. We have a set of \"gates\", specified like so:\n",
    "\n",
    "```\n",
    "af AND ah -> ai\n",
    "NOT lk -> ll\n",
    "hz RSHIFT 1 -> is\n",
    "NOT go -> gp\n",
    "du OR dt -> dv\n",
    "```\n",
    "\n",
    "So, for example, the gate \"ai\" has the value of the bitwise AND of the values of gates \"af\" and \"ah\". In other words, the gates are _functions_ with inputs and outputs, and the input data is already a full program. We can exploit this in our solution. Take\n",
    "\n",
    "    af AND ah -> ai\n",
    "  \n",
    "and turn this into an APL function\n",
    "\n",
    "    ai←{(af ⍬) AND (ah ⍬)}\n",
    "    \n",
    "assuming that we have the AND function defined. If we convert the input specifications to such APL functions, all we need to do is to run the \"a\" function to get our result. Elegant, but with a small problem: it doesn't work. \n",
    "\n",
    "The reason for this is that the functions can be expensive to compute, as may require many, many calls. However, as they never _change_, we can cache the values after the first invocation, and with this in place the solution is found very quickly. Instead of the above expression, we make\n",
    "\n",
    "    ai←({⍵⊣⍵.c←¯1}⎕NS'') Cache {(af ⍬) AND (ah ⍬)}\n",
    "\n",
    "with the Cache operator defined as \n",
    "\n",
    "    Cache←{¯1=⍺⍺.c:⍺⍺.c⊣⍺⍺.c←⍵⍵ ⍵⋄⍺⍺.c}\n",
    "    \n",
    "which takes a namespace holding the cached int value.\n",
    "\n",
    "Health warning: there is no macro facility in APL, so instead we're abusing the hydrant (⍎) function to evaluate APL code represented as strings. In lisp lingo, this is 100% unhygenic and rather unsafe."
   ]
  },
  {
   "cell_type": "code",
   "execution_count": 84,
   "metadata": {},
   "outputs": [],
   "source": [
    "⎕IO←1"
   ]
  },
  {
   "cell_type": "code",
   "execution_count": 85,
   "metadata": {},
   "outputs": [],
   "source": [
    "DAY7←⊃⎕NGET 'data/2015/07.txt' 1"
   ]
  },
  {
   "cell_type": "code",
   "execution_count": 86,
   "metadata": {},
   "outputs": [],
   "source": [
    "⍝ Some helper functions\n",
    "Bin←{(16⍴2)⊤⍵}\n",
    "Dec←{2⊥⍵}\n",
    "RegexGroups←{⍺⎕S{⍵.(1↓Lengths↑¨Offsets↓¨⊂Block)} ⊢ ⍵}\n",
    "Cache←{¯1=⍺⍺.c:⍺⍺.c⊣⍺⍺.c←⍵⍵ ⍵⋄⍺⍺.c}"
   ]
  },
  {
   "cell_type": "code",
   "execution_count": 87,
   "metadata": {},
   "outputs": [],
   "source": [
    "⍝ Gate functions as defined in the problem statement\n",
    "AND←{Dec (Bin ⍺)∧(Bin ⍵)}\n",
    "OR←{Dec (Bin ⍺)∨(Bin ⍵)}\n",
    "NOT←{Dec ~(Bin ⍵)}\n",
    "RSHIFT←{ba←Bin ⍺⋄Dec (-≢ba)↑(-⍵)↓ba}\n",
    "LSHIFT←{ba←Bin ⍺⋄Dec (≢ba)↑⍵↓ba}"
   ]
  },
  {
   "cell_type": "code",
   "execution_count": 88,
   "metadata": {},
   "outputs": [],
   "source": [
    "Arg←{1=1⊃⎕VFI ⍵:⍵ ⋄ ∊'(',⍵,' ⍬)'}"
   ]
  },
  {
   "cell_type": "code",
   "execution_count": 89,
   "metadata": {},
   "outputs": [],
   "source": [
    "Parse←{'(\\w*)\\s*(AND|NOT|OR|RSHIFT|LSHIFT|)\\s*(\\w*)\\s->\\s(\\w+)' RegexGroups ⍵}"
   ]
  },
  {
   "cell_type": "code",
   "execution_count": 90,
   "metadata": {},
   "outputs": [],
   "source": [
    "]dinput\n",
    "Compile←{ ⍝ Turn the parsed input to strings representing APL functions.\n",
    "    (⊃⍵[1])≡'NOT':∊⍵[4],'←({⍵⊣⍵.c←¯1}⎕NS'''') Cache {NOT ',(Arg ⊃⍵[3]),'}'\n",
    "    0=≢⊃⍵[2]:∊⍵[4],'←({⍵⊣⍵.c←¯1}⎕NS'''') Cache {',(Arg ⊃⍵[1]),'}'\n",
    "    ∊⍵[4],'←({⍵⊣⍵.c←¯1}⎕NS'''') Cache {',(Arg ⊃⍵[1]),' ',⍵[2],' ',(Arg ⊃⍵[3]),'}'\n",
    "}"
   ]
  },
  {
   "cell_type": "code",
   "execution_count": 91,
   "metadata": {},
   "outputs": [],
   "source": [
    "⍎¨Compile¨Parse DAY7"
   ]
  },
  {
   "cell_type": "code",
   "execution_count": 93,
   "metadata": {},
   "outputs": [
    {
     "data": {
      "text/html": [
       "<span style=\"white-space:pre; font-family: monospace\">956\n",
       "</span>"
      ]
     },
     "execution_count": 93,
     "metadata": {},
     "output_type": "execute_result"
    }
   ],
   "source": [
    "a ⍬                   ⍝ Part1: what's the value of \"a\"? => 956"
   ]
  },
  {
   "cell_type": "markdown",
   "metadata": {},
   "source": [
    "Part2: Reset, and then override \"b\" to the final value of \"a\" in Part 1. What's the value of \"a\" now?"
   ]
  },
  {
   "cell_type": "code",
   "execution_count": 96,
   "metadata": {},
   "outputs": [],
   "source": [
    "⍎¨Compile¨Parse DAY7  ⍝ Reset by recompiling"
   ]
  },
  {
   "cell_type": "code",
   "execution_count": 97,
   "metadata": {},
   "outputs": [],
   "source": [
    "b←{956}               ⍝ Override \"b\" -- no need for the Cache."
   ]
  },
  {
   "cell_type": "code",
   "execution_count": 98,
   "metadata": {},
   "outputs": [
    {
     "data": {
      "text/html": [
       "<span style=\"white-space:pre; font-family: monospace\">40149\n",
       "</span>"
      ]
     },
     "execution_count": 98,
     "metadata": {},
     "output_type": "execute_result"
    }
   ],
   "source": [
    "a ⍬                   ⍝ Part2: what's the value of \"a\"? =>40149"
   ]
  },
  {
   "cell_type": "code",
   "execution_count": 99,
   "metadata": {},
   "outputs": [
    {
     "data": {
      "text/html": [
       "<span style=\"white-space:pre; font-family: monospace\">clear ws\n",
       "</span>"
      ]
     },
     "execution_count": 99,
     "metadata": {},
     "output_type": "execute_result"
    }
   ],
   "source": [
    ")clear"
   ]
  },
  {
   "cell_type": "markdown",
   "metadata": {},
   "source": [
    "### Day 8: Matchsticks\n",
    "https://adventofcode.com/2015/day/8"
   ]
  },
  {
   "cell_type": "code",
   "execution_count": 105,
   "metadata": {},
   "outputs": [],
   "source": [
    "⎕IO←1"
   ]
  },
  {
   "cell_type": "code",
   "execution_count": 123,
   "metadata": {},
   "outputs": [],
   "source": [
    "DAY8TEXT←⊃⎕NGET 'data/2015/08.txt' 1\n",
    "DAY8BYTES←⊃{⍺⎕UCS¨⍨⊂'-\\w+$'⎕R''⊢⍵}/2↑⎕NGET 'data/2015/08.txt' 1  ⍝ Raw bytes, split on line endings"
   ]
  },
  {
   "cell_type": "code",
   "execution_count": 134,
   "metadata": {},
   "outputs": [],
   "source": [
    "Day8p1←{(≢⍵)-¯2+≢'\\\\\\\\'⎕R'\\\\'⊢s←'(\\\\x[a-f0-9]{2}|\\\\[\\''\"])'⎕R'⎕'⊢⍵}"
   ]
  },
  {
   "cell_type": "code",
   "execution_count": 135,
   "metadata": {},
   "outputs": [
    {
     "data": {
      "text/html": [
       "<span style=\"white-space:pre; font-family: monospace\">1350\n",
       "</span>"
      ]
     },
     "execution_count": 135,
     "metadata": {},
     "output_type": "execute_result"
    }
   ],
   "source": [
    "+/Day8p1¨DAY8TEXT ⍝ 1350"
   ]
  },
  {
   "cell_type": "code",
   "execution_count": 138,
   "metadata": {},
   "outputs": [],
   "source": [
    "Day8p2←{(≢⍵)-⍨(2+2×+/bq)++/~bq←3≠34 92⍳⍵} ⍝ +2 for surrounding brackets, +2 for every \" and \\"
   ]
  },
  {
   "cell_type": "code",
   "execution_count": 137,
   "metadata": {},
   "outputs": [
    {
     "data": {
      "text/html": [
       "<span style=\"white-space:pre; font-family: monospace\">2085\n",
       "</span>"
      ]
     },
     "execution_count": 137,
     "metadata": {},
     "output_type": "execute_result"
    }
   ],
   "source": [
    "+/Day8p2¨DAY8BYTES ⍝ 2085"
   ]
  },
  {
   "cell_type": "markdown",
   "metadata": {},
   "source": [
    "### Day 9: All in a Single Night\n",
    "https://adventofcode.com/2015/day/9"
   ]
  },
  {
   "cell_type": "code",
   "execution_count": 295,
   "metadata": {},
   "outputs": [],
   "source": [
    "⎕IO←1\n",
    "⎕CY 'dfns' ⍝ pmat"
   ]
  },
  {
   "cell_type": "code",
   "execution_count": 296,
   "metadata": {},
   "outputs": [],
   "source": [
    "DAY9←' '(≠⊆⊢)¨'( to | = )'⎕R' '⊃⎕NGET'data/2015/09.txt'1"
   ]
  },
  {
   "cell_type": "code",
   "execution_count": 297,
   "metadata": {},
   "outputs": [],
   "source": [
    "]dinput\n",
    "Day9←{\n",
    "     weights←w,w←⍎¨⊢/↑⍵                 ⍝ Two copies of the weights, as A->B == B->A \n",
    "     edges←(⊢⍪⌽)28 2⍴(∪⍳⊢),(↑⍵)[;1 2]   ⍝ Swap strings for numeric index, and add reverse direction\n",
    "     adj←weights@(↓edges)⊢0⍴⍨2⍴8        ⍝ Build adjacency matrix\n",
    "     (⌊/,⌈/)+/adj[↓{∊⍵}⌺1 2⊢pmat 8]     ⍝ Generate length 8 permuations, grab the path length, then min-max.\n",
    " }"
   ]
  },
  {
   "cell_type": "code",
   "execution_count": 298,
   "metadata": {},
   "outputs": [
    {
     "data": {
      "text/html": [
       "<span style=\"white-space:pre; font-family: monospace\">251 898\n",
       "</span>"
      ]
     },
     "execution_count": 298,
     "metadata": {},
     "output_type": "execute_result"
    }
   ],
   "source": [
    "Day9 DAY9 ⍝ p1: 251 p2: 898"
   ]
  },
  {
   "cell_type": "markdown",
   "metadata": {},
   "source": [
    "### Day 10: Elves Look, Elves Say\n",
    "https://adventofcode.com/2015/day/10"
   ]
  },
  {
   "cell_type": "code",
   "execution_count": 300,
   "metadata": {},
   "outputs": [],
   "source": [
    "DAY10←'3113322113'"
   ]
  },
  {
   "cell_type": "code",
   "execution_count": 301,
   "metadata": {},
   "outputs": [],
   "source": [
    "Day10←{⍵=0:≢⍺⋄(∊(⍕∘≢,1∘↑)¨({⍵⊂⍨1,2≠/⍵} ⍺))∇⍵-1} ⍝ For each group of equal elements, generate count+element"
   ]
  },
  {
   "cell_type": "code",
   "execution_count": 303,
   "metadata": {},
   "outputs": [
    {
     "data": {
      "text/html": [
       "<span style=\"white-space:pre; font-family: monospace\">329356\n",
       "</span>"
      ]
     },
     "execution_count": 303,
     "metadata": {},
     "output_type": "execute_result"
    }
   ],
   "source": [
    "DAY10 Day10 40  ⍝ 329356"
   ]
  },
  {
   "cell_type": "code",
   "execution_count": 304,
   "metadata": {},
   "outputs": [
    {
     "data": {
      "text/html": [
       "<span style=\"white-space:pre; font-family: monospace\">4666278\n",
       "</span>"
      ]
     },
     "execution_count": 304,
     "metadata": {},
     "output_type": "execute_result"
    }
   ],
   "source": [
    "DAY10 Day10 50  ⍝ 4666278"
   ]
  },
  {
   "cell_type": "markdown",
   "metadata": {},
   "source": [
    "### Day 11: Corporate Policy\n",
    "https://adventofcode.com/2015/day/11"
   ]
  },
  {
   "cell_type": "code",
   "execution_count": 330,
   "metadata": {},
   "outputs": [],
   "source": [
    "⎕IO←1\n",
    "AB←↓⍉↑(⊂,⊂)⎕A      ⍝ Repeated pairs: aa bb cc ...\n",
    "ABC←¯1↓1↓↓{⍵}⌺3⊢⎕A ⍝ Length-3 straights: abc bcd cde ..."
   ]
  },
  {
   "cell_type": "code",
   "execution_count": 325,
   "metadata": {},
   "outputs": [],
   "source": [
    "]dinput\n",
    "Next←{\n",
    "    ⍝ Generate the \"next\" string by increasing the rightmost letter\n",
    "    ⍝ and carrying on leftwards if we roll over Z->A.\n",
    "    abc←⎕A,'A'\n",
    "    ⍵ {\n",
    "        l←abc[1+abc⍳⍺[⍵]]\n",
    "        l≢'A':l@⍵⊢⍺\n",
    "        (l@⍵⊢⍺)∇⍵-1\n",
    "    } ≢⍵\n",
    "}"
   ]
  },
  {
   "cell_type": "code",
   "execution_count": 326,
   "metadata": {},
   "outputs": [],
   "source": [
    "]dinput\n",
    "Valid←{\n",
    "    ∨/'OIL'∊⍵:0             ⍝ Rule 2\n",
    "    0=+/ABC∊¯1↓1↓↓{⍵}⌺3⊢⍵:0 ⍝ Rule 1\n",
    "    (+/AB∊{⊂⍵}⌺2⊢⍵)≥2       ⍝ Rule 3\n",
    "}"
   ]
  },
  {
   "cell_type": "code",
   "execution_count": 327,
   "metadata": {},
   "outputs": [],
   "source": [
    "]dinput\n",
    "Day11←{\n",
    "    next←Next ⍵\n",
    "    Valid next:next\n",
    "    ∇next\n",
    "}"
   ]
  },
  {
   "cell_type": "code",
   "execution_count": 328,
   "metadata": {},
   "outputs": [
    {
     "data": {
      "text/html": [
       "<span style=\"white-space:pre; font-family: monospace\">HEPXXYZZ\n",
       "</span>"
      ]
     },
     "execution_count": 328,
     "metadata": {},
     "output_type": "execute_result"
    }
   ],
   "source": [
    "Day11 'HEPXCRRQ'  ⍝ HEPXXYZZ"
   ]
  },
  {
   "cell_type": "code",
   "execution_count": 329,
   "metadata": {},
   "outputs": [
    {
     "data": {
      "text/html": [
       "<span style=\"white-space:pre; font-family: monospace\">HEQAABCC\n",
       "</span>"
      ]
     },
     "execution_count": 329,
     "metadata": {},
     "output_type": "execute_result"
    }
   ],
   "source": [
    "Day11 'HEPXXYZZ'  ⍝ HEQAABCC"
   ]
  },
  {
   "cell_type": "markdown",
   "metadata": {},
   "source": [
    "### Day 12: JSAbacusFramework.io\n",
    "https://adventofcode.com/2015/day/12"
   ]
  },
  {
   "cell_type": "code",
   "execution_count": 346,
   "metadata": {},
   "outputs": [
    {
     "data": {
      "text/html": [
       "<span style=\"white-space:pre; font-family: monospace\">156366\n",
       "</span>"
      ]
     },
     "execution_count": 346,
     "metadata": {},
     "output_type": "execute_result"
    }
   ],
   "source": [
    "{+/(3=⊢/⍵)/⍵[;3]} (⎕JSON⍠'M')⊃⊃⎕NGET'data/2015/12.txt'1 ⍝ Just sum all values...156366"
   ]
  },
  {
   "cell_type": "code",
   "execution_count": 347,
   "metadata": {},
   "outputs": [],
   "source": [
    "]dinput\n",
    "ValidItems←{\n",
    "    values←{0=≢⍵.(⎕NL ¯2):⍬⋄⍵.(⍎¨⎕NL ¯2)} ⍵ \n",
    "    (⊂'red')∊values:,0\n",
    "    0=≢⍵.(⎕NL ¯9):values\n",
    "    values,∊∇¨⍵.(⍎¨⎕NL ¯9)\n",
    "}"
   ]
  },
  {
   "cell_type": "code",
   "execution_count": 348,
   "metadata": {},
   "outputs": [],
   "source": [
    "]dinput\n",
    "Day12p2←{\n",
    "    {(1=2|⎕DR)⍵}⍵:⍵                        ⍝ Are we a number?\n",
    "    (⍕≡⊢)⍵:0                               ⍝ Are we a string?\n",
    "    {(326=⎕DR⍵)∧(0=≡)⍵} ⍵:+/∇ValidItems ⍵  ⍝ Are we an object?\n",
    "    +/∊∇¨⍵                                 ⍝ We're a list\n",
    "}"
   ]
  },
  {
   "cell_type": "code",
   "execution_count": 349,
   "metadata": {},
   "outputs": [
    {
     "data": {
      "text/html": [
       "<span style=\"white-space:pre; font-family: monospace\">96852\n",
       "</span>"
      ]
     },
     "execution_count": 349,
     "metadata": {},
     "output_type": "execute_result"
    }
   ],
   "source": [
    "Day12p2 ⎕JSON⊃⊃⎕NGET'data/2015/12.txt'1    ⍝ 96852"
   ]
  },
  {
   "cell_type": "markdown",
   "metadata": {},
   "source": [
    "### Day 13: Knights of the Dinner Table\n",
    "https://adventofcode.com/2015/day/13\n",
    "\n",
    "This is very similar to day 9, and we can broadly use the same technique."
   ]
  },
  {
   "cell_type": "code",
   "execution_count": 444,
   "metadata": {},
   "outputs": [],
   "source": [
    "⎕IO←1\n",
    "RegexGroups←{⍺⎕S{⍵.(1↓Lengths↑¨Offsets↓¨⊂Block)} ⊢ ⍵}\n",
    "DAY13← ↑'(.+) would (gain|lose) (\\d+).+to ([^.]+)' RegexGroups ⊃⎕NGET'data/2015/13.txt'1"
   ]
  },
  {
   "cell_type": "code",
   "execution_count": 445,
   "metadata": {},
   "outputs": [],
   "source": [
    "EDGES←⍉(⊣/DAY13),[0.5]⊢/DAY13\n",
    "WEIGHTS←-@(((⊂'lose')≡¨DAY13[;2])/⍳≢DAY13[;2]) ⊢ ⍎¨DAY13[;3]"
   ]
  },
  {
   "cell_type": "code",
   "execution_count": 446,
   "metadata": {},
   "outputs": [],
   "source": [
    "e←(⍴EDGES)⍴(∪⍳⊢),EDGES    ⍝ Convert strings to indexes\n",
    "adj←WEIGHTS@(↓e)⊢0⍴⍨2⍴8   ⍝ Happiness matrix"
   ]
  },
  {
   "cell_type": "code",
   "execution_count": 447,
   "metadata": {},
   "outputs": [
    {
     "data": {
      "text/html": [
       "<span style=\"white-space:pre; font-family: monospace\">┌→──────────────────────────────┐\n",
       "↓  0   2  26 ¯82 ¯75  42  38  39│\n",
       "│ 40   0 ¯61 ¯15  63  41  30  87│\n",
       "│¯35 ¯99   0 ¯51  95  90 ¯16  94│\n",
       "│ 36 ¯18 ¯65   0 ¯18 ¯22   2  42│\n",
       "│¯65  24 100  51   0  21  55 ¯44│\n",
       "│¯48  91   8 ¯66  97   0  ¯9 ¯92│\n",
       "│¯44 ¯25  17  92 ¯92  18   0  97│\n",
       "│ 92 ¯96 ¯51 ¯81  31 ¯73 ¯89   0│\n",
       "└~──────────────────────────────┘\n",
       "</span>"
      ]
     },
     "execution_count": 447,
     "metadata": {},
     "output_type": "execute_result"
    }
   ],
   "source": [
    "adj                       ⍝ Note: asymmetric!"
   ]
  },
  {
   "cell_type": "markdown",
   "metadata": {},
   "source": [
    "Unlike Day 9, this graph is directional, so the weight from A to B is not the same as the weight from B to A. So we need to generate all permutations of length 8, but then ensure that we also have the reverse directions -- and also ensure that the end is tied back to the beginning.\n",
    "\n",
    "The expression `p,⊣/p←pmat 8` copies the first column to the end to ensure the circle is connected, and `m,1↓[2]⌽m` means that we add in all the reverse connections."
   ]
  },
  {
   "cell_type": "code",
   "execution_count": 450,
   "metadata": {},
   "outputs": [
    {
     "data": {
      "text/html": [
       "<span style=\"white-space:pre; font-family: monospace\">   \n",
       "733\n",
       "   \n",
       "</span>"
      ]
     },
     "execution_count": 450,
     "metadata": {},
     "output_type": "execute_result"
    }
   ],
   "source": [
    "⌈/+/adj[↓{∊⍵}⌺1 2⊢m,1↓[2]⌽m←p,⊣/p←pmat 8] ⍝ Part 1: 733"
   ]
  },
  {
   "cell_type": "markdown",
   "metadata": {},
   "source": [
    "For part 2 we simply don't connect the circle -- this has the same effect as inserting a weight-0 node."
   ]
  },
  {
   "cell_type": "code",
   "execution_count": 451,
   "metadata": {},
   "outputs": [
    {
     "data": {
      "text/html": [
       "<span style=\"white-space:pre; font-family: monospace\">   \n",
       "725\n",
       "   \n",
       "</span>"
      ]
     },
     "execution_count": 451,
     "metadata": {},
     "output_type": "execute_result"
    }
   ],
   "source": [
    "⌈/+/adj[↓{∊⍵}⌺1 2⊢m,1↓[2]⌽m←pmat 8] ⍝ Part 2: 725"
   ]
  },
  {
   "cell_type": "markdown",
   "metadata": {},
   "source": [
    "### Day 14: Reindeer Olympics\n",
    "https://adventofcode.com/2015/day/14"
   ]
  },
  {
   "cell_type": "code",
   "execution_count": 475,
   "metadata": {},
   "outputs": [],
   "source": [
    "⎕IO←1\n",
    "DAY14←⍎¨'\\d+'⎕S'&'⊃⎕NGET'data/2015/14.txt'1"
   ]
  },
  {
   "cell_type": "code",
   "execution_count": 476,
   "metadata": {},
   "outputs": [],
   "source": [
    "DATA←(≢DAY14)3⍴DAY14"
   ]
  },
  {
   "cell_type": "code",
   "execution_count": 477,
   "metadata": {},
   "outputs": [],
   "source": [
    "⍝ Speed, Travel-time, Rest-time, State, Counter, Distance travelled, Score\n",
    "LB←(((DATA,1),(DATA[;2])),0),0  "
   ]
  },
  {
   "cell_type": "code",
   "execution_count": 481,
   "metadata": {},
   "outputs": [],
   "source": [
    "]dinput\n",
    "Day14p1←{\n",
    "    lb←⍵\n",
    "    lb[;5] -← 1                          ⍝ Decrease the counter\n",
    "    lb[;6] +← lb[;1]×1=lb[;4]            ⍝ Move any movers; resters unchanged\n",
    "    lb[;7]+←(⌈/a)=a←lb[;6]               ⍝ Add 1 to the leaders col for part 2.\n",
    "    ↑{0≠⍵[5]:⍵⋄⍵[3-s[4]]@5⊢s←~@4⊢⍵}¨↓lb  ⍝ Perform state transitions where counter is 0\n",
    "}"
   ]
  },
  {
   "cell_type": "code",
   "execution_count": 484,
   "metadata": {},
   "outputs": [
    {
     "data": {
      "text/html": [
       "<span style=\"white-space:pre; font-family: monospace\">    \n",
       "2655\n",
       "    \n",
       "</span>"
      ]
     },
     "execution_count": 484,
     "metadata": {},
     "output_type": "execute_result"
    },
    {
     "data": {
      "text/html": [
       "<span style=\"white-space:pre; font-family: monospace\">    \n",
       "1059\n",
       "    \n",
       "</span>"
      ]
     },
     "execution_count": 484,
     "metadata": {},
     "output_type": "execute_result"
    }
   ],
   "source": [
    "RACE←Day14p1⍣2503⊢LB                     ⍝ Run for 2503 iterations\n",
    "⌈/RACE[;6]                               ⍝ Part 1 is max distance: 2655\n",
    "⌈/RACE[;7]                               ⍝ Part 2 is max score: 1059"
   ]
  },
  {
   "cell_type": "markdown",
   "metadata": {},
   "source": [
    "### Day 15: Science for Hungry People\n",
    "https://adventofcode.com/2015/day/15"
   ]
  },
  {
   "cell_type": "code",
   "execution_count": 47,
   "metadata": {},
   "outputs": [],
   "source": [
    "⎕IO←1\n",
    "DAY15←⍎¨'-?\\d+'⎕S'&'⊃⎕NGET'data/2015/15.txt'1   ⍝ Just the numbers, please"
   ]
  },
  {
   "cell_type": "code",
   "execution_count": 48,
   "metadata": {},
   "outputs": [],
   "source": [
    "DATA←(5÷⍨≢DAY15)5⍴DAY15                         ⍝ Wrestle into a matrix with 5 numbers per row"
   ]
  },
  {
   "cell_type": "code",
   "execution_count": 49,
   "metadata": {},
   "outputs": [],
   "source": [
    "CAL←⊢/DATA                                      ⍝ Keep calorie data in a vector\n",
    "INGR←¯1↓[2]DATA                                 ⍝ Just the ingredients"
   ]
  },
  {
   "cell_type": "code",
   "execution_count": 50,
   "metadata": {},
   "outputs": [],
   "source": [
    "]dinput\n",
    "Cmb←{                                           ⍝ Find all combinations of N numbers ∊⍳M that sum to M\n",
    "    (num total)←⍵\n",
    "    A←⊃∘.+/(num-1)⍴⊂⍳total\n",
    "    ⊃,/{⍵,¨⍸(total-⍵)=A}¨⍳total\n",
    "}"
   ]
  },
  {
   "cell_type": "code",
   "execution_count": 51,
   "metadata": {},
   "outputs": [],
   "source": [
    "Day15p1←{ingr←⍵ ⋄ ⌈/{×/0∘⌈¨⍵+.×ingr}¨Cmb 4 100} ⍝ Multiply with cost matrix, multiply again, removing negatives"
   ]
  },
  {
   "cell_type": "code",
   "execution_count": 52,
   "metadata": {},
   "outputs": [],
   "source": [
    "Day15p2←{ingr←⍵ ⋄ cal←⍺ ⋄ ⌈/{500=+/cal×⍵:×/0∘⌈¨⍵+.×ingr⋄0}¨Cmb 4 100} ⍝ As above, but exactly 500 cals."
   ]
  },
  {
   "cell_type": "code",
   "execution_count": 53,
   "metadata": {},
   "outputs": [
    {
     "data": {
      "text/html": [
       "<span style=\"white-space:pre; font-family: monospace\">      \n",
       "222870\n",
       "      \n",
       "</span>"
      ]
     },
     "execution_count": 53,
     "metadata": {},
     "output_type": "execute_result"
    }
   ],
   "source": [
    "Day15p1 INGR ⍝ 222870"
   ]
  },
  {
   "cell_type": "code",
   "execution_count": 54,
   "metadata": {},
   "outputs": [
    {
     "data": {
      "text/html": [
       "<span style=\"white-space:pre; font-family: monospace\">      \n",
       "117936\n",
       "      \n",
       "</span>"
      ]
     },
     "execution_count": 54,
     "metadata": {},
     "output_type": "execute_result"
    }
   ],
   "source": [
    "CAL Day15p2 INGR ⍝ 117936"
   ]
  },
  {
   "cell_type": "markdown",
   "metadata": {},
   "source": [
    "### Day 16: Aunt Sue\n",
    "https://adventofcode.com/2015/day/16"
   ]
  },
  {
   "cell_type": "code",
   "execution_count": null,
   "metadata": {},
   "outputs": [],
   "source": []
  }
 ],
 "metadata": {
  "kernelspec": {
   "display_name": "Dyalog APL",
   "language": "apl",
   "name": "dyalog-kernel"
  },
  "language_info": {
   "file_extension": ".apl",
   "mimetype": "text/apl",
   "name": "APL"
  }
 },
 "nbformat": 4,
 "nbformat_minor": 2
}
