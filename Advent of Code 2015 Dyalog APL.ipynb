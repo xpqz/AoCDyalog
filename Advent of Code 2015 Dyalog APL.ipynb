{
 "cells": [
  {
   "cell_type": "markdown",
   "metadata": {},
   "source": [
    "# Advent of Code 2015, Dyalog APL edition"
   ]
  },
  {
   "cell_type": "code",
   "execution_count": 1,
   "metadata": {},
   "outputs": [
    {
     "data": {
      "text/html": [
       "<span style=\"white-space:pre; font-family: monospace\">done\n",
       "\n",
       "Rebuilding user command cache... done\n",
       "</span>"
      ]
     },
     "execution_count": 1,
     "metadata": {},
     "output_type": "execute_result"
    },
    {
     "data": {
      "text/html": [
       "<span style=\"white-space:pre; font-family: monospace\">┌→─────────────────────────────────────┐\n",
       "│Was ON -style=min -trains=tree -fns=on│\n",
       "└──────────────────────────────────────┘\n",
       "</span>"
      ]
     },
     "execution_count": 1,
     "metadata": {},
     "output_type": "execute_result"
    }
   ],
   "source": [
    "⎕IO←1\n",
    "]box on -style=max -trains=tree -fns=on ⍝ Pass all output through DISPLAY"
   ]
  },
  {
   "cell_type": "markdown",
   "metadata": {},
   "source": [
    "### Day 1: Not Quite Lisp\n",
    "https://adventofcode.com/2015/day/1"
   ]
  },
  {
   "cell_type": "code",
   "execution_count": 2,
   "metadata": {},
   "outputs": [],
   "source": [
    "DAY1←⊃⊃⎕NGET 'data/2015/01.txt' 1"
   ]
  },
  {
   "cell_type": "code",
   "execution_count": 3,
   "metadata": {},
   "outputs": [],
   "source": [
    "Day1p1←{+/+⌿-@2⌷'()'∘.=⍵}     ⍝ Binary mask with positions for '(' in row 1 and ')' in row 2, \n",
    "                              ⍝ and then row 2 negated. Sum down, then across."
   ]
  },
  {
   "cell_type": "code",
   "execution_count": 4,
   "metadata": {},
   "outputs": [
    {
     "data": {
      "text/html": [
       "<span style=\"white-space:pre; font-family: monospace\">   \n",
       "138\n",
       "   \n",
       "</span>"
      ]
     },
     "execution_count": 4,
     "metadata": {},
     "output_type": "execute_result"
    }
   ],
   "source": [
    "Day1p1 DAY1 ⍝ 138"
   ]
  },
  {
   "cell_type": "code",
   "execution_count": 5,
   "metadata": {},
   "outputs": [],
   "source": [
    "Day1p2←{1⊃⍸{⍵<0}¨+\\+⌿-@2⌷'()'∘.=⍵} ⍝ As before, but scan-sum across and create mask of negatives and pick first."
   ]
  },
  {
   "cell_type": "code",
   "execution_count": 6,
   "metadata": {},
   "outputs": [
    {
     "data": {
      "text/html": [
       "<span style=\"white-space:pre; font-family: monospace\">    \n",
       "1771\n",
       "    \n",
       "</span>"
      ]
     },
     "execution_count": 6,
     "metadata": {},
     "output_type": "execute_result"
    }
   ],
   "source": [
    "Day1p2 DAY1 ⍝ 1771"
   ]
  },
  {
   "cell_type": "markdown",
   "metadata": {},
   "source": [
    "### Day 2: I Was Told There Would Be No Math\n",
    "https://adventofcode.com/2015/day/2"
   ]
  },
  {
   "cell_type": "code",
   "execution_count": 7,
   "metadata": {},
   "outputs": [],
   "source": [
    "DAY2←2⊃¨'x'⎕VFI¨⊃⎕NGET 'data/2015/02.txt' 1  ⍝ Many lines. Pick out three ints from each, separated by 'x'"
   ]
  },
  {
   "cell_type": "code",
   "execution_count": 8,
   "metadata": {},
   "outputs": [],
   "source": [
    "Day2p1←{(l w h)←⍵ ⋄ s[⊃⍋s]++/2×s←(l×w) (w×h) (h×l)}"
   ]
  },
  {
   "cell_type": "code",
   "execution_count": 9,
   "metadata": {},
   "outputs": [
    {
     "data": {
      "text/html": [
       "<span style=\"white-space:pre; font-family: monospace\">       \n",
       "1606483\n",
       "       \n",
       "</span>"
      ]
     },
     "execution_count": 9,
     "metadata": {},
     "output_type": "execute_result"
    }
   ],
   "source": [
    "+/Day2p1¨DAY2 ⍝ 1606483"
   ]
  },
  {
   "cell_type": "code",
   "execution_count": 10,
   "metadata": {},
   "outputs": [],
   "source": [
    "Day2p2←{(ll ww hh)←2×⍵⋄c[⊃⍋c←(hh+ww) (ww+ll) (ll+hh)]+×/⍵}"
   ]
  },
  {
   "cell_type": "code",
   "execution_count": 11,
   "metadata": {},
   "outputs": [
    {
     "data": {
      "text/html": [
       "<span style=\"white-space:pre; font-family: monospace\">       \n",
       "3842356\n",
       "       \n",
       "</span>"
      ]
     },
     "execution_count": 11,
     "metadata": {},
     "output_type": "execute_result"
    }
   ],
   "source": [
    "+/Day2p2¨DAY2 ⍝ 3842356"
   ]
  },
  {
   "cell_type": "markdown",
   "metadata": {},
   "source": [
    "### Day 3: Perfectly Spherical Houses in a Vacuum\n",
    "\n",
    "https://adventofcode.com/2015/day/3"
   ]
  },
  {
   "cell_type": "code",
   "execution_count": 12,
   "metadata": {},
   "outputs": [],
   "source": [
    "DAY3←⊃⊃⎕NGET 'data/2015/03.txt' 1"
   ]
  },
  {
   "cell_type": "code",
   "execution_count": 13,
   "metadata": {},
   "outputs": [],
   "source": [
    "]dinput\n",
    "Day3p1←{\n",
    "    points←-@1 3⌷'^v<>'∘.=⍵                   ⍝ Matrix with 4 rows -y, y, -x, x\n",
    "    ⍉(+\\+⌿points[3 4;]),[0.5]+\\+⌿points[1 2;] ⍝ Sum first along axis 1, then sum-scan along axis 2\n",
    "}                                             ⍝ separately for x and y. Laminate x and y parts, transpose"
   ]
  },
  {
   "cell_type": "code",
   "execution_count": 14,
   "metadata": {},
   "outputs": [
    {
     "data": {
      "text/html": [
       "<span style=\"white-space:pre; font-family: monospace\">    \n",
       "2081\n",
       "    \n",
       "</span>"
      ]
     },
     "execution_count": 14,
     "metadata": {},
     "output_type": "execute_result"
    }
   ],
   "source": [
    "1+≢∪ Day3p1 DAY3 ⍝ 2081"
   ]
  },
  {
   "cell_type": "code",
   "execution_count": 15,
   "metadata": {},
   "outputs": [],
   "source": [
    "Day3p2←{(1⊃p)⍪2⊃p←Day3p1¨{⍵⊢∘⊂⌸⍨2|⍳≢⍵}⍵}      ⍝ Unzip ⍵ so we can treat santa and robo's paths separately"
   ]
  },
  {
   "cell_type": "code",
   "execution_count": 16,
   "metadata": {},
   "outputs": [
    {
     "data": {
      "text/html": [
       "<span style=\"white-space:pre; font-family: monospace\">    \n",
       "2341\n",
       "    \n",
       "</span>"
      ]
     },
     "execution_count": 16,
     "metadata": {},
     "output_type": "execute_result"
    }
   ],
   "source": [
    "≢∪ Day3p2 DAY3 ⍝ 2341"
   ]
  },
  {
   "cell_type": "markdown",
   "metadata": {},
   "source": [
    "### Day 4: The Ideal Stocking Stuffer\n",
    "https://adventofcode.com/2015/day/4"
   ]
  },
  {
   "cell_type": "code",
   "execution_count": 27,
   "metadata": {},
   "outputs": [],
   "source": [
    "Md5←{⎕SH 'md5 -q -s \"',⍵,'\"'}  ⍝ No Dyalog built-in MD5 function, sadly"
   ]
  },
  {
   "cell_type": "code",
   "execution_count": 28,
   "metadata": {},
   "outputs": [],
   "source": [
    "Day4p1←{⍺←0⋄'00000'≡5↑Md5 ⍵,⍕⍺:⍺⋄(⍺+1)∇⍵}  ⍝ NOTE: INTRACTABLE WITHOUT NATIVE MD5"
   ]
  },
  {
   "cell_type": "code",
   "execution_count": 23,
   "metadata": {},
   "outputs": [
    {
     "name": "stderr",
     "output_type": "stream",
     "text": [
      "DOMAIN ERROR: Invalid right argument\n",
      "Md5[0] Md5←{⎕SH'md5 -q -s \"',⍵,'\"'}  ⍝ No Dyalog built-in MD5 function, sadly\n",
      "            ∧\n"
     ]
    }
   ],
   "source": [
    "Day4p1 'yzbqklnj'"
   ]
  },
  {
   "cell_type": "code",
   "execution_count": 24,
   "metadata": {},
   "outputs": [
    {
     "data": {
      "text/html": [
       "<span style=\"white-space:pre; font-family: monospace\">5d41402abc4b2a76b9719d911017c592\n",
       "</span>"
      ]
     },
     "execution_count": 24,
     "metadata": {},
     "output_type": "execute_result"
    }
   ],
   "source": [
    "Md5 'hello'"
   ]
  },
  {
   "cell_type": "code",
   "execution_count": 26,
   "metadata": {},
   "outputs": [
    {
     "data": {
      "text/html": [
       "<span style=\"white-space:pre; font-family: monospace\">3ea10f278d8984e8c6e0904a00d6b8a4\n",
       "</span>"
      ]
     },
     "execution_count": 26,
     "metadata": {},
     "output_type": "execute_result"
    }
   ],
   "source": [
    "Md5'yzbqklnj',⍕4"
   ]
  },
  {
   "cell_type": "code",
   "execution_count": null,
   "metadata": {},
   "outputs": [],
   "source": []
  }
 ],
 "metadata": {
  "kernelspec": {
   "display_name": "Dyalog APL",
   "language": "apl",
   "name": "dyalog-kernel"
  },
  "language_info": {
   "file_extension": ".apl",
   "mimetype": "text/apl",
   "name": "APL"
  }
 },
 "nbformat": 4,
 "nbformat_minor": 2
}
