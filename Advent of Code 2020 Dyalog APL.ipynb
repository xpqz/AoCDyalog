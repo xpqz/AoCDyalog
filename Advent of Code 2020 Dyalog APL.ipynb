{
 "cells": [
  {
   "cell_type": "markdown",
   "metadata": {},
   "source": [
    "# Advent of Code 2020, Dyalog APL edition\n",
    "\n",
    "To see a correct render of this notebook, check it out on [nbviewer](https://nbviewer.jupyter.org/github/xpqz/AoCDyalog/blob/master/Advent%20of%20Code%202020%20Dyalog%20APL.ipynb).\n",
    "\n",
    "Annotated solutions in Dyalog APL. Why? A language that doesn't affect the way you think about programming is not worth knowing.\n",
    "\n",
    "Note that part of the charm of AoC is that every user (or at least groups of users) gets their own unique data set. Some of the solutions below exploit quirks in my particular data set, and so may conceivably not work for the general case."
   ]
  },
  {
   "cell_type": "code",
   "execution_count": 1,
   "metadata": {},
   "outputs": [
    {
     "data": {
      "text/html": [
       "<span style=\"white-space:pre; font-family: monospace\">done\n",
       "</span>"
      ]
     },
     "execution_count": 1,
     "metadata": {},
     "output_type": "execute_result"
    },
    {
     "data": {
      "text/html": [
       "<span style=\"white-space:pre; font-family: monospace\">┌→─────────────────────────────────────┐\n",
       "│Was ON -style=min -trains=tree -fns=on│\n",
       "└──────────────────────────────────────┘\n",
       "</span>"
      ]
     },
     "execution_count": 1,
     "metadata": {},
     "output_type": "execute_result"
    },
    {
     "data": {
      "text/html": [
       "<span style=\"white-space:pre; font-family: monospace\">┌→──────┐\n",
       "│Was OFF│\n",
       "└───────┘\n",
       "</span>"
      ]
     },
     "execution_count": 1,
     "metadata": {},
     "output_type": "execute_result"
    }
   ],
   "source": [
    "⍝ Helper functions and common settings\n",
    "⎕FR ⎕PP ⎕IO←1287 34 0\n",
    "assert←{⍺←'assertion failure' ⋄ 0∊⍵:⍺ ⎕signal 8 ⋄ shy←0}\n",
    "rg←{⍵.(1↓Lengths↑¨Offsets↓¨⊂Block)} ⍝ capture groups as vector\n",
    "'segs'⎕CY'dfns'\n",
    "\n",
    "⍝ Some visualisation help, please\n",
    "]box on -style=max -trains=tree -fns=on\n",
    "]rows on"
   ]
  },
  {
   "cell_type": "markdown",
   "metadata": {},
   "source": [
    "### Day 1: Report Repair\n",
    "https://adventofcode.com/2020/day/1\n",
    "\n",
    "Outer product sum, find locations of 2020 and multiply. "
   ]
  },
  {
   "cell_type": "code",
   "execution_count": 50,
   "metadata": {},
   "outputs": [
    {
     "data": {
      "text/html": [
       "<span style=\"white-space:pre; font-family: monospace\">┌→──────────────┐\n",
       "│73371 127642310│\n",
       "└~──────────────┘\n",
       "</span>"
      ]
     },
     "execution_count": 50,
     "metadata": {},
     "output_type": "execute_result"
    }
   ],
   "source": [
    "⊢result←1 2{×/⍵[⊃⍸2020=∘.+⍣⍺⍨⍵]}¨⊂⍎⍕⊃⎕NGET'data/2020/day01.txt'1\n",
    "assert 73371 127642310≡result"
   ]
  },
  {
   "cell_type": "markdown",
   "metadata": {},
   "source": [
    "### Day 2: Password Philosophy\n",
    "https://adventofcode.com/2020/day/2"
   ]
  },
  {
   "cell_type": "code",
   "execution_count": 40,
   "metadata": {},
   "outputs": [],
   "source": [
    "⎕IO←1\n",
    "DAY02←⍎¨@1 2¨'- :'∘segs¨⊃⎕NGET'data/2020/day02.txt'1"
   ]
  },
  {
   "cell_type": "code",
   "execution_count": 42,
   "metadata": {},
   "outputs": [
    {
     "data": {
      "text/html": [
       "<span style=\"white-space:pre; font-family: monospace\">┌→──────┐\n",
       "│528 497│\n",
       "└~──────┘\n",
       "</span>"
      ]
     },
     "execution_count": 42,
     "metadata": {},
     "output_type": "execute_result"
    }
   ],
   "source": [
    "⊢result←+⌿↑{(b t l s)←⍵⋄((b∘≤∧t∘≥)+/l=s)(⊃(l=b⊃s)≠l=t⊃s)}¨DAY02\n",
    "assert 528 497≡result"
   ]
  },
  {
   "cell_type": "markdown",
   "metadata": {},
   "source": [
    "Ok, perhaps a bit messy. Here's the same idea, in long-hand:"
   ]
  },
  {
   "cell_type": "code",
   "execution_count": 43,
   "metadata": {},
   "outputs": [],
   "source": [
    "]dinput\n",
    "Part1←{\n",
    "    (min max letter string)←⍵\n",
    "    count←+/letter=string\n",
    "    (min∘≤∧≤∘max) count\n",
    "}"
   ]
  },
  {
   "cell_type": "code",
   "execution_count": 47,
   "metadata": {},
   "outputs": [],
   "source": [
    "]dinput\n",
    "Part2←{\n",
    "    (min max letter string)←⍵                ⍝ De-structure \n",
    "    ⊃(letter=min⊃string)≠(letter=max⊃string) ⍝ Pick the values, and XOR\n",
    "}"
   ]
  },
  {
   "cell_type": "code",
   "execution_count": 45,
   "metadata": {},
   "outputs": [],
   "source": [
    "assert 528=+/Part1¨DAY02\n",
    "assert 497=+/Part2¨DAY02  "
   ]
  },
  {
   "cell_type": "markdown",
   "metadata": {},
   "source": [
    "Another neat trick worth remembering is that the built-in ⎕CSV can do numeric conversion:"
   ]
  },
  {
   "cell_type": "code",
   "execution_count": 68,
   "metadata": {},
   "outputs": [],
   "source": [
    "b t l s←↓⍉⎕CSV('\\W+'⎕R','⊃⎕NGET'data/2020/day02.txt' 1)''4"
   ]
  },
  {
   "cell_type": "markdown",
   "metadata": {},
   "source": [
    "Here's another version, jazzed up by ninja-master @ngn:"
   ]
  },
  {
   "cell_type": "code",
   "execution_count": 46,
   "metadata": {},
   "outputs": [
    {
     "data": {
      "text/html": [
       "<span style=\"white-space:pre; font-family: monospace\">   \n",
       "528\n",
       "   \n",
       "</span>"
      ]
     },
     "execution_count": 46,
     "metadata": {},
     "output_type": "execute_result"
    },
    {
     "data": {
      "text/html": [
       "<span style=\"white-space:pre; font-family: monospace\">   \n",
       "497\n",
       "   \n",
       "</span>"
      ]
     },
     "execution_count": 46,
     "metadata": {},
     "output_type": "execute_result"
    },
    {
     "data": {
      "text/html": [
       "<span style=\"white-space:pre; font-family: monospace\">   \n",
       "528\n",
       "   \n",
       "</span>"
      ]
     },
     "execution_count": 46,
     "metadata": {},
     "output_type": "execute_result"
    },
    {
     "data": {
      "text/html": [
       "<span style=\"white-space:pre; font-family: monospace\">   \n",
       "497\n",
       "   \n",
       "</span>"
      ]
     },
     "execution_count": 46,
     "metadata": {},
     "output_type": "execute_result"
    }
   ],
   "source": [
    "p q l s←↓⍉↑DAY02\n",
    "+/(p∘≤∧≤∘q)+/¨s=∊l\n",
    "+/≠⌿↑p q⊃¨¨⊂s=∊l\n",
    "\n",
    "⍝ Or as a matrix\n",
    "b←↑s=∊l\n",
    "+/(p∘≤∧≤∘q)+/b\n",
    "+/≠/(p,⍪q)⊃⍤0 1⍤1⊢b"
   ]
  },
  {
   "cell_type": "markdown",
   "metadata": {},
   "source": [
    "### Day 3: Toboggan Trajectory\n",
    "https://adventofcode.com/2020/day/3\n",
    "\n",
    "The first approach that comes to mind is a reduce over the path's steps which we can implement either as a tail-recursive function, or by pre-calculating the coordinate vector."
   ]
  },
  {
   "cell_type": "code",
   "execution_count": 61,
   "metadata": {},
   "outputs": [],
   "source": [
    "⎕IO←0\n",
    "DAY03←↑⊃⎕NGET'data/2020/day03.txt'1"
   ]
  },
  {
   "cell_type": "code",
   "execution_count": 62,
   "metadata": {},
   "outputs": [],
   "source": [
    "]dinput\n",
    "Slope←{\n",
    "    (dy dx)←⍵\n",
    "    d←⍺\n",
    "    0 { ⍝ Tail-recursive accumulation\n",
    "        (y x)←⍵\n",
    "        y≥≢d:⍺\n",
    "        (⍺+'#'=d[y;(1⊃⍴d)|x])∇dy dx + y x\n",
    "    } 0 0\n",
    "}"
   ]
  },
  {
   "cell_type": "code",
   "execution_count": 63,
   "metadata": {},
   "outputs": [
    {
     "data": {
      "text/html": [
       "<span style=\"white-space:pre; font-family: monospace\">┌→──────────────┐\n",
       "│68 203 78 77 40│\n",
       "└~──────────────┘\n",
       "</span>"
      ]
     },
     "execution_count": 63,
     "metadata": {},
     "output_type": "execute_result"
    }
   ],
   "source": [
    "⊢result←DAY03∘Slope¨(1 1)(1 3)(1 5)(1 7)(2 1)"
   ]
  },
  {
   "cell_type": "code",
   "execution_count": 64,
   "metadata": {},
   "outputs": [],
   "source": [
    "assert 203=1⊃result ⍝ Part 1\n",
    "assert 3316272960=×/result"
   ]
  },
  {
   "cell_type": "markdown",
   "metadata": {},
   "source": [
    "Considerably more idiomatically, we can simply create the coordinate vector representing the slope first."
   ]
  },
  {
   "cell_type": "code",
   "execution_count": 66,
   "metadata": {},
   "outputs": [],
   "source": [
    "]dinput\n",
    "Slope2←{\n",
    "    coords←↓⍉↑(⍴⍺)|⍵×⊂⍳⌈(≢⍺)÷⊃⍵\n",
    "    +/'#'=⍺[coords]\n",
    "}"
   ]
  },
  {
   "cell_type": "code",
   "execution_count": 67,
   "metadata": {},
   "outputs": [
    {
     "data": {
      "text/html": [
       "<span style=\"white-space:pre; font-family: monospace\">┌→──────────────┐\n",
       "│68 203 78 77 40│\n",
       "└~──────────────┘\n",
       "</span>"
      ]
     },
     "execution_count": 67,
     "metadata": {},
     "output_type": "execute_result"
    }
   ],
   "source": [
    "⊢result←DAY03∘Slope2¨(1 1)(1 3)(1 5)(1 7)(2 1)"
   ]
  },
  {
   "cell_type": "markdown",
   "metadata": {},
   "source": [
    "### Day 4: Passport Processing\n",
    "https://adventofcode.com/2020/day/4"
   ]
  },
  {
   "cell_type": "code",
   "execution_count": 120,
   "metadata": {},
   "outputs": [],
   "source": [
    "DAY04←⊃¨{,/¨(' :'∘segs¨⍵)⊆⍨×≢¨⍵} ⊃⎕NGET'data/2020/day04.txt'1\n",
    "eyr←(2020∘≤∧≤∘2030)⍎\n",
    "iyr←(2010∘≤∧≤∘2020)⍎\n",
    "byr←(1920∘≤∧≤∘2002)⍎\n",
    "ecl←'amb' 'blu' 'brn' 'gry' 'grn' 'hzl' 'oth'∊⍨⊂\n",
    "pid←≢'^\\d{9}$'⎕S''\n",
    "hcl←≢'^#[a-f0-9]{6}$'⎕S''\n",
    "cid←{1}\n",
    "hgt←≢'^(((59|6[0-9]|7[0-6])in)|((1[5-8][0-9]|19[0-3])cm))$'⎕S''"
   ]
  },
  {
   "cell_type": "code",
   "execution_count": 121,
   "metadata": {},
   "outputs": [
    {
     "data": {
      "text/html": [
       "<span style=\"white-space:pre; font-family: monospace\">┌→──────┐\n",
       "│256 198│\n",
       "└~──────┘\n",
       "</span>"
      ]
     },
     "execution_count": 121,
     "metadata": {},
     "output_type": "execute_result"
    }
   ],
   "source": [
    "part1←'byr' 'iyr' 'eyr' 'hgt' 'hcl' 'ecl' 'pid'∘(∧/∊)¨pp←(0≠≢¨DAY04)/DAY04\n",
    "part2←{∧/{(⍎⍺)⍵}/(2÷⍨≢⍵)2⍴⍵}¨part1/pp\n",
    "⊢result←+/¨part1 part2\n",
    "assert 256 198≡result"
   ]
  },
  {
   "cell_type": "markdown",
   "metadata": {},
   "source": [
    "### Day 5: Binary Boarding\n",
    "https://adventofcode.com/2020/day/5"
   ]
  },
  {
   "cell_type": "code",
   "execution_count": 48,
   "metadata": {},
   "outputs": [
    {
     "data": {
      "text/html": [
       "<span style=\"white-space:pre; font-family: monospace\">   \n",
       "888\n",
       "   \n",
       "</span>"
      ]
     },
     "execution_count": 48,
     "metadata": {},
     "output_type": "execute_result"
    }
   ],
   "source": [
    "⊢part1←⌈/seats←2⊥'BR'∊⍨⍉↑⊃⎕NGET'data/2020/day05.txt'1\n",
    "assert 888=part1"
   ]
  },
  {
   "cell_type": "code",
   "execution_count": 49,
   "metadata": {},
   "outputs": [
    {
     "data": {
      "text/html": [
       "<span style=\"white-space:pre; font-family: monospace\">   \n",
       "522\n",
       "   \n",
       "</span>"
      ]
     },
     "execution_count": 49,
     "metadata": {},
     "output_type": "execute_result"
    }
   ],
   "source": [
    "⊢part2←1+(⍸~2{⍵=⍺+1}/sorted)⊃sorted←seats[⍋seats]\n",
    "assert 522=part2"
   ]
  },
  {
   "cell_type": "markdown",
   "metadata": {},
   "source": [
    "### Day 6: Custom Customs\n",
    "https://adventofcode.com/2020/day/6"
   ]
  },
  {
   "cell_type": "code",
   "execution_count": 122,
   "metadata": {},
   "outputs": [],
   "source": [
    "DAY06←{⍵⊆⍨×≢¨⍵}⊃⎕NGET'data/2020/day06.txt'1"
   ]
  },
  {
   "cell_type": "code",
   "execution_count": 123,
   "metadata": {},
   "outputs": [
    {
     "data": {
      "text/html": [
       "<span style=\"white-space:pre; font-family: monospace\">    \n",
       "6416\n",
       "    \n",
       "</span>"
      ]
     },
     "execution_count": 123,
     "metadata": {},
     "output_type": "execute_result"
    }
   ],
   "source": [
    "⊢part1←≢∊∪/¨DAY06\n",
    "assert 6416=part1"
   ]
  },
  {
   "cell_type": "code",
   "execution_count": 124,
   "metadata": {},
   "outputs": [
    {
     "data": {
      "text/html": [
       "<span style=\"white-space:pre; font-family: monospace\">    \n",
       "3050\n",
       "    \n",
       "</span>"
      ]
     },
     "execution_count": 124,
     "metadata": {},
     "output_type": "execute_result"
    }
   ],
   "source": [
    "⊢part2←≢∊∩/¨DAY06\n",
    "assert 3050=part2"
   ]
  },
  {
   "cell_type": "markdown",
   "metadata": {},
   "source": [
    "### Day 7: Handy Haversacks\n",
    "https://adventofcode.com/2020/day/7"
   ]
  },
  {
   "cell_type": "code",
   "execution_count": 78,
   "metadata": {},
   "outputs": [],
   "source": [
    "DAY07←⊃⎕NGET'data/2020/day07.txt'1\n",
    "bags←'^(\\w+)\\s(\\w+)'⎕S'&'⊢DAY07\n",
    "contained←(⊃,/)¨'(?:\\d+|no)\\s(\\w+\\s\\w+)'⎕S rg¨DAY07"
   ]
  },
  {
   "cell_type": "code",
   "execution_count": 90,
   "metadata": {},
   "outputs": [],
   "source": [
    "no←0\n",
    "counts←(⍎¨∘⊃,/)¨'(\\d+|no)'⎕S rg¨DAY07\n",
    "cap←↓⍉↑(contained)(counts)"
   ]
  },
  {
   "cell_type": "code",
   "execution_count": 79,
   "metadata": {},
   "outputs": [],
   "source": [
    "]dinput\n",
    "Part1←{\n",
    "    ⍺←⍬\n",
    "    0=≢,⍵:¯1+≢⍺\n",
    "    item←⊃,⍵\n",
    "    idx←⍸∨/(⊂item)⍷↑contained\n",
    "    (⍺,⊂item)∇⍺~⍨bags[idx],1↓⍵\n",
    "}"
   ]
  },
  {
   "cell_type": "code",
   "execution_count": 80,
   "metadata": {},
   "outputs": [
    {
     "data": {
      "text/html": [
       "<span style=\"white-space:pre; font-family: monospace\">   \n",
       "185\n",
       "   \n",
       "</span>"
      ]
     },
     "execution_count": 80,
     "metadata": {},
     "output_type": "execute_result"
    }
   ],
   "source": [
    "⊢part1←Part1 ⊂'shiny gold'\n",
    "assert 185=part1"
   ]
  },
  {
   "cell_type": "code",
   "execution_count": 91,
   "metadata": {},
   "outputs": [],
   "source": [
    "Part2←{⍵≡'other bags': 0 ⋄ +/{(b c)←⍵⋄c×1+Part2 b}¨↓⍉↑(bags⍳⊂⍵)⊃cap}"
   ]
  },
  {
   "cell_type": "code",
   "execution_count": 92,
   "metadata": {},
   "outputs": [
    {
     "data": {
      "text/html": [
       "<span style=\"white-space:pre; font-family: monospace\">     \n",
       "89084\n",
       "     \n",
       "</span>"
      ]
     },
     "execution_count": 92,
     "metadata": {},
     "output_type": "execute_result"
    }
   ],
   "source": [
    "⊢part2←Part2 'shiny gold'\n",
    "assert 89084=part2"
   ]
  },
  {
   "cell_type": "markdown",
   "metadata": {},
   "source": [
    "### Day 8: Handheld Halting\n",
    "https://adventofcode.com/2020/day/8"
   ]
  },
  {
   "cell_type": "code",
   "execution_count": 34,
   "metadata": {},
   "outputs": [],
   "source": [
    "DAY08←⊃⎕NGET'data/2020/day08.txt'1\n",
    "(op arg)←↓⍉↑' '(≠⊆⊢)¨DAY08\n",
    "init←{(c a)←⍺ ⍵⋄{⍵⊣⍵.(code args ip acc lines)←c a 0 0(0/⍨≢c)}⎕NS''}\n",
    "halted←{⍵.ip≥≢⍵.code}\n",
    "infloop←{2∊⍵.lines}\n",
    "tweak←{to←⍵⋄{(⊂to)@⍵⊢op}¨⍸(⊂⍺)≡⍤0⊢op}"
   ]
  },
  {
   "cell_type": "code",
   "execution_count": 35,
   "metadata": {},
   "outputs": [],
   "source": [
    "]dinput\n",
    "step←{\n",
    "    instr←⍵.ip⊃⍵.code\n",
    "    arg←⍵.ip⊃⍵.args\n",
    "    ⍵.lines[⍵.ip]+←1\n",
    "    infloop ⍵:⍵\n",
    "    'nop'≡instr:⍵⊣⍵.ip+←1\n",
    "    'acc'≡instr:⍵⊣⍵.(acc ip)+←arg 1\n",
    "    ⍵⊣⍵.ip+←arg\n",
    "}"
   ]
  },
  {
   "cell_type": "code",
   "execution_count": 36,
   "metadata": {},
   "outputs": [],
   "source": [
    "run←step⍣{(infloop ⍺)∨halted ⍺}⊢"
   ]
  },
  {
   "cell_type": "code",
   "execution_count": 37,
   "metadata": {},
   "outputs": [
    {
     "data": {
      "text/html": [
       "<span style=\"white-space:pre; font-family: monospace\">    \n",
       "1134\n",
       "    \n",
       "</span>"
      ]
     },
     "execution_count": 37,
     "metadata": {},
     "output_type": "execute_result"
    }
   ],
   "source": [
    "result←run (op init ⍎¨arg)\n",
    "⊢part1←result.acc\n",
    "assert 1134=part1"
   ]
  },
  {
   "cell_type": "code",
   "execution_count": 38,
   "metadata": {},
   "outputs": [],
   "source": [
    "]dinput\n",
    "Part2←{\n",
    "    0=≢⍵:⍬\n",
    "    result←run (0⊃⍵)init ⍺\n",
    "    halted result:result\n",
    "    ⍺∇1↓⍵\n",
    "}"
   ]
  },
  {
   "cell_type": "code",
   "execution_count": 39,
   "metadata": {},
   "outputs": [
    {
     "data": {
      "text/html": [
       "<span style=\"white-space:pre; font-family: monospace\">    \n",
       "1205\n",
       "    \n",
       "</span>"
      ]
     },
     "execution_count": 39,
     "metadata": {},
     "output_type": "execute_result"
    }
   ],
   "source": [
    "result←(⍎¨arg)∘Part2 ⊃,/tweak⌿2 2⍴('jmp')('nop')('nop')('jmp')\n",
    "⊢part2←result.acc\n",
    "assert 1205=part2"
   ]
  },
  {
   "cell_type": "markdown",
   "metadata": {},
   "source": [
    "### Day 9: Encoding Error\n",
    "https://adventofcode.com/2020/day/9"
   ]
  },
  {
   "cell_type": "code",
   "execution_count": 176,
   "metadata": {},
   "outputs": [],
   "source": [
    "DAY09←⍎¨⊃⎕NGET'data/2020/day09.txt'1"
   ]
  },
  {
   "cell_type": "code",
   "execution_count": 177,
   "metadata": {},
   "outputs": [],
   "source": [
    "]dinput\n",
    "Day09←{\n",
    "    (i s)←⍵\n",
    "    r←(i-24)+⍳25                  ⍝ Considered range\n",
    "    d←DAY09[r]+(¯1↑r)⊃DAY09       ⍝ Changed vals\n",
    "    n←1⌽1⊖s ⋄ n[;24]←d ⋄ n[24;]←d ⍝ Update the sums cache. Also: new←25 25↑1 1↓cache\n",
    "    (i+1) (n)\n",
    "}"
   ]
  },
  {
   "cell_type": "code",
   "execution_count": 178,
   "metadata": {},
   "outputs": [
    {
     "data": {
      "text/html": [
       "<span style=\"white-space:pre; font-family: monospace\">          \n",
       "1639024365\n",
       "          \n",
       "</span>"
      ]
     },
     "execution_count": 178,
     "metadata": {},
     "output_type": "execute_result"
    }
   ],
   "source": [
    "(i _)←Day09⍣{(i s)←⍺ ⋄ ~s∊⍨i⊃DAY09} 25 (∘.+⍨25↑DAY09)\n",
    "⊢part1←i⊃DAY09\n",
    "assert 1639024365=part1"
   ]
  },
  {
   "cell_type": "code",
   "execution_count": 179,
   "metadata": {},
   "outputs": [],
   "source": [
    "win←part1{⍺∊⍵+/DAY09:⍵⋄⍵+1}⍣≡⊢2\n",
    "i←part1⍳⍨win+/DAY09"
   ]
  },
  {
   "cell_type": "code",
   "execution_count": 180,
   "metadata": {},
   "outputs": [
    {
     "data": {
      "text/html": [
       "<span style=\"white-space:pre; font-family: monospace\">         \n",
       "219202240\n",
       "         \n",
       "</span>"
      ]
     },
     "execution_count": 180,
     "metadata": {},
     "output_type": "execute_result"
    }
   ],
   "source": [
    "⊢part2←(⌈/+⌊/)DAY09[i+⍳win]\n",
    "assert 219202240=part2"
   ]
  },
  {
   "cell_type": "markdown",
   "metadata": {},
   "source": [
    "We found the stretch by trying increasing lengths of windowed reduction. Another variety is to use scan, noting that the sum of a stretch is the sum to the end of the stretch minus the sum to the beginning of the stretch:"
   ]
  },
  {
   "cell_type": "code",
   "execution_count": 181,
   "metadata": {},
   "outputs": [
    {
     "data": {
      "text/html": [
       "<span style=\"white-space:pre; font-family: monospace\">         \n",
       "219202240\n",
       "         \n",
       "</span>"
      ]
     },
     "execution_count": 181,
     "metadata": {},
     "output_type": "execute_result"
    }
   ],
   "source": [
    "(end start)←⊃⍸part1=∘.-⍨+\\DAY09\n",
    "(⌈/+⌊/)(start+1)↓(end+1)↑DAY09"
   ]
  }
 ],
 "metadata": {
  "kernelspec": {
   "display_name": "Dyalog APL",
   "language": "apl",
   "name": "dyalog-kernel"
  },
  "language_info": {
   "file_extension": ".apl",
   "mimetype": "text/apl",
   "name": "APL"
  }
 },
 "nbformat": 4,
 "nbformat_minor": 2
}
