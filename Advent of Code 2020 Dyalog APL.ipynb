{
 "cells": [
  {
   "cell_type": "markdown",
   "metadata": {},
   "source": [
    "# Advent of Code 2020, Dyalog APL edition\n",
    "\n",
    "To see a correct render of this notebook, check it out on [nbviewer](https://nbviewer.jupyter.org/github/xpqz/AoCDyalog/blob/master/Advent%20of%20Code%202020%20Dyalog%20APL.ipynb).\n",
    "\n",
    "Annotated solutions in Dyalog APL. Why? A language that doesn't affect the way you think about programming is not worth knowing.\n",
    "\n",
    "Note that part of the charm of AoC is that every user (or at least groups of users) gets their own unique data set. Some of the solutions below exploit quirks in my particular data set, and so may conceivably not work for the general case."
   ]
  },
  {
   "cell_type": "code",
   "execution_count": 75,
   "metadata": {},
   "outputs": [
    {
     "data": {
      "text/html": [
       "<span style=\"white-space:pre; font-family: monospace\">┌→─────────────────────────────────────┐\n",
       "│Was ON -style=max -trains=tree -fns=on│\n",
       "└──────────────────────────────────────┘\n",
       "</span>"
      ]
     },
     "execution_count": 75,
     "metadata": {},
     "output_type": "execute_result"
    },
    {
     "data": {
      "text/html": [
       "<span style=\"white-space:pre; font-family: monospace\">┌→─────┐\n",
       "│Was ON│\n",
       "└──────┘\n",
       "</span>"
      ]
     },
     "execution_count": 75,
     "metadata": {},
     "output_type": "execute_result"
    }
   ],
   "source": [
    "⍝ Helper functions and common settings\n",
    "⎕FR ⎕PP ⎕IO←1287 34 0\n",
    "assert←{⍺←'assertion failure' ⋄ 0∊⍵:⍺ ⎕signal 8 ⋄ shy←0}\n",
    "rg←{⊃,/⍺⎕S{⍵.(1↓Lengths↑¨Offsets↓¨⊂Block)}⊢⍵} ⍝ capture groups as vector\n",
    "'segs'⎕CY'dfns'\n",
    "\n",
    "⍝ Some visualisation help, please\n",
    "]box on -style=max -trains=tree -fns=on\n",
    "]rows on"
   ]
  },
  {
   "cell_type": "markdown",
   "metadata": {},
   "source": [
    "### Day 1: Report Repair\n",
    "https://adventofcode.com/2020/day/1\n",
    "\n",
    "Outer product sum, find locations of 2020 and multiply. "
   ]
  },
  {
   "cell_type": "code",
   "execution_count": 50,
   "metadata": {},
   "outputs": [
    {
     "data": {
      "text/html": [
       "<span style=\"white-space:pre; font-family: monospace\">┌→──────────────┐\n",
       "│73371 127642310│\n",
       "└~──────────────┘\n",
       "</span>"
      ]
     },
     "execution_count": 50,
     "metadata": {},
     "output_type": "execute_result"
    }
   ],
   "source": [
    "⊢result←1 2{×/⍵[⊃⍸2020=∘.+⍣⍺⍨⍵]}¨⊂⍎⍕⊃⎕NGET'data/2020/day01.txt'1\n",
    "assert 73371 127642310≡result"
   ]
  },
  {
   "cell_type": "markdown",
   "metadata": {},
   "source": [
    "### Day 2: Password Philosophy\n",
    "https://adventofcode.com/2020/day/2"
   ]
  },
  {
   "cell_type": "code",
   "execution_count": 40,
   "metadata": {},
   "outputs": [],
   "source": [
    "⎕IO←1\n",
    "DAY02←⍎¨@1 2¨'- :'∘segs¨⊃⎕NGET'data/2020/day02.txt'1"
   ]
  },
  {
   "cell_type": "code",
   "execution_count": 42,
   "metadata": {},
   "outputs": [
    {
     "data": {
      "text/html": [
       "<span style=\"white-space:pre; font-family: monospace\">┌→──────┐\n",
       "│528 497│\n",
       "└~──────┘\n",
       "</span>"
      ]
     },
     "execution_count": 42,
     "metadata": {},
     "output_type": "execute_result"
    }
   ],
   "source": [
    "⊢result←+⌿↑{(b t l s)←⍵⋄((b∘≤∧t∘≥)+/l=s)(⊃(l=b⊃s)≠l=t⊃s)}¨DAY02\n",
    "assert 528 497≡result"
   ]
  },
  {
   "cell_type": "markdown",
   "metadata": {},
   "source": [
    "Ok, perhaps a bit messy. Here's the same idea, in long-hand:"
   ]
  },
  {
   "cell_type": "code",
   "execution_count": 43,
   "metadata": {},
   "outputs": [],
   "source": [
    "]dinput\n",
    "Part1←{\n",
    "    (min max letter string)←⍵\n",
    "    count←+/letter=string\n",
    "    (min∘≤∧≤∘max) count\n",
    "}"
   ]
  },
  {
   "cell_type": "code",
   "execution_count": 47,
   "metadata": {},
   "outputs": [],
   "source": [
    "]dinput\n",
    "Part2←{\n",
    "    (min max letter string)←⍵                ⍝ De-structure \n",
    "    ⊃(letter=min⊃string)≠(letter=max⊃string) ⍝ Pick the values, and XOR\n",
    "}"
   ]
  },
  {
   "cell_type": "code",
   "execution_count": 45,
   "metadata": {},
   "outputs": [],
   "source": [
    "assert 528=+/Part1¨DAY02\n",
    "assert 497=+/Part2¨DAY02  "
   ]
  },
  {
   "cell_type": "markdown",
   "metadata": {},
   "source": [
    "Another neat trick worth remembering is that the built-in ⎕CSV can do numeric conversion:"
   ]
  },
  {
   "cell_type": "code",
   "execution_count": 68,
   "metadata": {},
   "outputs": [],
   "source": [
    "b t l s←↓⍉⎕CSV('\\W+'⎕R','⊃⎕NGET'data/2020/day02.txt' 1)''4"
   ]
  },
  {
   "cell_type": "markdown",
   "metadata": {},
   "source": [
    "Here's another version, jazzed up by ninja-master @ngn:"
   ]
  },
  {
   "cell_type": "code",
   "execution_count": 46,
   "metadata": {},
   "outputs": [
    {
     "data": {
      "text/html": [
       "<span style=\"white-space:pre; font-family: monospace\">   \n",
       "528\n",
       "   \n",
       "</span>"
      ]
     },
     "execution_count": 46,
     "metadata": {},
     "output_type": "execute_result"
    },
    {
     "data": {
      "text/html": [
       "<span style=\"white-space:pre; font-family: monospace\">   \n",
       "497\n",
       "   \n",
       "</span>"
      ]
     },
     "execution_count": 46,
     "metadata": {},
     "output_type": "execute_result"
    },
    {
     "data": {
      "text/html": [
       "<span style=\"white-space:pre; font-family: monospace\">   \n",
       "528\n",
       "   \n",
       "</span>"
      ]
     },
     "execution_count": 46,
     "metadata": {},
     "output_type": "execute_result"
    },
    {
     "data": {
      "text/html": [
       "<span style=\"white-space:pre; font-family: monospace\">   \n",
       "497\n",
       "   \n",
       "</span>"
      ]
     },
     "execution_count": 46,
     "metadata": {},
     "output_type": "execute_result"
    }
   ],
   "source": [
    "p q l s←↓⍉↑DAY02\n",
    "+/(p∘≤∧≤∘q)+/¨s=∊l\n",
    "+/≠⌿↑p q⊃¨¨⊂s=∊l\n",
    "\n",
    "⍝ Or as a matrix\n",
    "b←↑s=∊l\n",
    "+/(p∘≤∧≤∘q)+/b\n",
    "+/≠/(p,⍪q)⊃⍤0 1⍤1⊢b"
   ]
  },
  {
   "cell_type": "markdown",
   "metadata": {},
   "source": [
    "### Day 3: Toboggan Trajectory\n",
    "https://adventofcode.com/2020/day/3\n",
    "\n",
    "The first approach that comes to mind is a reduce over the path's steps which we can implement either as a tail-recursive function, or by pre-calculating the coordinate vector."
   ]
  },
  {
   "cell_type": "code",
   "execution_count": 61,
   "metadata": {},
   "outputs": [],
   "source": [
    "⎕IO←0\n",
    "DAY03←↑⊃⎕NGET'data/2020/day03.txt'1"
   ]
  },
  {
   "cell_type": "code",
   "execution_count": 62,
   "metadata": {},
   "outputs": [],
   "source": [
    "]dinput\n",
    "Slope←{\n",
    "    (dy dx)←⍵\n",
    "    d←⍺\n",
    "    0 { ⍝ Tail-recursive accumulation\n",
    "        (y x)←⍵\n",
    "        y≥≢d:⍺\n",
    "        (⍺+'#'=d[y;(1⊃⍴d)|x])∇dy dx + y x\n",
    "    } 0 0\n",
    "}"
   ]
  },
  {
   "cell_type": "code",
   "execution_count": 63,
   "metadata": {},
   "outputs": [
    {
     "data": {
      "text/html": [
       "<span style=\"white-space:pre; font-family: monospace\">┌→──────────────┐\n",
       "│68 203 78 77 40│\n",
       "└~──────────────┘\n",
       "</span>"
      ]
     },
     "execution_count": 63,
     "metadata": {},
     "output_type": "execute_result"
    }
   ],
   "source": [
    "⊢result←DAY03∘Slope¨(1 1)(1 3)(1 5)(1 7)(2 1)"
   ]
  },
  {
   "cell_type": "code",
   "execution_count": 64,
   "metadata": {},
   "outputs": [],
   "source": [
    "assert 203=1⊃result ⍝ Part 1\n",
    "assert 3316272960=×/result"
   ]
  },
  {
   "cell_type": "markdown",
   "metadata": {},
   "source": [
    "Considerably more idiomatically, we can simply create the coordinate vector representing the slope first."
   ]
  },
  {
   "cell_type": "code",
   "execution_count": 66,
   "metadata": {},
   "outputs": [],
   "source": [
    "]dinput\n",
    "Slope2←{\n",
    "    coords←↓⍉↑(⍴⍺)|⍵×⊂⍳⌈(≢⍺)÷⊃⍵\n",
    "    +/'#'=⍺[coords]\n",
    "}"
   ]
  },
  {
   "cell_type": "code",
   "execution_count": 67,
   "metadata": {},
   "outputs": [
    {
     "data": {
      "text/html": [
       "<span style=\"white-space:pre; font-family: monospace\">┌→──────────────┐\n",
       "│68 203 78 77 40│\n",
       "└~──────────────┘\n",
       "</span>"
      ]
     },
     "execution_count": 67,
     "metadata": {},
     "output_type": "execute_result"
    }
   ],
   "source": [
    "⊢result←DAY03∘Slope2¨(1 1)(1 3)(1 5)(1 7)(2 1)"
   ]
  },
  {
   "cell_type": "markdown",
   "metadata": {},
   "source": [
    "### Day 4: Passport Processing\n",
    "https://adventofcode.com/2020/day/4"
   ]
  },
  {
   "cell_type": "code",
   "execution_count": 94,
   "metadata": {},
   "outputs": [],
   "source": [
    "DAY04←↑,/¨{data⊂⍨1,2≠/⍵}0≠≢¨data←' :'∘segs¨⊃⎕NGET'data/2020/day04.txt'1\n",
    "eyr←(2020∘≤∧≤∘2030)⍎\n",
    "iyr←(2010∘≤∧≤∘2020)⍎\n",
    "byr←(1920∘≤∧≤∘2002)⍎\n",
    "ecl←'amb' 'blu' 'brn' 'gry' 'grn' 'hzl' 'oth'∊⍨⊂\n",
    "pid←≢'^\\d{9}$'⎕S''\n",
    "hcl←≢'^#[a-f0-9]{6}$'⎕S''\n",
    "cid←{1}\n",
    "hgt←≢'^(((59|6[0-9]|7[0-6])in)|((1[5-8][0-9]|19[0-3])cm))$'⎕S''"
   ]
  },
  {
   "cell_type": "code",
   "execution_count": 96,
   "metadata": {},
   "outputs": [
    {
     "data": {
      "text/html": [
       "<span style=\"white-space:pre; font-family: monospace\">┌→──────┐\n",
       "│256 198│\n",
       "└~──────┘\n",
       "</span>"
      ]
     },
     "execution_count": 96,
     "metadata": {},
     "output_type": "execute_result"
    }
   ],
   "source": [
    "part1←'byr' 'iyr' 'eyr' 'hgt' 'hcl' 'ecl' 'pid'∘(∧/∊)¨pp←(0≠≢¨DAY04)/DAY04\n",
    "part2←{∧/{(⍎⍺)⍵}/(2÷⍨≢⍵)2⍴⍵}¨part1/pp\n",
    "⊢result←+/¨part1 part2\n",
    "assert 256 198≡result"
   ]
  },
  {
   "cell_type": "markdown",
   "metadata": {},
   "source": [
    "### Day 5: Binary Boarding\n",
    "https://adventofcode.com/2020/day/5"
   ]
  },
  {
   "cell_type": "code",
   "execution_count": 97,
   "metadata": {},
   "outputs": [],
   "source": [
    "DAY05←⊃⎕NGET'data/2020/day05.txt'1"
   ]
  },
  {
   "cell_type": "code",
   "execution_count": 105,
   "metadata": {},
   "outputs": [],
   "source": [
    "SID←{0=≢⍵:⊃⍺⋄(lo hi)←⍺⋄half←hi÷2⋄(0⊃⍵)∊'FL':(lo,half)∇1↓⍵⋄((lo+half),half)∇1↓⍵}"
   ]
  },
  {
   "cell_type": "code",
   "execution_count": 106,
   "metadata": {},
   "outputs": [
    {
     "data": {
      "text/html": [
       "<span style=\"white-space:pre; font-family: monospace\">   \n",
       "888\n",
       "   \n",
       "</span>"
      ]
     },
     "execution_count": 106,
     "metadata": {},
     "output_type": "execute_result"
    }
   ],
   "source": [
    "seats←0 1024∘SID¨DAY05\n",
    "⊢part1←⌈/seats\n",
    "assert 888=part1"
   ]
  },
  {
   "cell_type": "code",
   "execution_count": 107,
   "metadata": {},
   "outputs": [
    {
     "data": {
      "text/html": [
       "<span style=\"white-space:pre; font-family: monospace\">   \n",
       "522\n",
       "   \n",
       "</span>"
      ]
     },
     "execution_count": 107,
     "metadata": {},
     "output_type": "execute_result"
    }
   ],
   "source": [
    "sorted←seats[⍋seats]\n",
    "gap←⍸~2{⍵=⍺+1}/sorted\n",
    "⊢part2←1+gap⊃sorted\n",
    "assert 522=part2"
   ]
  },
  {
   "cell_type": "markdown",
   "metadata": {},
   "source": [
    "A smarter solution for part 1, courtesy of @rak1507:"
   ]
  },
  {
   "cell_type": "code",
   "execution_count": 111,
   "metadata": {},
   "outputs": [
    {
     "data": {
      "text/html": [
       "<span style=\"white-space:pre; font-family: monospace\">   \n",
       "888\n",
       "   \n",
       "</span>"
      ]
     },
     "execution_count": 111,
     "metadata": {},
     "output_type": "execute_result"
    }
   ],
   "source": [
    "⍝ Part 1\n",
    "⌈/seats←2⊥'BR'∊⍨⍉↑DAY05"
   ]
  },
  {
   "cell_type": "markdown",
   "metadata": {},
   "source": [
    "### Day 6: Custom Customs\n",
    "https://adventofcode.com/2020/day/6"
   ]
  },
  {
   "cell_type": "code",
   "execution_count": 115,
   "metadata": {},
   "outputs": [],
   "source": [
    "DAY06←{⍵⊆⍨(⊂'')≢¨⍵}⊃⎕NGET'data/2020/day06.txt'1"
   ]
  },
  {
   "cell_type": "code",
   "execution_count": 118,
   "metadata": {},
   "outputs": [
    {
     "data": {
      "text/html": [
       "<span style=\"white-space:pre; font-family: monospace\">    \n",
       "6416\n",
       "    \n",
       "</span>"
      ]
     },
     "execution_count": 118,
     "metadata": {},
     "output_type": "execute_result"
    }
   ],
   "source": [
    "⊢part1←≢∊∪/¨DAY06\n",
    "assert 6416=part1"
   ]
  },
  {
   "cell_type": "code",
   "execution_count": 119,
   "metadata": {},
   "outputs": [
    {
     "data": {
      "text/html": [
       "<span style=\"white-space:pre; font-family: monospace\">    \n",
       "3050\n",
       "    \n",
       "</span>"
      ]
     },
     "execution_count": 119,
     "metadata": {},
     "output_type": "execute_result"
    }
   ],
   "source": [
    "⊢part2←≢∊∩/¨DAY06\n",
    "assert 3050=part2"
   ]
  },
  {
   "cell_type": "code",
   "execution_count": null,
   "metadata": {},
   "outputs": [],
   "source": []
  }
 ],
 "metadata": {
  "kernelspec": {
   "display_name": "Dyalog APL",
   "language": "apl",
   "name": "dyalog-kernel"
  },
  "language_info": {
   "file_extension": ".apl",
   "mimetype": "text/apl",
   "name": "APL"
  }
 },
 "nbformat": 4,
 "nbformat_minor": 2
}
