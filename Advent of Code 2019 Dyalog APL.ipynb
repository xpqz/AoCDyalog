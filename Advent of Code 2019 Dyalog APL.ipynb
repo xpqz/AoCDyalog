{
 "cells": [
  {
   "cell_type": "markdown",
   "metadata": {},
   "source": [
    "# Advent of Code 2019, Dyalog APL edition\n",
    "\n",
    "To see a correct render of this notebook, check it out on [nbviewer](https://nbviewer.jupyter.org/github/xpqz/AoCDyalog/blob/master/Advent%20of%20Code%202019%20Dyalog%20APL.ipynb).\n",
    "\n",
    "Annotated solutions in Dyalog APL. Why? A language that doesn't affect the way you think about programming is not worth knowing.\n",
    "\n",
    "Note that part of the charm of AoC is that every user (or at least groups of users) gets their own unique data set. Some of the solutions below exploit quirks in my particular data set, and so may conceivably not work for the general case."
   ]
  },
  {
   "cell_type": "code",
   "execution_count": 63,
   "metadata": {},
   "outputs": [],
   "source": [
    "⍝ Helper functions and common settings\n",
    "⎕FR ⎕PP ⎕IO←1287 34 0\n",
    "assert←{⍺←'assertion failure' ⋄ 0∊⍵:⍺ ⎕signal 8 ⋄ shy←0}\n",
    "lines←{⊃⎕NGET ⍵ 1}\n",
    "line←{⊃lines ⍵}\n",
    "sorted←{⍵[⍋⍵]}\n",
    "sortbycol←⊢⌷⍨∘⊂∘⍒⌷⍤1\n",
    "pairs←{↓(2÷⍨≢⍵) 2⍴⍵}\n",
    "bin←{(32⍴2)⊤⍵}\n",
    "dec←2∘⊥\n",
    "and←{(bin ⍺)∧bin ⍵}\n",
    "or←{(bin ⍺)∨bin ⍵}\n",
    "rs←⊢∘-∘≢↑↓⍨∘-⍨\n",
    "range←⊣+∘⍳-⍨\n",
    "group←↓⊃¨,∘⊂⌸⊢/¨\n",
    "replace←{⍺⍺(⍵⍵⌷⍨∘⊂⍳)@(∊∘⍺⍺)⍵}\n",
    "cut←⊢⊂⍨≢⍤⊢⍴⊣↑≢"
   ]
  },
  {
   "cell_type": "code",
   "execution_count": 64,
   "metadata": {},
   "outputs": [
    {
     "data": {
      "text/html": [
       "<span style=\"white-space:pre; font-family: monospace\">┌→─────────────────────────────────────┐\n",
       "│Was ON -style=max -trains=tree -fns=on│\n",
       "└──────────────────────────────────────┘\n",
       "</span>"
      ]
     },
     "execution_count": 64,
     "metadata": {},
     "output_type": "execute_result"
    },
    {
     "data": {
      "text/html": [
       "<span style=\"white-space:pre; font-family: monospace\">┌→─────┐\n",
       "│Was ON│\n",
       "└──────┘\n",
       "</span>"
      ]
     },
     "execution_count": 64,
     "metadata": {},
     "output_type": "execute_result"
    }
   ],
   "source": [
    "⍝ Some visualisation help, please\n",
    "]box on -style=max -trains=tree -fns=on\n",
    "]rows on"
   ]
  },
  {
   "cell_type": "markdown",
   "metadata": {},
   "source": [
    "### Day 1: The Tyranny of the Rocket Equation\n",
    "https://adventofcode.com/2019/day/1"
   ]
  },
  {
   "cell_type": "code",
   "execution_count": 7,
   "metadata": {},
   "outputs": [],
   "source": [
    "DAY01←⍎¨⊃⎕NGET'data/2019/01.txt'1\n",
    "Fuel←{0⌈¯2+⌊⍵÷3}"
   ]
  },
  {
   "cell_type": "code",
   "execution_count": 9,
   "metadata": {},
   "outputs": [
    {
     "data": {
      "text/html": [
       "<span style=\"white-space:pre; font-family: monospace\">       \n",
       "3328306\n",
       "       \n",
       "</span>"
      ]
     },
     "execution_count": 9,
     "metadata": {},
     "output_type": "execute_result"
    }
   ],
   "source": [
    "⊢part1←+/Fuel DAY01\n",
    "assert 3328306=part1"
   ]
  },
  {
   "cell_type": "code",
   "execution_count": 10,
   "metadata": {},
   "outputs": [
    {
     "data": {
      "text/html": [
       "<span style=\"white-space:pre; font-family: monospace\">       \n",
       "4989588\n",
       "       \n",
       "</span>"
      ]
     },
     "execution_count": 10,
     "metadata": {},
     "output_type": "execute_result"
    }
   ],
   "source": [
    "⊢part2←+/{⍵=0:0⋄(Fuel ⍵)+∇Fuel ⍵}¨DAY01\n",
    "assert 4989588=part2"
   ]
  },
  {
   "cell_type": "markdown",
   "metadata": {},
   "source": [
    "### Day 2: 1202 Program Alarm\n",
    "https://adventofcode.com/2019/day/2\n",
    "\n",
    "The first of MANY intcode tasks."
   ]
  },
  {
   "cell_type": "code",
   "execution_count": 15,
   "metadata": {},
   "outputs": [],
   "source": [
    "DAY02←⍎line'data/2019/02.txt'"
   ]
  },
  {
   "cell_type": "code",
   "execution_count": 22,
   "metadata": {},
   "outputs": [],
   "source": [
    "]dinput\n",
    "IntcodeV1←{\n",
    "    ⍺←0                                          ⍝ Intcode interpreter. \n",
    "    (op p1 p2 p3)←4↑⍺↓⍵                          ⍝ Skip anything before ip (⍺) and take 4 cells\n",
    "    op∊1 2:(⍺+4)∇((op-1)⌷⍵[p1](+,×)⍵[p2])@p3 ⊢ ⍵ ⍝ Addition and multiplication\n",
    "    op=99:⍵[0]                                   ⍝ Exit\n",
    "}"
   ]
  },
  {
   "cell_type": "code",
   "execution_count": 23,
   "metadata": {},
   "outputs": [
    {
     "data": {
      "text/html": [
       "<span style=\"white-space:pre; font-family: monospace\">        \n",
       "10566835\n",
       "        \n",
       "</span>"
      ]
     },
     "execution_count": 23,
     "metadata": {},
     "output_type": "execute_result"
    }
   ],
   "source": [
    "DAY02[1 2] ← 12 2\n",
    "⊢part1←IntcodeV1 DAY02\n",
    "assert 10566835=part1"
   ]
  },
  {
   "cell_type": "code",
   "execution_count": 24,
   "metadata": {},
   "outputs": [
    {
     "data": {
      "text/html": [
       "<span style=\"white-space:pre; font-family: monospace\">    \n",
       "2347\n",
       "    \n",
       "</span>"
      ]
     },
     "execution_count": 24,
     "metadata": {},
     "output_type": "execute_result"
    }
   ],
   "source": [
    "Day02p2←{19690720=IntcodeV1 ((⊃1↑⍵)@1 2)⊢⍺:⊃1↑⍵⋄⍺∇1↓⍵}\n",
    "(noun verb)←DAY02 Day02p2 {,⍳⍵ ⍵} 100 \n",
    "⊢part2←verb+100×noun\n",
    "assert 2347=part2"
   ]
  },
  {
   "cell_type": "markdown",
   "metadata": {},
   "source": [
    "### Day 3: Crossed Wires\n",
    "https://adventofcode.com/2019/day/3"
   ]
  },
  {
   "cell_type": "code",
   "execution_count": 12,
   "metadata": {},
   "outputs": [],
   "source": [
    "DAY03←1(↑,∘⍎↓)¨⎕CSV'data/2019/03.txt' ⍝ Convert each string to a letter and a number.\n",
    "OFFSETS←4 2⍴0 1 0 ¯1 1 0 ¯1 0"
   ]
  },
  {
   "cell_type": "code",
   "execution_count": 13,
   "metadata": {},
   "outputs": [],
   "source": [
    "]dinput\n",
    "Follow←{\n",
    "    ⍺←0 0\n",
    "    0=≢⍵:⍺\n",
    "    (dir steps)←⊃⍵\n",
    "    seq←,⌿OFFSETS['UDRL'⍳dir;]∘.×1+⍳steps\n",
    "    origin←(≢seq)⍴⊂¯2↑∊⍺\n",
    "    ⍺,∊(seq+origin)∇1↓⍵                  \n",
    "}"
   ]
  },
  {
   "cell_type": "code",
   "execution_count": 14,
   "metadata": {},
   "outputs": [],
   "source": [
    "(path1 path2)←pairs∘Follow¨↓DAY03"
   ]
  },
  {
   "cell_type": "code",
   "execution_count": 15,
   "metadata": {},
   "outputs": [],
   "source": [
    "crossings←1↓∪path1∩path2 ⍝ Find intersections; drop the start point which is shared."
   ]
  },
  {
   "cell_type": "code",
   "execution_count": 16,
   "metadata": {},
   "outputs": [
    {
     "data": {
      "text/html": [
       "<span style=\"white-space:pre; font-family: monospace\">   \n",
       "860\n",
       "   \n",
       "</span>"
      ]
     },
     "execution_count": 16,
     "metadata": {},
     "output_type": "execute_result"
    }
   ],
   "source": [
    "⊢part1←⌊/(+/|)¨crossings\n",
    "assert 860=part1"
   ]
  },
  {
   "cell_type": "code",
   "execution_count": 17,
   "metadata": {},
   "outputs": [
    {
     "data": {
      "text/html": [
       "<span style=\"white-space:pre; font-family: monospace\">    \n",
       "9238\n",
       "    \n",
       "</span>"
      ]
     },
     "execution_count": 17,
     "metadata": {},
     "output_type": "execute_result"
    }
   ],
   "source": [
    "⊢part2←⌊/+/(path1⍳crossings),⍪path2⍳crossings\n",
    "assert 9238=part2"
   ]
  },
  {
   "cell_type": "markdown",
   "metadata": {},
   "source": [
    "### Day 4: Secure Container\n",
    "https://adventofcode.com/2019/day/4"
   ]
  },
  {
   "cell_type": "code",
   "execution_count": 57,
   "metadata": {},
   "outputs": [],
   "source": [
    "DAY04←236491 713787"
   ]
  },
  {
   "cell_type": "code",
   "execution_count": 59,
   "metadata": {},
   "outputs": [
    {
     "data": {
      "text/html": [
       "<span style=\"white-space:pre; font-family: monospace\">    \n",
       "1169\n",
       "    \n",
       "</span>"
      ]
     },
     "execution_count": 59,
     "metadata": {},
     "output_type": "execute_result"
    }
   ],
   "source": [
    "⊢part1←+/{enc←(6⍴10)⊤⍵⋄(∧/2≤/enc)∧∨/2=/enc}¨(0⊃DAY04)range 1+1⊃DAY04\n",
    "assert 1169=part1"
   ]
  },
  {
   "cell_type": "code",
   "execution_count": 60,
   "metadata": {},
   "outputs": [],
   "source": [
    "ngr←{2∊≢¨((1,2≠/⊢)⍵)⊂⍵} ⍝ contains pair not part of larger group"
   ]
  },
  {
   "cell_type": "code",
   "execution_count": 61,
   "metadata": {},
   "outputs": [
    {
     "data": {
      "text/html": [
       "<span style=\"white-space:pre; font-family: monospace\">   \n",
       "757\n",
       "   \n",
       "</span>"
      ]
     },
     "execution_count": 61,
     "metadata": {},
     "output_type": "execute_result"
    }
   ],
   "source": [
    "⊢part2←+/{enc←(6⍴10)⊤⍵⋄(∧/2≤/enc)∧ngr enc}¨(0⊃DAY04)range 1+1⊃DAY04\n",
    "assert 757=part2"
   ]
  },
  {
   "cell_type": "markdown",
   "metadata": {},
   "source": [
    "### Day 5: Sunny with a Chance of Asteroids\n",
    "https://adventofcode.com/2019/day/5\n",
    "\n",
    "Better get used to it ⍨."
   ]
  },
  {
   "cell_type": "code",
   "execution_count": 30,
   "metadata": {},
   "outputs": [],
   "source": [
    "DAY05←⊢⌿⍎¨⎕CSV'data/2019/05.txt'"
   ]
  },
  {
   "cell_type": "code",
   "execution_count": 35,
   "metadata": {},
   "outputs": [],
   "source": [
    "]dinput\n",
    "IntcodeV2←{ ⍝ Intcode interpreter, mk2. Call as: 0 IntcodeV2 code\n",
    "    state←⍵\n",
    "    ev←{⍺=0: state[⍵] ⋄ ⍵}              ⍝ Position or immediate mode\n",
    "    op p1 p2 p3←4↑⍺↓⍵                   ⍝ Skip anything before and take 4 cells\n",
    "    params←4 4 2 2 3 3 4 4 1            ⍝ Number of parameters by opcode\n",
    "    ops←(1+⍳8),99                       ⍝ Valid opcodes\n",
    "    m3 m2 m1 o2 o1←(5⍴10)⊤op            ⍝ Unpack the param modes\n",
    "    op←10⊥o2 o1                         ⍝ Repack the opcode, to go from (say) 1001 to 1\n",
    "    count←params[ops⍳op]                ⍝ Number of params\n",
    "    parmod←m1 m2 m3,⍪p1 p2 p3           ⍝ Table combining modes and params\n",
    "    d1 d2 d3←3↑ev/(¯1+count)↑parmod     ⍝ Pick relevant number of params, and apply modes\n",
    "    ip←⍺+count                          ⍝ Advance ip by the width of current instr\n",
    "    op∊1 2:ip∇((op-1)⌷d1(+,×)d2)@p3⊢⍵   ⍝ Addition and multiplicatin\n",
    "    op=3:ip∇INPUT@p1⊢⍵                  ⍝ Input\n",
    "    op=4:d1,ip∇⍵                        ⍝ Output\n",
    "    op∊5 6:⍵∇⍨ip d2⌷⍨(op-5)⌷d1(≠,=)0    ⍝ Jumps \n",
    "    op∊7 8:ip∇((op-7)⌷d1(<,=)d2)@p3⊢⍵   ⍝ Comparison < or =\n",
    "    op=99:⍬                             ⍝ Exit\n",
    "}"
   ]
  },
  {
   "cell_type": "code",
   "execution_count": 36,
   "metadata": {},
   "outputs": [
    {
     "data": {
      "text/html": [
       "<span style=\"white-space:pre; font-family: monospace\">        \n",
       "16209841\n",
       "        \n",
       "</span>"
      ]
     },
     "execution_count": 36,
     "metadata": {},
     "output_type": "execute_result"
    }
   ],
   "source": [
    "INPUT←1\n",
    "⊢part1←⊃¯1↑0 IntcodeV2 DAY05\n",
    "assert 16209841=part1"
   ]
  },
  {
   "cell_type": "code",
   "execution_count": 39,
   "metadata": {},
   "outputs": [
    {
     "data": {
      "text/html": [
       "<span style=\"white-space:pre; font-family: monospace\">       \n",
       "8834787\n",
       "       \n",
       "</span>"
      ]
     },
     "execution_count": 39,
     "metadata": {},
     "output_type": "execute_result"
    }
   ],
   "source": [
    "INPUT← 5\n",
    "⊢part2←⊃0 IntcodeV2 DAY05\n",
    "assert 8834787=part2"
   ]
  },
  {
   "cell_type": "markdown",
   "metadata": {},
   "source": [
    "### Day 6: Universal Orbit Map\n",
    "https://adventofcode.com/2019/day/6"
   ]
  },
  {
   "cell_type": "code",
   "execution_count": 53,
   "metadata": {},
   "outputs": [],
   "source": [
    "DAY06←↓⍉↑'\\w+'⎕S'&'¨lines'data/2019/06.txt'\n",
    "PARENTS←⊃⍳/⊖DAY06\n",
    "Path←{3::⍵⋄⍵,∇⍵⊃PARENTS}"
   ]
  },
  {
   "cell_type": "code",
   "execution_count": 55,
   "metadata": {},
   "outputs": [
    {
     "data": {
      "text/html": [
       "<span style=\"white-space:pre; font-family: monospace\">      \n",
       "292387\n",
       "      \n",
       "</span>"
      ]
     },
     "execution_count": 55,
     "metadata": {},
     "output_type": "execute_result"
    }
   ],
   "source": [
    "⊢part1←≢∊Path¨PARENTS\n",
    "assert part1=292387"
   ]
  },
  {
   "cell_type": "code",
   "execution_count": 63,
   "metadata": {},
   "outputs": [
    {
     "data": {
      "text/html": [
       "<span style=\"white-space:pre; font-family: monospace\">   \n",
       "433\n",
       "   \n",
       "</span>"
      ]
     },
     "execution_count": 63,
     "metadata": {},
     "output_type": "execute_result"
    }
   ],
   "source": [
    "⊢part2←{¯2+≢⍺(∪~∩)⍵}/Path¨(1⊃DAY06)⍳'YOU' 'SAN'\n",
    "assert 433=part2"
   ]
  },
  {
   "cell_type": "markdown",
   "metadata": {},
   "source": [
    "### Day 7: Amplification Circuit\n",
    "https://adventofcode.com/2019/day/7\n",
    "\n",
    "Already fed up.\n",
    "\n",
    "This is a resumable Intcode iterpreter -- fed a state vector (code ip rb input output) it will execute until it's either terminated normally on opcode 99, or blocked on input.\n",
    "\n",
    "Yes, it's a tradfn. Don't @ me. I wrote it so you won't have to, and we can all get back to our lives.\n",
    "\n",
    "This question's instructions are somewhat misunderstandable. The suggestion is that there is some difference in the 'wiring' between parts 1 and 2; this is either not the case, or part 1 works equally well with the circular wiring suggested in part 2.\n",
    "\n",
    "Also, part 2 states:\n",
    "\n",
    "    Don't restart the Amplifier Controller Software on any amplifier during this process. \n",
    "    Each one should continue receiving and sending signals until it halts.\n",
    "    All signals sent or received in this process will be between pairs of amplifiers except \n",
    "    the very first signal and the very last signal. To start the process, a 0 signal is sent \n",
    "    to amplifier A's input exactly once.\n",
    "    \n",
    "This actually means \"exactly once (per phase setting)\", rather than actually exactly once. So in practice, both parts are identical apart from the phases to try."
   ]
  },
  {
   "cell_type": "code",
   "execution_count": 3,
   "metadata": {},
   "outputs": [],
   "source": [
    "'pmat'⎕CY'dfns'\n",
    "DAY07←⊢⌿⍎¨⎕CSV'data/2019/07.txt'"
   ]
  },
  {
   "cell_type": "code",
   "execution_count": 4,
   "metadata": {},
   "outputs": [],
   "source": [
    "]dinput\n",
    "r←IntcodeV3 argv;code;ip;rb;in;out;halt;ev;op;p1;p2;p3;params;ops;m3;m2;m1;o2;o1;count;parmod;d1;d2;d3\n",
    "(code ip rb in out halt)←argv\n",
    ":If halt\n",
    "    r←argv\n",
    "    :Return\n",
    ":EndIf\n",
    "ev←{⍺=0:⍵⊃code⋄⍵}                          ⍝ Position or immediate mode\n",
    ":While 1\n",
    "    (op p1 p2 p3)←4↑ip↓code                ⍝ Skip anything before and take 4 cells\n",
    "    :If op=99\n",
    "        r←code ip rb in out 1\n",
    "        :Return\n",
    "    :EndIf\n",
    "                      \n",
    "    params←4 4 2 2 3 3 4 4 1              ⍝ Number of parameters by opcode\n",
    "    ops←99,⍨1+⍳8                          ⍝ Valid opcodes\n",
    "    (m3 m2 m1 o2 o1)←op⊤⍨5⍴10             ⍝ Unpack the param modes\n",
    "    op←10⊥o2 o1                           ⍝ Repack the opcode, to go from (say) 1001 to 1\n",
    "    count←params[ops⍳op]                  ⍝ Number of params\n",
    "    parmod←m1 m2 m3,⍪p1 p2 p3             ⍝ Table combining modes and params\n",
    "    (d1 d2 d3)←3↑ev/(¯1+count)↑parmod     ⍝ Pick relevant number of params, and apply modes\n",
    "\n",
    "    ip+←count                             ⍝ Advance ip by the width of current instr\n",
    "    :If op∊1 2                            ⍝ Addition or multiplication\n",
    "        code[p3]←(op-1)⌷d1(+,×)d2\n",
    "    :ElseIf op=3                          ⍝ Input\n",
    "        :If 0=≢in                         ⍝ Blocked on input\n",
    "            r←code (ip-count) rb in out 0 ⍝ Reverse one instruction\n",
    "            :Return\n",
    "        :EndIf\n",
    "        code[p1]←0⊃in\n",
    "        in←1↓in\n",
    "    :ElseIf op=4                          ⍝ Output\n",
    "        out,←d1\n",
    "    :ElseIf op∊5 6                        ⍝ Jumps\n",
    "        ip←ip d2⌷⍨(op-5)⌷d1(≠,=)0\n",
    "    :ElseIf op∊7 8                        ⍝ Comparisons\n",
    "        code[p3]←(op-7)⌷d1(<,=)d2\n",
    "    :Else\n",
    "        assert 0 ⍝ Unknown opcode\n",
    "    :End\n",
    ":EndWhile"
   ]
  },
  {
   "cell_type": "code",
   "execution_count": 11,
   "metadata": {},
   "outputs": [],
   "source": [
    "]dinput\n",
    "RunPhase←{\n",
    "    amps←⍵\n",
    "    amps[;3],←⍺⋄amps←↑IntcodeV3¨↓amps\n",
    "    amps[0;3],←0\n",
    "    amps[0;]←IntcodeV3 0⌷amps\n",
    "\n",
    "    RunAmps←{\n",
    "        ampId←5|⍵+1\n",
    "        amps[ampId;3],←0⊃⊖⊃amps[⍵;4]\n",
    "        ⊢amps[ampId;]←IntcodeV3 ampId⌷amps\n",
    "    }\n",
    "\n",
    "    _←{RunAmps¨⍳5}⍣{amps[4;5]}⊢⍬\n",
    "    amps\n",
    "}"
   ]
  },
  {
   "cell_type": "code",
   "execution_count": 12,
   "metadata": {},
   "outputs": [],
   "source": [
    "]dinput\n",
    "Day07←{\n",
    "    state←(↑5⍴⊂(⍺)0 0(,⍬)(,⍬)0)\n",
    "    ⌈/{⊃¯1↑⊃(4 4)⌷⍵ RunPhase state}¨⍵\n",
    "}"
   ]
  },
  {
   "cell_type": "code",
   "execution_count": 14,
   "metadata": {},
   "outputs": [
    {
     "data": {
      "text/html": [
       "<span style=\"white-space:pre; font-family: monospace\">      \n",
       "262086\n",
       "      \n",
       "</span>"
      ]
     },
     "execution_count": 14,
     "metadata": {},
     "output_type": "execute_result"
    }
   ],
   "source": [
    "⊢part1←DAY07 Day07 ↓pmat 5\n",
    "assert 262086=part1"
   ]
  },
  {
   "cell_type": "code",
   "execution_count": 15,
   "metadata": {},
   "outputs": [
    {
     "data": {
      "text/html": [
       "<span style=\"white-space:pre; font-family: monospace\">       \n",
       "5371621\n",
       "       \n",
       "</span>"
      ]
     },
     "execution_count": 15,
     "metadata": {},
     "output_type": "execute_result"
    }
   ],
   "source": [
    "⊢part2←DAY07 Day07 {5 6 7 8 9[⍵]}¨↓pmat 5\n",
    "assert 5371621=part2"
   ]
  },
  {
   "cell_type": "markdown",
   "metadata": {},
   "source": [
    "### Day 8: Space Image Format\n",
    "https://adventofcode.com/2019/day/8\n",
    "\n",
    "Briefly back to non-intcode, and proper arrays!"
   ]
  },
  {
   "cell_type": "code",
   "execution_count": 192,
   "metadata": {},
   "outputs": [],
   "source": [
    "DAY08←100 6 25⍴⍎¨line'data/2019/08.txt'"
   ]
  },
  {
   "cell_type": "code",
   "execution_count": 193,
   "metadata": {},
   "outputs": [],
   "source": [
    "Z←⊃⍋{+/0=∊DAY08[⍵;;]}¨⍳100 ⍝ Pick layer with the fewest zeros"
   ]
  },
  {
   "cell_type": "code",
   "execution_count": 194,
   "metadata": {},
   "outputs": [
    {
     "data": {
      "text/html": [
       "<span style=\"white-space:pre; font-family: monospace\">    \n",
       "1935\n",
       "    \n",
       "</span>"
      ]
     },
     "execution_count": 194,
     "metadata": {},
     "output_type": "execute_result"
    }
   ],
   "source": [
    "⊢part1←(+/1=∊DAY08[Z;;])×+/2=∊DAY08[Z;;]\n",
    "assert 1935=part1"
   ]
  },
  {
   "cell_type": "markdown",
   "metadata": {},
   "source": [
    "Part 2: decode the image, with the value 2 being transparent. We can use the dyadic form of transpose to great effect here, to group the 100 values that make up each pixel into vectors."
   ]
  },
  {
   "cell_type": "code",
   "execution_count": 201,
   "metadata": {},
   "outputs": [
    {
     "data": {
      "text/html": [
       "<span style=\"white-space:pre; font-family: monospace\">┌→────────────────────────┐\n",
       "↓ **  **** *    *  * *    │\n",
       "│*  * *    *    *  * *    │\n",
       "│*    ***  *    *  * *    │\n",
       "│*    *    *    *  * *    │\n",
       "│*  * *    *    *  * *    │\n",
       "│ **  *    ****  **  **** │\n",
       "└─────────────────────────┘\n",
       "</span>"
      ]
     },
     "execution_count": 201,
     "metadata": {},
     "output_type": "execute_result"
    }
   ],
   "source": [
    "img←{(⊃⍸2≠⍵)⊃⍵}¨↓2 0 1⍉DAY08 ⍝ Find first non-2 value at each point along the 100 layers\n",
    "' *'[img]                    ⍝ Image reads CFLUL"
   ]
  },
  {
   "cell_type": "markdown",
   "metadata": {},
   "source": [
    "### Day 9: Sensor Boost\n",
    "https://adventofcode.com/2019/day/9\n",
    "\n",
    "Yeah. The fun didn't last long, did it. Our new Intcode interpreter needs to support the 'relative base' operation, opcode 9, and also allow addressing an arbitrary distance beyond the given program. The intention here is that this is the final version of Intcode interpreter. \n",
    "\n",
    "I learnt a lot from [voidhawk42](https://github.com/voidhawk42/aoc2019apl/blob/master/p09.dyalog) on this."
   ]
  },
  {
   "cell_type": "code",
   "execution_count": 307,
   "metadata": {},
   "outputs": [],
   "source": [
    "DAY09←⊢⌿⍎¨⎕CSV'data/2019/09.txt'"
   ]
  },
  {
   "cell_type": "markdown",
   "metadata": {},
   "source": [
    "Given the state of a running intcode program, exectute one instruction and return the new state."
   ]
  },
  {
   "cell_type": "code",
   "execution_count": 53,
   "metadata": {},
   "outputs": [],
   "source": [
    "]dinput\n",
    "Step←{ \n",
    "    (code ip rb in out halt blocked)←⍵\n",
    "    evalPar←{⍺=0:⍵⊃code⋄⍺=2:(⍵+rb)⊃code⋄⍵}\n",
    "    applyRelBase←{⍺=2:⍵+rb⋄⍵}\n",
    "    (op p1 p2 p3)←4↑ip↓code\n",
    "    params←4 4 2 2 3 3 4 4 2 1\n",
    "    ops←99,⍨1+⍳9\n",
    "    (m3 m2 m1 o2 o1)←op⊤⍨5⍴10\n",
    "    op←10⊥o2 o1\n",
    "    count←params[ops⍳op]\n",
    "    parmod←(¯1+count)↑m1 m2 m3,⍪p1 p2 p3\n",
    "    read←3↑evalPar/parmod\n",
    "    write←3↑applyRelBase/parmod\n",
    "    ip+←count\n",
    "    op∊1 2:code ip rb in out 0 0⊣code[2⊃write]←(op-1)⌷read[0](+,×)1⊃read\n",
    "    (op=3)∧0=≢in:code (ip-count) rb in out 0 1\n",
    "    op=3:code ip rb (1↓in) out 0 0⊣code[0⊃write]←0⊃in\n",
    "    op=4:code ip rb in (out,0⊃read) 0 0\n",
    "    op∊5 6:code (ip (1⊃read)⌷⍨(op-5)⌷read[0](≠,=)0) rb in out 0 0\n",
    "    op∊7 8:code ip rb in out 0 0⊣code[2⊃write]←(op-7)⌷read[0](<,=)read[1]\n",
    "    op=9:code ip (rb+0⊃read) in out 0 0\n",
    "    op=99:code ip rb in out 1 0\n",
    "    assert 0\n",
    "}"
   ]
  },
  {
   "cell_type": "markdown",
   "metadata": {},
   "source": [
    "Now we can run a program to completion using power ⍣. Note that we need to pre-allocate sufficient 'RAM' for the execution."
   ]
  },
  {
   "cell_type": "code",
   "execution_count": 309,
   "metadata": {},
   "outputs": [],
   "source": [
    "Intcode←{⍺←⍬⋄Step⍣{5⊃⍺}⊢(⍵,512⍴0)0 0(,⍺)(,⍬)0 0} ⍝ ⍺ is input vector, ⍵ is the program"
   ]
  },
  {
   "cell_type": "code",
   "execution_count": 310,
   "metadata": {},
   "outputs": [
    {
     "data": {
      "text/html": [
       "<span style=\"white-space:pre; font-family: monospace\">          \n",
       "2171728567\n",
       "          \n",
       "</span>"
      ]
     },
     "execution_count": 310,
     "metadata": {},
     "output_type": "execute_result"
    }
   ],
   "source": [
    "⊢part1←⊃4⊃1 Intcode DAY09\n",
    "assert 2171728567=part1"
   ]
  },
  {
   "cell_type": "code",
   "execution_count": 311,
   "metadata": {},
   "outputs": [
    {
     "data": {
      "text/html": [
       "<span style=\"white-space:pre; font-family: monospace\">     \n",
       "49815\n",
       "     \n",
       "</span>"
      ]
     },
     "execution_count": 311,
     "metadata": {},
     "output_type": "execute_result"
    }
   ],
   "source": [
    "⊢part2←⊃4⊃2 Intcode DAY09\n",
    "assert 49815=part2"
   ]
  },
  {
   "cell_type": "markdown",
   "metadata": {},
   "source": [
    "### Day 10: Monitoring Station\n",
    "https://adventofcode.com/2019/day/10\n",
    "\n",
    "Trigonometry? For each asteroid, calculate angle to every other asteroid, and find the max count of unique angles."
   ]
  },
  {
   "cell_type": "code",
   "execution_count": 182,
   "metadata": {},
   "outputs": [],
   "source": [
    "DAY10←↑lines'data/2019/10.txt'\n",
    "ASTR←⍸'#'=DAY10"
   ]
  },
  {
   "cell_type": "code",
   "execution_count": 183,
   "metadata": {},
   "outputs": [],
   "source": [
    "Deg←{0=⍵:0⋄(180÷○∘÷)⍵}\n",
    "ATan2←12○⊣+0J1×⊢\n",
    "Angle←{v←360-360|180+Deg ATan2/⍵-⍺⋄v=360:0⋄v} ⍝ 0 and 360 pointing 'north' and increasing clockwise"
   ]
  },
  {
   "cell_type": "code",
   "execution_count": 184,
   "metadata": {},
   "outputs": [
    {
     "data": {
      "text/html": [
       "<span style=\"white-space:pre; font-family: monospace\">   \n",
       "334\n",
       "   \n",
       "</span>"
      ]
     },
     "execution_count": 184,
     "metadata": {},
     "output_type": "execute_result"
    }
   ],
   "source": [
    "GROUPS←(≢∪)¨↓ASTR∘.Angle ASTR\n",
    "WINNER←⊃⍒GROUPS\n",
    "⊢part1←WINNER⊃GROUPS\n",
    "assert 334=part1"
   ]
  },
  {
   "cell_type": "markdown",
   "metadata": {},
   "source": [
    "Part 2: complete vaporization by giant laser. Starting pointing up, eliminate the first asteroid visible, and repeat the process whilst rotating clockwise. Which is the 200th asteroid to be eliminated?\n",
    "\n",
    "For this we need both angles and distances."
   ]
  },
  {
   "cell_type": "code",
   "execution_count": 185,
   "metadata": {},
   "outputs": [],
   "source": [
    "Dist←{.5*⍨+/2*⍨⍵-⍺}\n",
    "Visibility←{(⍺ Angle ⍵)((⍺ Dist ⍵),⍵)}"
   ]
  },
  {
   "cell_type": "code",
   "execution_count": 186,
   "metadata": {},
   "outputs": [],
   "source": [
    "VIZ←group sorted (⊃ASTR[WINNER])∘Visibility¨ASTR"
   ]
  },
  {
   "cell_type": "markdown",
   "metadata": {},
   "source": [
    "The VIZ vector now holds groups consisting of angle and triplets of distance and coordinates, in ascending order. We need to find the 200th coordinate, by iterating over the angles, clockwise, picking the first non-seen item from each distance-ordered list. If we remix the coordinate parts of VIZ, we should get them in the order required, and then we can pick directly the coordinate at index 199."
   ]
  },
  {
   "cell_type": "code",
   "execution_count": 187,
   "metadata": {},
   "outputs": [],
   "source": [
    "ZAPPED←⊃0⌷↓⍉↑{{1↓⊃⍵}¨1⊃⍵}¨VIZ ⍝ Pick out only the coordinates, and remix/zip ↓⍉↑."
   ]
  },
  {
   "cell_type": "code",
   "execution_count": 188,
   "metadata": {},
   "outputs": [
    {
     "data": {
      "text/html": [
       "<span style=\"white-space:pre; font-family: monospace\">┌→────┐\n",
       "│19 11│\n",
       "└~────┘\n",
       "</span>"
      ]
     },
     "execution_count": 188,
     "metadata": {},
     "output_type": "execute_result"
    }
   ],
   "source": [
    "⊢part2←199⊃ZAPPED\n",
    "assert part2≡19 11 ⍝ Submittable result is 1119, y+x×100"
   ]
  },
  {
   "cell_type": "markdown",
   "metadata": {},
   "source": [
    "### Day 11: Space Police\n",
    "https://adventofcode.com/2019/day/11\n",
    "\n",
    "And with that fun out of the way, normal Intcode service returns."
   ]
  },
  {
   "cell_type": "code",
   "execution_count": 312,
   "metadata": {},
   "outputs": [],
   "source": [
    "DAY11←⊢⌿⍎¨⎕CSV'data/2019/11.txt'\n",
    "Turn←{⍺ ⍵⌷4 2⍴3 1 0 2 1 3 2 0}\n",
    "Move←{⊃⍵⌷⍺+(¯1 0)(0 1)(1 0)(0 ¯1)}"
   ]
  },
  {
   "cell_type": "code",
   "execution_count": 313,
   "metadata": {},
   "outputs": [],
   "source": [
    "]dinput\n",
    "Day11←{\n",
    "    ⍺←0 \n",
    "    code←⍵\n",
    "    panel←100 100⍴0\n",
    "    panel[50;50]←⍺\n",
    "    robot←{⍵⊣⍵.(state dir count pos)←((code,512⍴0)0 0(,⍬)(,⍬)0 0) 0 0 (50 50)}⎕NS''\n",
    "    painted←100 100⍴0\n",
    "    _←{ \n",
    "        robot.state[3]←⊂,robot.pos⌷panel             ⍝ Input: current tile colour\n",
    "        robot.state[4]←⊂,⍬                           ⍝ Reset output buffer\n",
    "        robot.state←Step⍣{(5⊃⍺)∨2=≢4⊃⍺}⊢robot.state  ⍝ Run robot until two outputs or halt\n",
    "        5⊃robot.state:⍬                              ⍝ Halted\n",
    "        (colour dir)←4⊃robot.state\n",
    "        panel[⊂robot.pos]←colour                     ⍝ Paint our current tile\n",
    "        painted[⊂robot.pos]+←colour=1\n",
    "        robot.dir←robot.dir Turn dir                 ⍝ Turn left or right, as directed\n",
    "        ⊢robot.pos←(⊂robot.pos) Move robot.dir       ⍝ Take one step in new dir\n",
    "    }⍣{5⊃robot.state}⊢⍬\n",
    "    (painted) (panel)\n",
    "}"
   ]
  },
  {
   "cell_type": "code",
   "execution_count": 314,
   "metadata": {},
   "outputs": [
    {
     "data": {
      "text/html": [
       "<span style=\"white-space:pre; font-family: monospace\">    \n",
       "2088\n",
       "    \n",
       "</span>"
      ]
     },
     "execution_count": 314,
     "metadata": {},
     "output_type": "execute_result"
    }
   ],
   "source": [
    "(painted _)←Day11 DAY11\n",
    "⊢part1←+/0≠∊painted\n",
    "assert 2088=part1"
   ]
  },
  {
   "cell_type": "code",
   "execution_count": 315,
   "metadata": {},
   "outputs": [
    {
     "data": {
      "text/html": [
       "<span style=\"white-space:pre; font-family: monospace\">┌→──────────────────────────────────────┐\n",
       "↓*  * ***   **   **  **** *     **  *** │\n",
       "│*  * *  * *  * *  * *    *    *  * *  *│\n",
       "│*  * *  * *    *  * ***  *    *    *  *│\n",
       "│*  * ***  *    **** *    *    *    *** │\n",
       "│*  * * *  *  * *  * *    *    *  * *   │\n",
       "│ **  *  *  **  *  * *    ****  **  *   │\n",
       "└───────────────────────────────────────┘\n",
       "</span>"
      ]
     },
     "execution_count": 315,
     "metadata": {},
     "output_type": "execute_result"
    }
   ],
   "source": [
    "(_ panel)←1 Day11 DAY11\n",
    "(' *'[panel])[50+⍳6;51+⍳39] ⍝ Part 2: message reads URCAFLCP"
   ]
  },
  {
   "cell_type": "markdown",
   "metadata": {},
   "source": [
    "### Day 12: The N-Body Problem\n",
    "https://adventofcode.com/2019/day/12"
   ]
  },
  {
   "cell_type": "code",
   "execution_count": 278,
   "metadata": {},
   "outputs": [],
   "source": [
    "DAY12←(4 1 ¯15)(¯8 ¯10 1)(9 4 ¯5)(¯2 6 4) ⍝ Flipped from xyz to zyx format"
   ]
  },
  {
   "cell_type": "code",
   "execution_count": 279,
   "metadata": {},
   "outputs": [],
   "source": [
    "Gravity←{+/⍵∘.(<->)⍵} ⍝ Return velocity change, a.k.a acceleration\n",
    "Energy←×⍥(+/∘|)\n",
    "ApplyForces←{(p v)←⍵⋄(p+nv)(nv←v+Gravity p)}"
   ]
  },
  {
   "cell_type": "code",
   "execution_count": 280,
   "metadata": {},
   "outputs": [
    {
     "data": {
      "text/html": [
       "<span style=\"white-space:pre; font-family: monospace\">    \n",
       "8625\n",
       "    \n",
       "</span>"
      ]
     },
     "execution_count": 280,
     "metadata": {},
     "output_type": "execute_result"
    }
   ],
   "source": [
    "⊢part1←+/Energy⌿↑ApplyForces⍣1000⊢DAY12 ((0 0 0)(0 0 0)(0 0 0)(0 0 0))\n",
    "assert 8625=part1"
   ]
  },
  {
   "cell_type": "markdown",
   "metadata": {},
   "source": [
    "Nice.\n",
    "\n",
    "Part 2 asks us to determine the number of steps that must occur before all of the moons' positions and velocities exactly match a previous point in time. There are strong hints that the number of iterations will likely be too large for us to brute. \n",
    "\n",
    "This is a trickier problem.\n",
    "\n",
    "The key insight to exploit is that the column vectors for x, y and z are independent and periodic (or there would be no solution), so we search for the common period."
   ]
  },
  {
   "cell_type": "code",
   "execution_count": 281,
   "metadata": {},
   "outputs": [],
   "source": [
    "]dinput\n",
    "Periods←{\n",
    "    startState←↓⍉↑⍵                ⍝ zip to make col vectors\n",
    "    periods←¯1 ¯1 ¯1               ⍝ zyx\n",
    "    count←2\n",
    "    _←{\n",
    "        periods[⍸(¯1=periods)∧(↓⍉↑⊃0⌷⍵)≡⍤0⊢startState]←count\n",
    "        ApplyForces ⍵\n",
    "    }⍣{count+←1⋄~¯1∊periods}⊢ApplyForces ⍵ ((0 0 0)(0 0 0)(0 0 0)(0 0 0))\n",
    "    periods\n",
    "}"
   ]
  },
  {
   "cell_type": "code",
   "execution_count": 282,
   "metadata": {},
   "outputs": [
    {
     "data": {
      "text/html": [
       "<span style=\"white-space:pre; font-family: monospace\">┌→──────────────────┐\n",
       "│193052 96236 286332│\n",
       "└~──────────────────┘\n",
       "</span>"
      ]
     },
     "execution_count": 282,
     "metadata": {},
     "output_type": "execute_result"
    }
   ],
   "source": [
    "⊢periods←Periods DAY12"
   ]
  },
  {
   "cell_type": "markdown",
   "metadata": {},
   "source": [
    "So that gives us the per-component periods, but what is the common period they must share? Fortunately for us, APL has lowest common multiple built in, which is handy."
   ]
  },
  {
   "cell_type": "code",
   "execution_count": 285,
   "metadata": {},
   "outputs": [
    {
     "data": {
      "text/html": [
       "<span style=\"white-space:pre; font-family: monospace\">               \n",
       "332477126821644\n",
       "               \n",
       "</span>"
      ]
     },
     "execution_count": 285,
     "metadata": {},
     "output_type": "execute_result"
    }
   ],
   "source": [
    "⊢part2←∧/periods ⍝ wow apl :)\n",
    "assert 332477126821644=part2"
   ]
  },
  {
   "cell_type": "markdown",
   "metadata": {},
   "source": [
    "### Day 13: Care Package\n",
    "https://adventofcode.com/2019/day/13\n",
    "\n",
    "For that we now have to pay the mandated Intcode tax.\n",
    "\n",
    "Part 1: run the program, count the number of output groups of three ending in a 2."
   ]
  },
  {
   "cell_type": "code",
   "execution_count": 316,
   "metadata": {},
   "outputs": [],
   "source": [
    "DAY13←⊢⌿⍎¨⎕CSV'data/2019/13.txt'"
   ]
  },
  {
   "cell_type": "code",
   "execution_count": 317,
   "metadata": {},
   "outputs": [
    {
     "data": {
      "text/html": [
       "<span style=\"white-space:pre; font-family: monospace\">   \n",
       "193\n",
       "   \n",
       "</span>"
      ]
     },
     "execution_count": 317,
     "metadata": {},
     "output_type": "execute_result"
    }
   ],
   "source": [
    "⊢part1←+/2=2⊃¨↓(3÷⍨≢out) 3⍴out←4⊃Step⍣{5⊃⍺}⊢(DAY13,512⍴0)0 0(,⍬)(,⍬)0 0\n",
    "assert 193=part1"
   ]
  },
  {
   "cell_type": "code",
   "execution_count": 367,
   "metadata": {},
   "outputs": [],
   "source": [
    "]dinput\n",
    "Breakout←{\n",
    "    code←⍵\n",
    "    code[0]←2 ⍝ Enable unlimited quarters mode\n",
    "    final←{\n",
    "        state←Step⍣{(6⊃⍺)∨5⊃⍺}⊢⍵                       ⍝ Execute until blocked or halted\n",
    "        5⊃state:state                                  ⍝ Game over\n",
    "        buf←↑3 cut 4⊃state                             ⍝ Matrix from triplets\n",
    "        data←⊢/buf                                  \n",
    "        state[3],←buf[data⍳3;0](<->)buf[⊃¯1↑⍸4⍷data;0] ⍝ Paddle tracks last ball in x\n",
    "        state[4]←⊂,⍬                                   ⍝ Reset output\n",
    "        state\n",
    "    }⍣{5⊃⍺}⊢(code,512⍴0)0 0(,0)(,⍬)0 0\n",
    "    result←↑3 cut 4⊃final\n",
    "    scoreidx←result[;0 1]⍳¯1 0\n",
    "    result[scoreidx;2]\n",
    "}"
   ]
  },
  {
   "cell_type": "code",
   "execution_count": 368,
   "metadata": {},
   "outputs": [
    {
     "data": {
      "text/html": [
       "<span style=\"white-space:pre; font-family: monospace\">     \n",
       "10547\n",
       "     \n",
       "</span>"
      ]
     },
     "execution_count": 368,
     "metadata": {},
     "output_type": "execute_result"
    }
   ],
   "source": [
    "⊢part2←Breakout DAY13\n",
    "assert 10547=part2"
   ]
  },
  {
   "cell_type": "markdown",
   "metadata": {},
   "source": [
    "### Day 14: Space Stoichiometry\n",
    "https://adventofcode.com/2019/day/14\n",
    "\n",
    "Solution as presented here heavily influenced by [voidhawk42](https://github.com/voidhawk42/aoc2019apl/blob/master/p14.dyalog). Python [version](https://github.com/xpqz/aoc-19/blob/master/day14.py)."
   ]
  },
  {
   "cell_type": "code",
   "execution_count": 481,
   "metadata": {},
   "outputs": [],
   "source": [
    "'segs'⎕CY'dfns'\n",
    "DAY14←↑{↓⍉↑⍵}¨{2 cut {6::⍵⋄⍎⍵}¨', =>' segs ⍵}¨lines'data/2019/14.txt'"
   ]
  },
  {
   "cell_type": "code",
   "execution_count": 482,
   "metadata": {},
   "outputs": [],
   "source": [
    "TARGETS←(⊂'ORE'),⍨⊃,/¯1↑¨DAY14[;1]"
   ]
  },
  {
   "cell_type": "markdown",
   "metadata": {},
   "source": [
    "Now we build a table of all the formulae, showing target amounts as positive values along the diagonal, and the ingredient 'costs' as negative weights.\n",
    "\n",
    "In other words, if we have the rule\n",
    "\n",
    "    (⊂1 1 2) ('HVXJL' 'JHGQ' 'ZQFQ')\n",
    "\n",
    "we can expect the entry in the HVXJL and JHGQ cols to be ¯1 and that for the target ZQFQ to be 2.\n",
    "\n",
    "Dyalog's [selective assigment](http://help.dyalog.com/18.0/#Language/Primitive%20Functions/Assignment%20Selective.htm)."
   ]
  },
  {
   "cell_type": "code",
   "execution_count": 484,
   "metadata": {},
   "outputs": [],
   "source": [
    "FORMULAE←-↑{⍺@(TARGETS⍳⍵)⊢0⍴⍨≢TARGETS}/DAY14\n",
    "(0 0⍉FORMULAE)×←¯1 ⍝ Flip sign along diagonal via selective assignment"
   ]
  },
  {
   "cell_type": "code",
   "execution_count": 490,
   "metadata": {},
   "outputs": [],
   "source": [
    "]dinput\n",
    "React←{ ⍝ React amnt\n",
    "    ⊃-¯1↑{\n",
    "        ∧/0≤¯1↓⍵:⍵                           ⍝ We're done. ORE is the last item.\n",
    "        element←⊃⍸0>⍵                        ⍝ Pick first unfulfilled (negative) element\n",
    "        items←element⌷FORMULAE               ⍝ ...and its corresponding ingredient weights\n",
    "        ∇⍵+items×⌈(-element⌷⍵)÷element⌷items ⍝ Adjust remaining weights and add to queue\n",
    "    } ⍵×FORMULAE⌷⍨TARGETS⍳⊂'FUEL'\n",
    "}"
   ]
  },
  {
   "cell_type": "code",
   "execution_count": 489,
   "metadata": {},
   "outputs": [
    {
     "data": {
      "text/html": [
       "<span style=\"white-space:pre; font-family: monospace\">      \n",
       "216477\n",
       "      \n",
       "</span>"
      ]
     },
     "execution_count": 489,
     "metadata": {},
     "output_type": "execute_result"
    }
   ],
   "source": [
    "⊢part1←React 1\n",
    "assert 216477=part1"
   ]
  },
  {
   "cell_type": "markdown",
   "metadata": {},
   "source": [
    "Binary search"
   ]
  },
  {
   "cell_type": "code",
   "execution_count": 497,
   "metadata": {},
   "outputs": [
    {
     "data": {
      "text/html": [
       "<span style=\"white-space:pre; font-family: monospace\">        \n",
       "11788286\n",
       "        \n",
       "</span>"
      ]
     },
     "execution_count": 497,
     "metadata": {},
     "output_type": "execute_result"
    }
   ],
   "source": [
    "⊢part2←1 {⍺=⍵:⍵ ⋄ 1e12>React⊢m←⌈2÷⍨⍺+⍵:m∇⍵-1 ⋄ ⍺∇m} 2×⍣{1e12<React ⍺}⊢1\n",
    "assert 11788286=part2"
   ]
  },
  {
   "cell_type": "markdown",
   "metadata": {},
   "source": [
    "### Day 15: Oxygen System\n",
    "https://adventofcode.com/2019/day/15\n",
    "\n",
    "Guess what. Intcode AND graphy path findingy things.\n",
    "\n",
    "We start with a breadth-first traversal of the maze to map it out. We can then apply Dijkstra's algorithm for parts 1 and 2. We could have tapped out the answer for part 1 directly from the BFS at the cost of some complexity."
   ]
  },
  {
   "cell_type": "code",
   "execution_count": 49,
   "metadata": {},
   "outputs": [],
   "source": [
    "DAY15←⊢⌿⍎¨⎕CSV'data/2019/15.txt'\n",
    "ICState←{(⍵,512⍴0)0 0(,⍬)(,⍬)0 0}\n",
    "Move←{ic←⍺ ⋄ ic[3],←⍵ ⋄ Step⍣{(6⊃⍺)∨5⊃⍺}⊢ic}"
   ]
  },
  {
   "cell_type": "code",
   "execution_count": 50,
   "metadata": {},
   "outputs": [],
   "source": [
    "]dinput\n",
    "N4←{\n",
    "    (cur state)←⍵\n",
    "    pos←(⊂cur)(-,+)(0 1)(1 0)                 ⍝ W N E S = 3 1 4 2\n",
    "    unvisited←(≢⍺)=⍺⍳pos                         \n",
    "    new←state∘Move¨3 1 4 2                    ⍝ Apply each move command (classify location)\n",
    "    tiles←∊¯1↑¨(↑new)[;4]                     ⍝ Last item of each output buffer\n",
    "    valid←unvisited∧0≠tiles                   ⍝ Unvisited non-wall positions\n",
    "    (↓⍉↑(valid/pos)(valid/new))(pos/⍨2=tiles)\n",
    "}"
   ]
  },
  {
   "cell_type": "code",
   "execution_count": 51,
   "metadata": {},
   "outputs": [],
   "source": [
    "]dinput\n",
    "YABFS←{ ⍝ Yet Another Breadth First Search\n",
    "    spout←⍬\n",
    "    ⍬ {\n",
    "        0=≢⍵:⍺ spout\n",
    "        head←0⊃⍵\n",
    "        (newStates cand)←⍺ N4 head\n",
    "        _←{0≠≢⍵:⊢spout⊢←⍵⋄⍬} cand\n",
    "        (⍺,¯1↓head)∇(1↓⍵),newStates\n",
    "    } ,⊂(100 100) (ICState ⍵) ⍝ Y X state-vec\n",
    "}"
   ]
  },
  {
   "cell_type": "code",
   "execution_count": 54,
   "metadata": {},
   "outputs": [],
   "source": [
    "(empties spout)←YABFS DAY15"
   ]
  },
  {
   "cell_type": "markdown",
   "metadata": {},
   "source": [
    "Now we have a graph, and a target location, which should mean we're done with the Intcode bits, thankfully.\n",
    "\n",
    "Looking back through the AoC archives, we've used Dijkstra's several times that we can use as a basis. This time, however -- and we should have done this ages ago -- let's have a dictionary. Come on, Dyalog, you know it makes sense!"
   ]
  },
  {
   "cell_type": "code",
   "execution_count": 73,
   "metadata": {},
   "outputs": [
    {
     "data": {
      "text/html": [
       "<span style=\"white-space:pre; font-family: monospace\">┌→───────────────────────────────────────────────────────────────────────────┐\n",
       "│Already linked: #.dict.heapq → /Users/stefan/work/dyalog/AoCDyalog/src/heapq│\n",
       "└────────────────────────────────────────────────────────────────────────────┘\n",
       "</span>"
      ]
     },
     "execution_count": 73,
     "metadata": {},
     "output_type": "execute_result"
    },
    {
     "data": {
      "text/html": [
       "<span style=\"white-space:pre; font-family: monospace\">┌→─────────────────────────────────────────────────────────────────────────┐\n",
       "│Already linked: #.dict.dict → /Users/stefan/work/dyalog/AoCDyalog/src/dict│\n",
       "└──────────────────────────────────────────────────────────────────────────┘\n",
       "</span>"
      ]
     },
     "execution_count": 73,
     "metadata": {},
     "output_type": "execute_result"
    }
   ],
   "source": [
    "]LINK.Create heapq src/heapq\n",
    "]LINK.Create dict src/dict"
   ]
  },
  {
   "cell_type": "code",
   "execution_count": 82,
   "metadata": {},
   "outputs": [],
   "source": [
    "Neighbours←{⊂¨(⍸×⍺)∩⍵+(¯1 0)(1 0)(0 ¯1)(0 1)}\n",
    "UnwindPath←{p←⍺⋄(s e)←⍵⋄⍬{⍵≡s:⊖⍺⋄(⍺,⍵)∇p ##.dict.Get ⍵}e}"
   ]
  },
  {
   "cell_type": "code",
   "execution_count": 100,
   "metadata": {},
   "outputs": [],
   "source": [
    "]dinput\n",
    "Dijkstra←{\n",
    "    ⍝ Dijkstra's without cut-off\n",
    "    ⍝ See https://en.wikipedia.org/wiki/Dijkstra%27s_algorithm\n",
    "    cost←⍵ ##.dict.Create 0 ⋄ cost.Default←⌊/⍬\n",
    "    cameFrom←⍵ ##.dict.Create ⍵\n",
    "    Neigh←⍺⍺\n",
    "    Pick←{oldCost←cost ##.dict.Get ⍵⋄⍺<oldCost}                \n",
    "    _←{\n",
    "        (queue queueItem)←##.heapq.Pop ⍵\n",
    "        current←1⊃queueItem\n",
    "        newCost←1+cost ##.dict.Get current\n",
    "        valid←(newCost∘Pick¨n)/n←Neigh current             ⍝ New, or better?\n",
    "        _←cameFrom ##.dict.Set (valid) ((≢valid)⍴⊂current) ⍝ Update path dictionary\n",
    "        _←cost ##.dict.Set (valid) ((≢valid)⍴newCost)      ⍝ Any changed costs\n",
    "        queue ##.heapq.Push ↓⍉↑((≢valid)⍴newCost)(valid)   ⍝ Enqueue connected nodes\n",
    "    }⍣{##.heapq.Empty ⍺} ##.heapq.Push ⊂0 ⍵\n",
    "    cameFrom\n",
    "}"
   ]
  },
  {
   "cell_type": "code",
   "execution_count": 101,
   "metadata": {},
   "outputs": [],
   "source": [
    "graph←120 120⍴0\n",
    "graph[empties]←1"
   ]
  },
  {
   "cell_type": "code",
   "execution_count": 102,
   "metadata": {},
   "outputs": [],
   "source": [
    "cf←(graph∘Neighbours Dijkstra) ⊂100 100"
   ]
  },
  {
   "cell_type": "code",
   "execution_count": 103,
   "metadata": {},
   "outputs": [
    {
     "data": {
      "text/html": [
       "<span style=\"white-space:pre; font-family: monospace\">   \n",
       "248\n",
       "   \n",
       "</span>"
      ]
     },
     "execution_count": 103,
     "metadata": {},
     "output_type": "execute_result"
    }
   ],
   "source": [
    "⊢part1←≢cf UnwindPath (⊂100 100)(⊂88 80)\n",
    "assert 248=part1"
   ]
  },
  {
   "cell_type": "markdown",
   "metadata": {},
   "source": [
    "Part 2 can be expressed as finding the longest shortest path between the spout and any other open space. "
   ]
  },
  {
   "cell_type": "code",
   "execution_count": 87,
   "metadata": {},
   "outputs": [],
   "source": [
    "cf←(graph∘Neighbours Dijkstra) ⊂88 80"
   ]
  },
  {
   "cell_type": "code",
   "execution_count": 88,
   "metadata": {},
   "outputs": [
    {
     "data": {
      "text/html": [
       "<span style=\"white-space:pre; font-family: monospace\">   \n",
       "382\n",
       "   \n",
       "</span>"
      ]
     },
     "execution_count": 88,
     "metadata": {},
     "output_type": "execute_result"
    }
   ],
   "source": [
    "⊢part2←⌈/{≢cf UnwindPath (⊂⍺)(⊂⍵)}⌿↑((≢empties)⍴⊂88 80)(empties)\n",
    "assert 382=part2"
   ]
  },
  {
   "cell_type": "markdown",
   "metadata": {},
   "source": [
    "In retrospect, we could have used the Dijkstra routine directly, in place of the 'YABFS' function above, by having it record the location of the spout. But that would have made the Dijkstra rather fugly."
   ]
  },
  {
   "cell_type": "markdown",
   "metadata": {},
   "source": [
    "### Day 16: Flawed Frequency Transmission\n",
    "https://adventofcode.com/2019/day/16\n",
    "\n",
    "Ok, we're back on APL home-court advantage. It starts easy enough..."
   ]
  },
  {
   "cell_type": "code",
   "execution_count": 114,
   "metadata": {},
   "outputs": [],
   "source": [
    "⎕io←1\n",
    "DAY16←⍎¨line'data/2019/16.txt'"
   ]
  },
  {
   "cell_type": "code",
   "execution_count": 115,
   "metadata": {},
   "outputs": [],
   "source": [
    "Coeff←{⍺↑1↓∊(1+⌈⍺÷4×⍵)⍴⊂∊⍵∘{⍺⍴⍵}¨0 1 0 ¯1}\n",
    "Phase←{10||(↑(≢⍵)Coeff¨⍳≢⍵)+.×⍵}"
   ]
  },
  {
   "cell_type": "code",
   "execution_count": 116,
   "metadata": {},
   "outputs": [
    {
     "data": {
      "text/html": [
       "<span style=\"white-space:pre; font-family: monospace\">┌→──────────────┐\n",
       "│5 8 1 0 0 1 0 5│\n",
       "└~──────────────┘\n",
       "</span>"
      ]
     },
     "execution_count": 116,
     "metadata": {},
     "output_type": "execute_result"
    }
   ],
   "source": [
    "⊢part1←8↑Phase⍣100⊢DAY16\n",
    "assert 5 8 1 0 0 1 0 5≡part1"
   ]
  },
  {
   "cell_type": "markdown",
   "metadata": {},
   "source": [
    "In part 2, we're asked to repeat our input signal 10,000 times, making the naive approach intractable. However, as the coefficient matrix is upper-diagonal, we can skip a whole lot. Look at the coefficients for the example given:"
   ]
  },
  {
   "cell_type": "code",
   "execution_count": 117,
   "metadata": {},
   "outputs": [
    {
     "data": {
      "text/html": [
       "<span style=\"white-space:pre; font-family: monospace\">┌→─────────────────┐\n",
       "↓1 0 ¯1 0 1  0 ¯1 0│\n",
       "│0 1  1 0 0 ¯1 ¯1 0│\n",
       "│0 0  1 1 1  0  0 0│\n",
       "│0 0  0 1 1  1  1 0│\n",
       "│0 0  0 0 1  1  1 1│\n",
       "│0 0  0 0 0  1  1 1│\n",
       "│0 0  0 0 0  0  1 1│\n",
       "│0 0  0 0 0  0  0 1│\n",
       "└~─────────────────┘\n",
       "</span>"
      ]
     },
     "execution_count": 117,
     "metadata": {},
     "output_type": "execute_result"
    }
   ],
   "source": [
    "{↑(≢⍵)Coeff¨⍳≢⍵}⍳8"
   ]
  },
  {
   "cell_type": "markdown",
   "metadata": {},
   "source": [
    "The first 7 digits of our input now represents the offset to the sub-sequence we're interested in. Given the zeroes in the coefficient matrix, only the sub-sequence actually contributes, so can skip everything before. Each digit depends on the previous (digit n depends on digit n-1), as the zeros are followed by ones."
   ]
  },
  {
   "cell_type": "code",
   "execution_count": 139,
   "metadata": {},
   "outputs": [
    {
     "data": {
      "text/html": [
       "<span style=\"white-space:pre; font-family: monospace\">       \n",
       "5970443\n",
       "       \n",
       "</span>"
      ]
     },
     "execution_count": 139,
     "metadata": {},
     "output_type": "execute_result"
    }
   ],
   "source": [
    "⊢offset←10⊥7↑DAY16"
   ]
  },
  {
   "cell_type": "code",
   "execution_count": 141,
   "metadata": {},
   "outputs": [
    {
     "data": {
      "text/html": [
       "<span style=\"white-space:pre; font-family: monospace\">┌→──────────────┐\n",
       "│4 1 7 8 1 2 8 7│\n",
       "└~──────────────┘\n",
       "</span>"
      ]
     },
     "execution_count": 141,
     "metadata": {},
     "output_type": "execute_result"
    }
   ],
   "source": [
    "⊢part2←8↑{1↓⊖10|+\\(⊖⍵),0}⍣100⊢offset↓∊10000⍴⊂DAY16\n",
    "assert 4 1 7 8 1 2 8 7≡part2"
   ]
  },
  {
   "cell_type": "markdown",
   "metadata": {},
   "source": [
    "That was nice, wasn't it? I learnt something after trying first to do:\n",
    "\n",
    "    {1↓⊖{10|⍺+⍵}\\(⊖⍵),0}\n",
    "    \n",
    "which is crushingly slow. Scan with a dfn operand ends up being O(n^2), where as +\\ hits a highly efficient optimised idiom. "
   ]
  },
  {
   "cell_type": "markdown",
   "metadata": {},
   "source": [
    "### Day 17: Set and Forget\n",
    "https://adventofcode.com/2019/day/17\n",
    "\n",
    "Anyway. Let's put that lovely problem aside, and get back to some Intcode :/"
   ]
  },
  {
   "cell_type": "code",
   "execution_count": 157,
   "metadata": {},
   "outputs": [],
   "source": [
    "⎕IO←0\n",
    "DAY17←⊢⌿⍎¨⎕CSV'data/2019/17.txt'"
   ]
  },
  {
   "cell_type": "code",
   "execution_count": 158,
   "metadata": {},
   "outputs": [],
   "source": [
    "]dinput\n",
    "MakeGraph←{\n",
    "    graph←↑10(≠⊆⊢)4⊃Step⍣{(6⊃⍺)∨5⊃⍺}⊢(⍵,10000⍴0)0 0(,⍬)(,⍬)0 0\n",
    "    heading←⊃(∪∊graph)~46 35\n",
    "    (1@(⍸35=graph)⊢(⍴graph)⍴0)(⊃⍸heading=graph)heading\n",
    "}"
   ]
  },
  {
   "cell_type": "code",
   "execution_count": 159,
   "metadata": {},
   "outputs": [],
   "source": [
    "(g loc hd)←MakeGraph DAY17"
   ]
  },
  {
   "cell_type": "code",
   "execution_count": 160,
   "metadata": {},
   "outputs": [
    {
     "data": {
      "text/html": [
       "<span style=\"white-space:pre; font-family: monospace\">    \n",
       "8408\n",
       "    \n",
       "</span>"
      ]
     },
     "execution_count": 160,
     "metadata": {},
     "output_type": "execute_result"
    }
   ],
   "source": [
    "cross←3 3 ⍴ 0 1 0 1 1 1 0 1 0   ⍝ All intersections look like a 3x3 'cross'\n",
    "⊢part1←+/×/↑⍸({cross≡⍵}⌺3 3) g\n",
    "assert 8408=part1"
   ]
  },
  {
   "cell_type": "code",
   "execution_count": null,
   "metadata": {},
   "outputs": [],
   "source": []
  }
 ],
 "metadata": {
  "kernelspec": {
   "display_name": "Dyalog APL",
   "language": "apl",
   "name": "dyalog-kernel"
  },
  "language_info": {
   "file_extension": ".apl",
   "mimetype": "text/apl",
   "name": "APL"
  }
 },
 "nbformat": 4,
 "nbformat_minor": 2
}
