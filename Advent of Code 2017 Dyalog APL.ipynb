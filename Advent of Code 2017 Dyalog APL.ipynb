{
 "cells": [
  {
   "cell_type": "markdown",
   "metadata": {},
   "source": [
    "# Advent of Code 2017, Dyalog APL edition\n",
    "\n",
    "To see a correct render of this notebook, check it out on [nbviewer](https://nbviewer.jupyter.org/github/xpqz/AoCDyalog/blob/master/Advent%20of%20Code%202017%20Dyalog%20APL.ipynb).\n",
    "\n",
    "Annotated solutions in Dyalog APL.\n",
    "\n",
    "Note that part of the charm of AoC is that every user (or at least groups of users) gets their own unique data set. Some of the solutions below exploit quirks in my particular data set, and so may conceivably not work for the general case."
   ]
  },
  {
   "cell_type": "code",
   "execution_count": 38,
   "metadata": {},
   "outputs": [
    {
     "data": {
      "text/html": [
       "<span style=\"white-space:pre; font-family: monospace\">┌→─────────────────────────────────────┐\n",
       "│Was ON -style=max -trains=tree -fns=on│\n",
       "└──────────────────────────────────────┘\n",
       "</span>"
      ]
     },
     "execution_count": 38,
     "metadata": {},
     "output_type": "execute_result"
    },
    {
     "data": {
      "text/html": [
       "<span style=\"white-space:pre; font-family: monospace\">┌→──────┐\n",
       "│Was OFF│\n",
       "└───────┘\n",
       "</span>"
      ]
     },
     "execution_count": 38,
     "metadata": {},
     "output_type": "execute_result"
    }
   ],
   "source": [
    "⎕IO←1\n",
    "]box on -style=max -trains=tree -fns=on\n",
    "]rows on"
   ]
  },
  {
   "cell_type": "markdown",
   "metadata": {},
   "source": [
    "### Day 1: Inverse Captcha\n",
    "https://adventofcode.com/2017/day/1"
   ]
  },
  {
   "cell_type": "code",
   "execution_count": 5,
   "metadata": {},
   "outputs": [],
   "source": [
    "DAY1←⊃⊃⎕NGET'data/2017/01.txt'1"
   ]
  },
  {
   "cell_type": "markdown",
   "metadata": {},
   "source": [
    "Tack on the first item to the end, as per the problem statement."
   ]
  },
  {
   "cell_type": "code",
   "execution_count": 55,
   "metadata": {},
   "outputs": [],
   "source": [
    "DATA←DAY1,1⌷DAY1"
   ]
  },
  {
   "cell_type": "markdown",
   "metadata": {},
   "source": [
    "We use a length-2 windowed reduction using equality to find all location where item n is equal to item n+1 as a binary map. We convert this to position (`⍸`) and pick the corresponding items. As we're still dealing with characters, we need to convert to integers (`⍎¨`) and then just sum them up."
   ]
  },
  {
   "cell_type": "code",
   "execution_count": 56,
   "metadata": {},
   "outputs": [
    {
     "data": {
      "text/html": [
       "<span style=\"white-space:pre; font-family: monospace\">    \n",
       "1341\n",
       "    \n",
       "</span>"
      ]
     },
     "execution_count": 56,
     "metadata": {},
     "output_type": "execute_result"
    }
   ],
   "source": [
    "+/⍎¨DATA[⍸2=/DATA] ⍝ Part 1: 1341"
   ]
  },
  {
   "cell_type": "markdown",
   "metadata": {},
   "source": [
    "For part 2, we create a matrix where column 1 is the input and column 2 is the data rotated by half its length. Then compare the elements of each row to produce the binary map, and the rest is as per part 1."
   ]
  },
  {
   "cell_type": "code",
   "execution_count": 17,
   "metadata": {},
   "outputs": [
    {
     "data": {
      "text/html": [
       "<span style=\"white-space:pre; font-family: monospace\">    \n",
       "1348\n",
       "    \n",
       "</span>"
      ]
     },
     "execution_count": 17,
     "metadata": {},
     "output_type": "execute_result"
    }
   ],
   "source": [
    "+/⍎¨DAY1[⍸=/⍉↑(DAY1)(DAY1⊖⍨2÷⍨≢DAY1)] ⍝ Part 2: 1348"
   ]
  },
  {
   "cell_type": "markdown",
   "metadata": {},
   "source": [
    "### Day 2: Corruption Checksum\n",
    "https://adventofcode.com/2017/day/2"
   ]
  },
  {
   "cell_type": "code",
   "execution_count": 52,
   "metadata": {},
   "outputs": [],
   "source": [
    "DAY2←16 16⍴⍎¨'\\d+'⎕S'&'⊢⊃⎕NGET'data/2017/02.txt'1"
   ]
  },
  {
   "cell_type": "markdown",
   "metadata": {},
   "source": [
    "Part 1 -- sum max-min for every row"
   ]
  },
  {
   "cell_type": "code",
   "execution_count": 53,
   "metadata": {},
   "outputs": [
    {
     "data": {
      "text/html": [
       "<span style=\"white-space:pre; font-family: monospace\">     \n",
       "39126\n",
       "     \n",
       "</span>"
      ]
     },
     "execution_count": 53,
     "metadata": {},
     "output_type": "execute_result"
    }
   ],
   "source": [
    "+/(⌈/-⌊/)DAY2 ⍝ Part 1: 39126"
   ]
  },
  {
   "cell_type": "markdown",
   "metadata": {},
   "source": [
    "In part 2 we're looking for the single pair of items per row that divides cleanly. For each row we generate all combinations, and try both ways of modular division, looking for a zero (not two) using \n",
    "\n",
    "    {≠/0=⍺(|,|⍨)⍵}\n",
    "    \n",
    "Finally, return the larger÷smaller and sum up everything."
   ]
  },
  {
   "cell_type": "code",
   "execution_count": 79,
   "metadata": {},
   "outputs": [],
   "source": [
    "Day2←{target←1↑⍸{≠/0=⍺(|,|⍨)⍵}/¨cmb←,⍵∘.,⍵⋄÷/pair[⍒pair←target⊃cmb]}"
   ]
  },
  {
   "cell_type": "code",
   "execution_count": 80,
   "metadata": {},
   "outputs": [
    {
     "data": {
      "text/html": [
       "<span style=\"white-space:pre; font-family: monospace\">   \n",
       "258\n",
       "   \n",
       "</span>"
      ]
     },
     "execution_count": 80,
     "metadata": {},
     "output_type": "execute_result"
    }
   ],
   "source": [
    "+/Day2¨↓DAY2 ⍝ Part 2: 258"
   ]
  },
  {
   "cell_type": "markdown",
   "metadata": {},
   "source": [
    "### Day 3: Spiral Memory\n",
    "https://adventofcode.com/2017/day/3\n",
    "\n",
    "This [spiral](http://www.mathrecreation.com/2011/06/sequences-on-spiral.html) has a number of interesting properties. See http://oeis.org/A080335\n",
    "\n",
    "We can exploit that we have perfect squares on the SE diagonal, which allows us to identify the size of the square which has the target number along one of its edges. We can then identify which edge, and count backwards from the next corner of the square (anti-clockwise)."
   ]
  },
  {
   "cell_type": "code",
   "execution_count": 83,
   "metadata": {},
   "outputs": [],
   "source": [
    "⎕IO←0\n",
    "DAY3←325489"
   ]
  },
  {
   "cell_type": "code",
   "execution_count": 82,
   "metadata": {},
   "outputs": [],
   "source": [
    "Square←{r←⍵*0.5⋄⍵=2*⍨⌊r:r⋄0≠2|⌈r:⌈r⋄1+⌈r} ⍝ Smallest odd number < the square root, unless perfect square"
   ]
  },
  {
   "cell_type": "code",
   "execution_count": 110,
   "metadata": {},
   "outputs": [],
   "source": [
    "]dinput\n",
    "Day3p1←{\n",
    "    val←⍵\n",
    "    width←Square ⍵                    ⍝ The width of the square in which the value is found\n",
    "    edge←⌊((width*2)-val)÷(width-1)   ⍝ The side of the square: S E N W ← 0 1 2 3\n",
    "    pos←edge⊃,size,-size∘.,-size,size←⌊width÷2  ⍝ Grid coords of corner\n",
    "    _←(edge⊃,¯1 0∘.,0 ¯1)∘{pos+←⍺⋄⍵-1}⍣{⍺=val} (width*2)-edge×width-1  ⍝ Sequence at the nearest corner, acw\n",
    "    +/|¨pos                           ⍝ Manhattan distance to centre\n",
    "}"
   ]
  },
  {
   "cell_type": "code",
   "execution_count": 111,
   "metadata": {},
   "outputs": [
    {
     "data": {
      "text/html": [
       "<span style=\"white-space:pre; font-family: monospace\">   \n",
       "552\n",
       "   \n",
       "</span>"
      ]
     },
     "execution_count": 111,
     "metadata": {},
     "output_type": "execute_result"
    }
   ],
   "source": [
    "Day3p1 DAY3 ⍝ 552"
   ]
  },
  {
   "cell_type": "markdown",
   "metadata": {},
   "source": [
    "For part 2, we work our way outwards following the same spiral pattern, but this time the value of each point is the sum of the values of its 8-connected neighbours _at the time of visit_. The APL solution isn't pretty."
   ]
  },
  {
   "cell_type": "code",
   "execution_count": 119,
   "metadata": {},
   "outputs": [],
   "source": [
    "]dinput\n",
    "Coords←{\n",
    "    ⍝ Generate all coordinate pairs for the circumference of a square ⍵\n",
    "    pos←(⌊⍵÷2),(-⌊⍵÷2)+1\n",
    "    \n",
    "    E←(⊂pos)+0,¨⍳⍵-1\n",
    "    N←(¯1↑E)+(-⍳⍵),¨0\n",
    "    W←(¯1↑N)+0,¨-⍳⍵\n",
    "    S←(¯1↑W)+(⍳⍵),¨0\n",
    "    ∪E, N, W, S\n",
    "}"
   ]
  },
  {
   "cell_type": "code",
   "execution_count": 116,
   "metadata": {},
   "outputs": [],
   "source": [
    "Neighbours←{(⊂⍵)+(0 1)(1 1)(1 0)(1 ¯1)(0 ¯1)(¯1 ¯1)(¯1 0)(¯1 1)} ⍝ 8-neighbours"
   ]
  },
  {
   "cell_type": "code",
   "execution_count": 117,
   "metadata": {},
   "outputs": [],
   "source": [
    "]dinput\n",
    "Day3p2←{\n",
    "    target←⍵\n",
    "    seen←,⊂0 0 ⋄ vals←,1\n",
    "    { ⍝ Move outwards one square at a time (i.e. odd numbers)\n",
    "        found←{ ⍝ Walk circumference, adding up values from visible neighbours\n",
    "            0=≢⍵:0\n",
    "            pos←⊃1↑⍵\n",
    "            old←seen⍳Neighbours pos\n",
    "            newVal←+/vals[((≢seen)>old)/old]\n",
    "            newVal>target:newVal\n",
    "            vals,←newVal\n",
    "            seen,←⊂pos\n",
    "            ∇1↓⍵\n",
    "        } Coords ⍵\n",
    "        found>0:found\n",
    "        ∇⍵+2\n",
    "    } 3\n",
    "}"
   ]
  },
  {
   "cell_type": "code",
   "execution_count": 120,
   "metadata": {},
   "outputs": [
    {
     "data": {
      "text/html": [
       "<span style=\"white-space:pre; font-family: monospace\">      \n",
       "330785\n",
       "      \n",
       "</span>"
      ]
     },
     "execution_count": 120,
     "metadata": {},
     "output_type": "execute_result"
    }
   ],
   "source": [
    "Day3p2 325489 ⍝ 330785"
   ]
  },
  {
   "cell_type": "markdown",
   "metadata": {},
   "source": [
    "### Day 4: High-Entropy Passphrases\n",
    "https://adventofcode.com/2017/day/4"
   ]
  },
  {
   "cell_type": "code",
   "execution_count": 130,
   "metadata": {},
   "outputs": [],
   "source": [
    "⎕IO←1\n",
    "DAY4←' '(≠⊆⊢)¨⊃⎕NGET'data/2017/04.txt'1"
   ]
  },
  {
   "cell_type": "markdown",
   "metadata": {},
   "source": [
    "Find phrases which don't match themselves with dupes removed."
   ]
  },
  {
   "cell_type": "code",
   "execution_count": 142,
   "metadata": {},
   "outputs": [
    {
     "data": {
      "text/html": [
       "<span style=\"white-space:pre; font-family: monospace\">   \n",
       "325\n",
       "   \n",
       "</span>"
      ]
     },
     "execution_count": 142,
     "metadata": {},
     "output_type": "execute_result"
    }
   ],
   "source": [
    "+/(∪≡⊢)¨DAY4 ⍝ Part 1: 325"
   ]
  },
  {
   "cell_type": "markdown",
   "metadata": {},
   "source": [
    "Part 2: apply the same process, but sort all words first."
   ]
  },
  {
   "cell_type": "code",
   "execution_count": 151,
   "metadata": {},
   "outputs": [
    {
     "data": {
      "text/html": [
       "<span style=\"white-space:pre; font-family: monospace\">   \n",
       "119\n",
       "   \n",
       "</span>"
      ]
     },
     "execution_count": 151,
     "metadata": {},
     "output_type": "execute_result"
    }
   ],
   "source": [
    "+/(∪≡⊢)¨{⍵[⍋⍵]}¨¨DAY4 ⍝ Part 2: 119"
   ]
  },
  {
   "cell_type": "markdown",
   "metadata": {},
   "source": [
    "### Day 5: A Maze of Twisty Trampolines, All Alike\n",
    "https://adventofcode.com/2017/day/5"
   ]
  },
  {
   "cell_type": "code",
   "execution_count": 155,
   "metadata": {},
   "outputs": [],
   "source": [
    "⎕IO←1\n",
    "DAY5←⍎¨⊃⎕NGET'data/2017/05.txt'1"
   ]
  },
  {
   "cell_type": "code",
   "execution_count": 169,
   "metadata": {},
   "outputs": [],
   "source": [
    "]dinput\n",
    "Day5←{\n",
    "    instr←⍵\n",
    "    modifier←⍺⍺\n",
    "    1 {\n",
    "        ip←1↑⍵\n",
    "        jmp←ip⌷instr\n",
    "        (ip+jmp)>≢instr:⍺\n",
    "        instr[ip]+←modifier jmp\n",
    "        (⍺+1)∇ip+jmp\n",
    "    } 1\n",
    "}"
   ]
  },
  {
   "cell_type": "code",
   "execution_count": 167,
   "metadata": {},
   "outputs": [
    {
     "data": {
      "text/html": [
       "<span style=\"white-space:pre; font-family: monospace\">      \n",
       "372671\n",
       "      \n",
       "</span>"
      ]
     },
     "execution_count": 167,
     "metadata": {},
     "output_type": "execute_result"
    }
   ],
   "source": [
    "{1} Day5 DAY5 ⍝ Part 1: 372671"
   ]
  },
  {
   "cell_type": "code",
   "execution_count": 168,
   "metadata": {},
   "outputs": [
    {
     "data": {
      "text/html": [
       "<span style=\"white-space:pre; font-family: monospace\">        \n",
       "25608480\n",
       "        \n",
       "</span>"
      ]
     },
     "execution_count": 168,
     "metadata": {},
     "output_type": "execute_result"
    }
   ],
   "source": [
    "{⍵≥3:¯1⋄1} Day5 DAY5 ⍝ Part 2: 25608480 (takes a minute or so)"
   ]
  },
  {
   "cell_type": "markdown",
   "metadata": {},
   "source": [
    "### Day 6: Memory Reallocation\n",
    "https://adventofcode.com/2017/day/6\n",
    "\n",
    "Part 1 and 2 differs only in the end condition and the start value. "
   ]
  },
  {
   "cell_type": "code",
   "execution_count": 219,
   "metadata": {},
   "outputs": [],
   "source": [
    "⎕IO←0\n",
    "DAY6←2 8 8 5 4 2 3 1 5 5 1 2 15 13 5 14"
   ]
  },
  {
   "cell_type": "code",
   "execution_count": 229,
   "metadata": {},
   "outputs": [],
   "source": [
    "]dinput\n",
    "Redist←{\n",
    "    (0@m⊢⍵) {                        ⍝ Zero out the current bin\n",
    "        0=⊃⍵:⍺                       ⍝ Return end state\n",
    "        (1∘+@n⊢⍺)∇(⊃⍵-1),n←16|1+⊢/⍵  ⍝ Move one index on, mod size and add 1. Decrease value to distribute.\n",
    "    } ⍵[m],m←(⊢⍳⌈/)⍵                 ⍝ Value and index of the largest element\n",
    "}"
   ]
  },
  {
   "cell_type": "code",
   "execution_count": 230,
   "metadata": {},
   "outputs": [],
   "source": [
    "Day6p1←{seen←⊂⍵⋄e←Redist⍣{seen∊⍨⊂⍺:1⋄0⊣seen,←⊂⍺} ⍵⋄(⊂e),≢seen} ⍝ Stop if we've seen a state before."
   ]
  },
  {
   "cell_type": "code",
   "execution_count": 231,
   "metadata": {},
   "outputs": [
    {
     "data": {
      "text/html": [
       "<span style=\"white-space:pre; font-family: monospace\">    \n",
       "3156\n",
       "    \n",
       "</span>"
      ]
     },
     "execution_count": 231,
     "metadata": {},
     "output_type": "execute_result"
    }
   ],
   "source": [
    "(elem seen)←Day6p1 DAY6\n",
    "seen ⍝ 3156"
   ]
  },
  {
   "cell_type": "code",
   "execution_count": 232,
   "metadata": {},
   "outputs": [],
   "source": [
    "Day6p2←{count←0⋄target←⍵⋄_←Redist⍣{count+←1⋄⍺≡target} ⍵⋄count} ⍝ Stop when we revisit end state of part 1."
   ]
  },
  {
   "cell_type": "code",
   "execution_count": 233,
   "metadata": {},
   "outputs": [
    {
     "data": {
      "text/html": [
       "<span style=\"white-space:pre; font-family: monospace\">    \n",
       "1610\n",
       "    \n",
       "</span>"
      ]
     },
     "execution_count": 233,
     "metadata": {},
     "output_type": "execute_result"
    }
   ],
   "source": [
    "Day6p2 elem ⍝ Part 2: 1610"
   ]
  },
  {
   "cell_type": "markdown",
   "metadata": {},
   "source": [
    "### Day 7: Recursive Circus\n",
    "https://adventofcode.com/2017/day/7"
   ]
  },
  {
   "cell_type": "code",
   "execution_count": 238,
   "metadata": {},
   "outputs": [],
   "source": [
    "⎕IO←1\n",
    "'segs'⎕CY'dfns'\n",
    "DAY7←⊃⎕NGET'data/2017/07.txt'1"
   ]
  },
  {
   "cell_type": "markdown",
   "metadata": {},
   "source": [
    "We need to create a tree structure from the data. We'll create three vectors, the first being a list of the nodes themselves, the second holding their corresponding weights, and the third a nested vector containing any child-nodes. The 'dfns' workspace contains a handy function 'segs' that can slice up strings on a set of separators."
   ]
  },
  {
   "cell_type": "code",
   "execution_count": 243,
   "metadata": {},
   "outputs": [],
   "source": [
    "]dinput\n",
    "Parse←{\n",
    "    ⍺←⍬ ⍬ ⍬\n",
    "    0=≢⍵:⍺\n",
    "    items←'() ,->' segs ⊃1↑⍵\n",
    "    (⍺,¨(⊂1⊃items)(⍎2⊃items)(⊂2↓items))∇1↓⍵\n",
    "}"
   ]
  },
  {
   "cell_type": "code",
   "execution_count": 245,
   "metadata": {},
   "outputs": [
    {
     "data": {
      "text/html": [
       "<span style=\"white-space:pre; font-family: monospace\">┌→──────┐\n",
       "│xegshds│\n",
       "└───────┘\n",
       "</span>"
      ]
     },
     "execution_count": 245,
     "metadata": {},
     "output_type": "execute_result"
    }
   ],
   "source": [
    "(nodes weights children)←Parse DAY7\n",
    "⊃nodes~{⊃,/,⊆¨⍵}⍣≡children ⍝ Part 1: xegshds"
   ]
  },
  {
   "cell_type": "markdown",
   "metadata": {},
   "source": [
    "For part 2 we are to identify a single weight tweak to make the tree balanced in the sense that every child tree of any given node has equal weights. The first part of that is to be able to calculate the weight of the tree from a specific start node:"
   ]
  },
  {
   "cell_type": "code",
   "execution_count": 246,
   "metadata": {},
   "outputs": [],
   "source": [
    "]dinput\n",
    "SubTreeWeight←{              ⍝ (nodes weights children) SubTreeWeight 'node'\n",
    "    idx←(1⊃⍺)⍳⊂⍵             ⍝ Find the node's index\n",
    "    0=≢idx⊃3⊃⍺:idx⊃2⊃⍺       ⍝ If node has no children -- return the weight\n",
    "    (idx⊃2⊃⍺)++/⍺∘∇¨idx⊃3⊃⍺  ⍝ Add own weight to sum of child tree weights recursively\n",
    "}"
   ]
  },
  {
   "cell_type": "markdown",
   "metadata": {},
   "source": [
    "We can now drill down from the root, looking for the first node that is balanced. The tweak needs to happen at the parent level of this node. We descend recursively following the odd one out of the child nodes until all child nodes have the same weight."
   ]
  },
  {
   "cell_type": "code",
   "execution_count": 281,
   "metadata": {},
   "outputs": [],
   "source": [
    "]dinput\n",
    "FindAnomaly←{ ⍝ Find first key where its child trees all have the same weight\n",
    "    idx←(1⊃⍺)⍳⊂⍵\n",
    "    ch←idx⊃3⊃⍺\n",
    "    0=≢ch:⍬\n",
    "    chw←⍺∘SubTreeWeight¨ch\n",
    "    (1≥≢∘∪)chw:⍵ (idx)      ⍝ Child tree weights all equal - we're done\n",
    "    ⍺∇⊃ch[∊{∩/⍵}⌸chw]       ⍝ Intersect-reduce over unique indexes only returns non-empty for singles.\n",
    "}"
   ]
  },
  {
   "cell_type": "code",
   "execution_count": 282,
   "metadata": {},
   "outputs": [
    {
     "data": {
      "text/html": [
       "<span style=\"white-space:pre; font-family: monospace\">┌→──────────────┐\n",
       "│ ┌→──────┐     │\n",
       "│ │fabacam│ 982 │\n",
       "│ └───────┘     │\n",
       "└∊──────────────┘\n",
       "</span>"
      ]
     },
     "execution_count": 282,
     "metadata": {},
     "output_type": "execute_result"
    }
   ],
   "source": [
    "⊢ANOMALY←(nodes weights children) FindAnomaly 'xegshds'"
   ]
  },
  {
   "cell_type": "markdown",
   "metadata": {},
   "source": [
    "The size of the tweak we need to make to the anomaly is the difference of its parent's child weights."
   ]
  },
  {
   "cell_type": "code",
   "execution_count": 283,
   "metadata": {},
   "outputs": [],
   "source": [
    "PARENT←⍸{ANOMALY[1]∊⍵}¨children"
   ]
  },
  {
   "cell_type": "code",
   "execution_count": 279,
   "metadata": {},
   "outputs": [],
   "source": [
    "TWEAK←|-/∪(nodes weights children)∘SubTreeWeight¨⊃children[PARENT]"
   ]
  },
  {
   "cell_type": "code",
   "execution_count": 280,
   "metadata": {},
   "outputs": [
    {
     "data": {
      "text/html": [
       "<span style=\"white-space:pre; font-family: monospace\">   \n",
       "299\n",
       "   \n",
       "</span>"
      ]
     },
     "execution_count": 280,
     "metadata": {},
     "output_type": "execute_result"
    }
   ],
   "source": [
    "weights[2⊃ANOMALY]-TWEAK ⍝ Part 2: 299"
   ]
  },
  {
   "cell_type": "markdown",
   "metadata": {},
   "source": [
    "### Day 8: I Heard You Like Registers\n",
    "https://adventofcode.com/2017/day/8"
   ]
  },
  {
   "cell_type": "code",
   "execution_count": 340,
   "metadata": {},
   "outputs": [],
   "source": [
    "⎕IO←1\n",
    "'segs'⎕CY'dfns'\n",
    "DAY8←⊃⎕NGET'data/2017/08.txt'1"
   ]
  },
  {
   "cell_type": "code",
   "execution_count": 341,
   "metadata": {},
   "outputs": [],
   "source": [
    "DATA←' ' segs¨DAY8"
   ]
  },
  {
   "cell_type": "code",
   "execution_count": 361,
   "metadata": {},
   "outputs": [],
   "source": [
    "]dinput\n",
    "Day8←{\n",
    "    regs←∪{⊃,/,⊆¨⍵}⍣≡(↑⍵)[;1 5]\n",
    "    R←regs∘⍳                       ⍝ By binding an operator, the static 'regs' vector is hashed\n",
    "    vals←0⍴⍨≢regs\n",
    "    Reg←{vals[R ⊂,⍵]}\n",
    "    Set←{vals[R ⊂,⍺]←⍵⋄⍬}\n",
    "    inc←{⍺ Set (Reg ⍺)+⍎⍵}\n",
    "    dec←{⍺ Set (Reg ⍺)-⍎⍵}\n",
    "    0 {\n",
    "        0=≢⍵:(⌈/vals) ⍺\n",
    "        max←⌈/vals,⍺\n",
    "        instr←1⊃⍵\n",
    "        rv←Reg 5⊃instr\n",
    "        f←⍎2⊃instr\n",
    "        ((,'>')≡6⊃instr)∧rv>⍎7⊃instr:max∇1↓⍵⊣(1⊃instr) f 3⊃instr\n",
    "        ((,'<')≡6⊃instr)∧rv<⍎7⊃instr:max∇1↓⍵⊣(1⊃instr) f 3⊃instr\n",
    "        ('=='≡6⊃instr)∧rv=⍎7⊃instr:max∇1↓⍵⊣(1⊃instr) f 3⊃instr\n",
    "        ('>='≡6⊃instr)∧rv≥⍎7⊃instr:max∇1↓⍵⊣(1⊃instr) f 3⊃instr\n",
    "        ('<='≡6⊃instr)∧rv≤⍎7⊃instr:max∇1↓⍵⊣(1⊃instr) f 3⊃instr\n",
    "        ('!='≡6⊃instr)∧rv≠⍎7⊃instr:max∇1↓⍵⊣(1⊃instr) f 3⊃instr\n",
    "        max∇1↓⍵\n",
    "    } ⍵\n",
    "}"
   ]
  },
  {
   "cell_type": "code",
   "execution_count": 362,
   "metadata": {},
   "outputs": [
    {
     "data": {
      "text/html": [
       "<span style=\"white-space:pre; font-family: monospace\">┌→────────┐\n",
       "│3745 4644│\n",
       "└~────────┘\n",
       "</span>"
      ]
     },
     "execution_count": 362,
     "metadata": {},
     "output_type": "execute_result"
    }
   ],
   "source": [
    "Day8 DATA ⍝ Part 1: 3745 Part2: 4644"
   ]
  },
  {
   "cell_type": "markdown",
   "metadata": {},
   "source": [
    "### Day 9: Stream Processing\n",
    "https://adventofcode.com/2017/day/9"
   ]
  },
  {
   "cell_type": "code",
   "execution_count": 366,
   "metadata": {},
   "outputs": [],
   "source": [
    "⎕IO←1\n",
    "DAY9←⊃⊃⎕NGET'data/2017/09.txt'1"
   ]
  },
  {
   "cell_type": "code",
   "execution_count": 376,
   "metadata": {},
   "outputs": [],
   "source": [
    "]dinput\n",
    "Day9←{\n",
    "    pos←0\n",
    "    str←⍵\n",
    "    Yield←{pos+←1⋄pos⊃str}\n",
    "    Skip←{⍺←0⋄c←Yield⍬⋄c='>':⍺⋄c='!':⍺∇⍬⊣Yield⍬⋄(⍺+1)∇⍬}\n",
    "    (0 0 0) {\n",
    "        3::1↓⍺  ⍝ Catch index error at end of input\n",
    "        (depth total skipped)←⍺\n",
    "        c←Yield⍬\n",
    "        c='{':((1+depth),total,skipped)∇⍬\n",
    "        c='}':((¯1+depth),(total+depth),skipped)∇⍬\n",
    "        c='<':(depth,total,skipped+Skip⍬)∇⍬\n",
    "        c='!':⍺∇⍬⊣Yield⍬\n",
    "        ⍺∇⍬\n",
    "    }⍬\n",
    "}"
   ]
  },
  {
   "cell_type": "code",
   "execution_count": 377,
   "metadata": {},
   "outputs": [
    {
     "data": {
      "text/html": [
       "<span style=\"white-space:pre; font-family: monospace\">┌→─────────┐\n",
       "│10050 4482│\n",
       "└~─────────┘\n",
       "</span>"
      ]
     },
     "execution_count": 377,
     "metadata": {},
     "output_type": "execute_result"
    }
   ],
   "source": [
    "Day9 DAY9 ⍝ Part 1: 10050 Part 2: 4482"
   ]
  },
  {
   "cell_type": "markdown",
   "metadata": {},
   "source": [
    "### Day 10: Knot Hash\n",
    "https://adventofcode.com/2017/day/10"
   ]
  },
  {
   "cell_type": "code",
   "execution_count": 23,
   "metadata": {},
   "outputs": [],
   "source": [
    "⎕IO←0\n",
    "'iotag'⎕CY'dfns'\n",
    "DAY10←147 37 249 1 31 2 226 0 161 71 254 243 183 255 30 70"
   ]
  },
  {
   "cell_type": "code",
   "execution_count": 24,
   "metadata": {},
   "outputs": [],
   "source": [
    "]dinput\n",
    "Rot←{\n",
    "    (skip pos len)←⍵\n",
    "    0=len:(skip+1) (256|pos+len+skip) ⍺\n",
    "    (skip+1) (256|pos+len+skip) (⊖@(256|pos iotag pos+len-1)⊢⍺)\n",
    "}"
   ]
  },
  {
   "cell_type": "code",
   "execution_count": 25,
   "metadata": {},
   "outputs": [],
   "source": [
    "Round←{0=≢⍵:⍺⋄((2⊃⍺) Rot (0⊃⍺) (1⊃⍺) (0⊃⍵))∇1↓⍵}"
   ]
  },
  {
   "cell_type": "markdown",
   "metadata": {},
   "source": [
    "Part 1 is a single round of the knot hash algorithm, with the answer sought is the product of the two first numbers."
   ]
  },
  {
   "cell_type": "code",
   "execution_count": 436,
   "metadata": {},
   "outputs": [
    {
     "data": {
      "text/html": [
       "<span style=\"white-space:pre; font-family: monospace\">     \n",
       "37230\n",
       "     \n",
       "</span>"
      ]
     },
     "execution_count": 436,
     "metadata": {},
     "output_type": "execute_result"
    }
   ],
   "source": [
    "×/2↑2⊃(0 0,⊂⍳256)Round DAY10 ⍝ Part 1: 37230"
   ]
  },
  {
   "cell_type": "markdown",
   "metadata": {},
   "source": [
    "For part 2, we apply the knot hash round 64 times. The lengths are now a byte array derived from a string representation of the data (including commas!) and 5 additional bytes added at the end.\n",
    "\n",
    "After the 64 rounds, we partition the result into blocks of 16:\n",
    "\n",
    "    ↓16 16 ⍴ sparse\n",
    "    \n",
    "and XOR-reduce each block:\n",
    "\n",
    "    {2⊥⊃≠/(8⍴2)∘⊤¨⍵}¨\n",
    "    \n",
    "and finally convert to hexadecimal:\n",
    "\n",
    "    ↓⍉{(⎕D,⎕A)[16⊥⍣¯1⊢⍵]}\n"
   ]
  },
  {
   "cell_type": "code",
   "execution_count": 26,
   "metadata": {},
   "outputs": [],
   "source": [
    "]dinput\n",
    "Knot←{\n",
    "    lengths←(⎕UCS¨' '⎕R','⍕⍵),17 31 73 47 23\n",
    "    sparse←(0 0,⊂⍳256) {\n",
    "        0=⍵:2⊃⍺\n",
    "        (⍺ Round lengths)∇⍵-1\n",
    "    } 64\n",
    "    ↓⍉{(⎕D,⎕A)[16⊥⍣¯1⊢⍵]} {2⊥⊃≠/(8⍴2)∘⊤¨⍵}¨↓16 16 ⍴ sparse\n",
    "}"
   ]
  },
  {
   "cell_type": "code",
   "execution_count": 27,
   "metadata": {},
   "outputs": [
    {
     "data": {
      "text/html": [
       "<span style=\"white-space:pre; font-family: monospace\">┌──┬──┬──┬──┬──┬──┬──┬──┬──┬──┬──┬──┬──┬──┬──┬──┐\n",
       "│70│B8│56│A2│4D│58│61│94│33│13│98│C7│FC│FA│0A│AF│\n",
       "└──┴──┴──┴──┴──┴──┴──┴──┴──┴──┴──┴──┴──┴──┴──┴──┘\n",
       "</span>"
      ]
     },
     "execution_count": 27,
     "metadata": {},
     "output_type": "execute_result"
    }
   ],
   "source": [
    "Knot DAY10 ⍝ 70b856a24d586194331398c7fcfa0aaf"
   ]
  },
  {
   "cell_type": "markdown",
   "metadata": {},
   "source": [
    "### Day 11: Hex Ed\n",
    "https://adventofcode.com/2017/day/11\n",
    "\n",
    "Cube coordinates for hex grids; see https://www.redblobgames.com/grids/hexagons/#coordinates\n",
    "\n",
    "Map N-S axis to y, NE-SW to z and NW-SE to x\n",
    "\n",
    "Manhattan distance on the hex grid is half that on the cube grid.\n",
    "\n",
    "We start with splitting the input on comma, and then converting strings to the index of their first occurrance. Note that this ordering needs to be mirrored in the DELTA variable of offsets -- it's not general for all inputs."
   ]
  },
  {
   "cell_type": "code",
   "execution_count": 474,
   "metadata": {},
   "outputs": [],
   "source": [
    "⎕IO←1\n",
    "DAY11←(∪⍳⊢)','(≠⊆⊢)⊃⊃⎕NGET'data/2017/11.txt'1 "
   ]
  },
  {
   "cell_type": "code",
   "execution_count": 478,
   "metadata": {},
   "outputs": [],
   "source": [
    "HexMHD←{⌊2÷⍨+/|⍵} ⍝ Manhattan distance on a hex grid"
   ]
  },
  {
   "cell_type": "code",
   "execution_count": 476,
   "metadata": {},
   "outputs": [],
   "source": [
    "DELTA←(¯1 0 1)(0 ¯1 1)(1 ¯1 0)(¯1 1 0)(1 0 ¯1)(0 1 ¯1) ⍝ SW S SE NW NE N -- order of index of first occurrance"
   ]
  },
  {
   "cell_type": "markdown",
   "metadata": {},
   "source": [
    "All we need to do is sum it up - but as Dyalog's reduce goes R-L we need to reverse."
   ]
  },
  {
   "cell_type": "code",
   "execution_count": 479,
   "metadata": {},
   "outputs": [
    {
     "data": {
      "text/html": [
       "<span style=\"white-space:pre; font-family: monospace\">   \n",
       "643\n",
       "   \n",
       "</span>"
      ]
     },
     "execution_count": 479,
     "metadata": {},
     "output_type": "execute_result"
    }
   ],
   "source": [
    "HexMHD ⊃+/⊖DELTA[DAY11] ⍝ Part 1: 643"
   ]
  },
  {
   "cell_type": "markdown",
   "metadata": {},
   "source": [
    "For part 2, find the max MHD attained whilst walking the path. Dyalog's scan reduction operator goes left to right and maintains the running total."
   ]
  },
  {
   "cell_type": "code",
   "execution_count": 491,
   "metadata": {},
   "outputs": [
    {
     "data": {
      "text/html": [
       "<span style=\"white-space:pre; font-family: monospace\">    \n",
       "1471\n",
       "    \n",
       "</span>"
      ]
     },
     "execution_count": 491,
     "metadata": {},
     "output_type": "execute_result"
    }
   ],
   "source": [
    "⌈/HexMHD¨+\\DELTA[DAY11] ⍝ Part 2: 1471"
   ]
  },
  {
   "cell_type": "markdown",
   "metadata": {},
   "source": [
    "### Day 12: Digital Plumber\n",
    "https://adventofcode.com/2017/day/12"
   ]
  },
  {
   "cell_type": "code",
   "execution_count": 503,
   "metadata": {},
   "outputs": [],
   "source": [
    "⎕IO←0\n",
    "'segs'⎕CY'dfns'\n",
    "DAY12←1↓¨⍎¨¨' <->,'∘segs¨⊃⎕NGET'data/2017/12.txt'1 "
   ]
  },
  {
   "cell_type": "markdown",
   "metadata": {},
   "source": [
    "Discover all nodes reachable from the root by means of a classic breadth-first search."
   ]
  },
  {
   "cell_type": "code",
   "execution_count": 515,
   "metadata": {},
   "outputs": [],
   "source": [
    "]dinput\n",
    "BFS←{              ⍝ nodes BFS node\n",
    "    graph←⍺\n",
    "    ⍬{\n",
    "        0=≢⍵:⍺\n",
    "        node←1↑⍵ ⋄ queue←1↓⍵\n",
    "        ch←node⊃graph\n",
    "        (⍺,node)∇(queue∪ch)~⍺\n",
    "    }⍵\n",
    "}"
   ]
  },
  {
   "cell_type": "code",
   "execution_count": 516,
   "metadata": {},
   "outputs": [
    {
     "data": {
      "text/html": [
       "<span style=\"white-space:pre; font-family: monospace\">   \n",
       "175\n",
       "   \n",
       "</span>"
      ]
     },
     "execution_count": 516,
     "metadata": {},
     "output_type": "execute_result"
    }
   ],
   "source": [
    "≢DAY12 BFS 0 ⍝ Part 1: 175"
   ]
  },
  {
   "cell_type": "markdown",
   "metadata": {},
   "source": [
    "Part 2: find the number of connected components. We repeatedly apply the BFS routine above and mark visited nodes."
   ]
  },
  {
   "cell_type": "code",
   "execution_count": 518,
   "metadata": {},
   "outputs": [],
   "source": [
    "]dinput\n",
    "ConnectedComponents←{\n",
    "    graph←⍵\n",
    "    seen←⍬\n",
    "    0 {\n",
    "        root←⍵\n",
    "        root≥≢graph:⍺\n",
    "        root∊seen:⍺∇⍵+1\n",
    "        seen,←graph BFS root\n",
    "        (⍺+1)∇⍵+1\n",
    "    } 0\n",
    "}"
   ]
  },
  {
   "cell_type": "code",
   "execution_count": 520,
   "metadata": {},
   "outputs": [
    {
     "data": {
      "text/html": [
       "<span style=\"white-space:pre; font-family: monospace\">   \n",
       "213\n",
       "   \n",
       "</span>"
      ]
     },
     "execution_count": 520,
     "metadata": {},
     "output_type": "execute_result"
    }
   ],
   "source": [
    "ConnectedComponents DAY12 ⍝ 213"
   ]
  },
  {
   "cell_type": "markdown",
   "metadata": {},
   "source": [
    "### Day 13: Packet Scanners\n",
    "https://adventofcode.com/2017/day/13"
   ]
  },
  {
   "cell_type": "code",
   "execution_count": 10,
   "metadata": {},
   "outputs": [],
   "source": [
    "⎕IO←0\n",
    "'segs'⎕CY'dfns'\n",
    "DAY13←⍎¨¨' :'∘segs¨⊃⎕NGET'data/2017/13.txt'1 "
   ]
  },
  {
   "cell_type": "code",
   "execution_count": 11,
   "metadata": {},
   "outputs": [],
   "source": [
    "MAX←⊃⊃1↑¯1↑DAY13\n",
    "IDX←⊣/↑DAY13\n",
    "LEN←⊢/↑DAY13"
   ]
  },
  {
   "cell_type": "markdown",
   "metadata": {},
   "source": [
    "The `Pos` function returns the location of the scanner for a given picosecond and layer depth."
   ]
  },
  {
   "cell_type": "code",
   "execution_count": 12,
   "metadata": {},
   "outputs": [],
   "source": [
    "Pos←{cycle←⍺-1⋄1=2|⌊⍵÷cycle:cycle-cycle|⍵⋄cycle|⍵} ⍝ depth Pos pico - the index at pico, for given depth"
   ]
  },
  {
   "cell_type": "markdown",
   "metadata": {},
   "source": [
    "For part 1 we traverse through once, keeping track of each layer where we got caught. The cost of getting caugfht is the layer index times its depth."
   ]
  },
  {
   "cell_type": "code",
   "execution_count": 13,
   "metadata": {},
   "outputs": [],
   "source": [
    "Day13p1←{fw←⍵⋄0{⍵≥≢fw:⍺⋄0=fw[⍵] Pos ⍵:(⍺+fw[⍵]×⍵)∇⍵+1⋄⍺∇⍵+1}0}"
   ]
  },
  {
   "cell_type": "code",
   "execution_count": 14,
   "metadata": {},
   "outputs": [
    {
     "data": {
      "text/html": [
       "<span style=\"white-space:pre; font-family: monospace\">2384\n",
       "</span>"
      ]
     },
     "execution_count": 14,
     "metadata": {},
     "output_type": "execute_result"
    }
   ],
   "source": [
    "+/Day13p1 LEN@IDX⊢(1+MAX)⍴0 ⍝ Part 1: 2384"
   ]
  },
  {
   "cell_type": "markdown",
   "metadata": {},
   "source": [
    "In part 2, we need to find a delay that would enable us to traverse through all the layers without getting caught at all."
   ]
  },
  {
   "cell_type": "code",
   "execution_count": 15,
   "metadata": {},
   "outputs": [],
   "source": [
    "]dinput\n",
    "Day13p2←{\n",
    "    fw←⍵\n",
    "    0 {                         ⍝ Current delay is ⍺\n",
    "        ⍵≥≢fw:⍺\n",
    "        0=fw[⍵]:⍺∇⍵+1           ⍝ Skip gaps\n",
    "        0=fw[⍵] Pos ⍵+⍺:(⍺+1)∇0 ⍝ Caught! Increase delay and re-start from layer 0\n",
    "        ⍺∇⍵+1                   ⍝ Still going: try the next layer\n",
    "    } 0                         ⍝ Current layer\n",
    "}"
   ]
  },
  {
   "cell_type": "code",
   "execution_count": 16,
   "metadata": {},
   "outputs": [
    {
     "data": {
      "text/html": [
       "<span style=\"white-space:pre; font-family: monospace\">3921270\n",
       "</span>"
      ]
     },
     "execution_count": 16,
     "metadata": {},
     "output_type": "execute_result"
    }
   ],
   "source": [
    "Day13p2 LEN@IDX⊢(1+MAX)⍴0  ⍝ Part 2: 3921270"
   ]
  },
  {
   "cell_type": "markdown",
   "metadata": {},
   "source": [
    "### Day 14: Disk Defragmentation\n",
    "https://adventofcode.com/2017/day/14\n",
    "\n",
    "This makes use of the 'Knot' function, defined in Day 10."
   ]
  },
  {
   "cell_type": "code",
   "execution_count": 39,
   "metadata": {},
   "outputs": [],
   "source": [
    "⎕IO←0\n",
    "'dec'⎕CY'dfns'   ⍝ Hex to dec helper function\n",
    "DAY14←'jzgqcdpd'"
   ]
  },
  {
   "cell_type": "code",
   "execution_count": 41,
   "metadata": {},
   "outputs": [
    {
     "data": {
      "text/html": [
       "<span style=\"white-space:pre; font-family: monospace\">8074\n",
       "</span>"
      ]
     },
     "execution_count": 41,
     "metadata": {},
     "output_type": "execute_result"
    }
   ],
   "source": [
    "+/∊{(8⍴2)⊤ dec Knot DAY14,'-',⍕⍵}¨⍳128  ⍝ Part 1: 8074"
   ]
  },
  {
   "cell_type": "code",
   "execution_count": null,
   "metadata": {},
   "outputs": [],
   "source": []
  }
 ],
 "metadata": {
  "kernelspec": {
   "display_name": "Dyalog APL",
   "language": "apl",
   "name": "dyalog-kernel"
  },
  "language_info": {
   "file_extension": ".apl",
   "mimetype": "text/apl",
   "name": "APL"
  }
 },
 "nbformat": 4,
 "nbformat_minor": 2
}
