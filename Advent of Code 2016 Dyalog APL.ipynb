{
 "cells": [
  {
   "cell_type": "markdown",
   "metadata": {},
   "source": [
    "# Advent of Code 2016, Dyalog APL edition\n",
    "\n",
    "To see a correct render of this notebook, check it out on [nbviewer](https://nbviewer.jupyter.org/github/xpqz/AoCDyalog/blob/master/Advent%20of%20Code%202016%20Dyalog%20APL.ipynb).\n",
    "\n",
    "Annotated solutions in Dyalog APL.\n",
    "\n",
    "Note that part of the charm of AoC is that every user (or at least groups of users) gets their own unique data set. Some of the solutions below exploit quirks in my particular data set, and so may conceivably not work for the general case."
   ]
  },
  {
   "cell_type": "code",
   "execution_count": 324,
   "metadata": {},
   "outputs": [
    {
     "data": {
      "text/html": [
       "<span style=\"white-space:pre; font-family: monospace\">┌→─────────────────────────────────────┐\n",
       "│Was ON -style=max -trains=tree -fns=on│\n",
       "└──────────────────────────────────────┘\n",
       "</span>"
      ]
     },
     "execution_count": 324,
     "metadata": {},
     "output_type": "execute_result"
    },
    {
     "data": {
      "text/html": [
       "<span style=\"white-space:pre; font-family: monospace\">┌→────────────────┐\n",
       "│Was OFF -fold=off│\n",
       "└─────────────────┘\n",
       "</span>"
      ]
     },
     "execution_count": 324,
     "metadata": {},
     "output_type": "execute_result"
    }
   ],
   "source": [
    "⎕IO←1\n",
    "]box on -style=max -trains=tree -fns=on\n",
    "]rows on -fold=3"
   ]
  },
  {
   "cell_type": "markdown",
   "metadata": {},
   "source": [
    "### Day 1: No Time for a Taxicab\n",
    "https://adventofcode.com/2016/day/1\n",
    "\n",
    "Given a set of relative directions (\"turn right, travel 45 units\"), what is the final [Manhattan](https://en.wikipedia.org/wiki/Taxicab_geometry) distance from origin?\n",
    "\n",
    "There are many different ways to solve this. Here we simply trace out the full path, converting relative directions to absolute positions, and check the last point for the answer.\n",
    "\n",
    "We can convert from relative to absolute direction using a simple vector `1 2 3 4` for north, east, south, west respectively. Turning right corresponds to a vector rotation of 1, and turning left a rotation of ¯1.\n",
    "\n",
    "Key insight is that we need to \"connect the dots\" between the points referred to in the input data, which only contains the turning points."
   ]
  },
  {
   "cell_type": "code",
   "execution_count": 91,
   "metadata": {},
   "outputs": [],
   "source": [
    "DAY1←,{(1↑⍵),⍎1↓⍵}¨⎕CSV'data/2016/01.txt'     ⍝ Convert strings to numbers"
   ]
  },
  {
   "cell_type": "code",
   "execution_count": 109,
   "metadata": {},
   "outputs": [],
   "source": [
    "]dinput\n",
    "ExpandPath←{\n",
    "    pos←0 0 ⋄ dir←1 2 3 4\n",
    "    {⊃,/,⊆¨⍵}⍣≡{                              ⍝ Flatten returned list\n",
    "        (rl mag)←⍵\n",
    "        dir {⍵='R':(1⊖dir)⋄¯1⊖dir}←rl         ⍝ Rotate direction vector \n",
    "        unitv←dir[1]⊃(0 ¯1)(1 0)(0 1)(¯1 0)   ⍝ Find corresponding unit vector in new direction\n",
    "        points←pos∘+¨↓(⍳mag)∘.×unitv          ⍝ Expand the \"gaps\"\n",
    "        pos+←mag×unitv                        ⍝ Update the turning point\n",
    "        points\n",
    "    }¨⍵\n",
    "}"
   ]
  },
  {
   "cell_type": "markdown",
   "metadata": {},
   "source": [
    "Our start state is `dir←1 2 3 4 ⋄ pos←0 0`, which is \"north-facing\" and our origin. For the answer we're only interested in the final position, and the Manhattan distance is simply the sum of the absolute values of x and y of the final position."
   ]
  },
  {
   "cell_type": "code",
   "execution_count": 111,
   "metadata": {},
   "outputs": [
    {
     "data": {
      "text/html": [
       "<span style=\"white-space:pre; font-family: monospace\">   \n",
       "239\n",
       "   \n",
       "</span>"
      ]
     },
     "execution_count": 111,
     "metadata": {},
     "output_type": "execute_result"
    }
   ],
   "source": [
    "Day1p1←{+/|⊃¯1↑ExpandPath ⍵}     ⍝ Sum absolute values of x and y for last position\n",
    "Day1p1 DAY1 ⍝ 239        "
   ]
  },
  {
   "cell_type": "markdown",
   "metadata": {},
   "source": [
    "For part 2 we need to find the first position visited twice. We can use the built-in [key](http://help.dyalog.com/17.1/index.htm#Language/Primitive%20Operators/Key.htm?Highlight=%E2%8C%B8) function (`⌸`) to build a frequency table, which will be ordered in the same way as the data."
   ]
  },
  {
   "cell_type": "code",
   "execution_count": 121,
   "metadata": {},
   "outputs": [],
   "source": [
    "Day1p2←{firstRepeat←1⌷⍸{⍵[2]=2}¨↓{⍺,≢⍵}⌸path←ExpandPath ⍵⋄+/⊃|path[firstRepeat]}"
   ]
  },
  {
   "cell_type": "code",
   "execution_count": 122,
   "metadata": {},
   "outputs": [
    {
     "data": {
      "text/html": [
       "<span style=\"white-space:pre; font-family: monospace\">   \n",
       "141\n",
       "   \n",
       "</span>"
      ]
     },
     "execution_count": 122,
     "metadata": {},
     "output_type": "execute_result"
    }
   ],
   "source": [
    "Day1p2 DAY1 ⍝ 141"
   ]
  },
  {
   "cell_type": "markdown",
   "metadata": {},
   "source": [
    "### Day 2: Bathroom Security\n",
    "https://adventofcode.com/2016/day/2\n",
    "\n",
    "Create a matrix where the row number is the starting digit, and cols 1-4 corresponding to the values for a move URDL respectively. We can then map the letters URDL to numbers 1 2 3 and 4 respectively.\n",
    "\n",
    "Parts 1 and 2 are basically identical, bar the initial setup of this matrix."
   ]
  },
  {
   "cell_type": "code",
   "execution_count": 376,
   "metadata": {},
   "outputs": [],
   "source": [
    "DAY2←⊃⎕NGET'data/2016/02.txt'1\n",
    "KEYMAP←9 4 ⍴ 1 2 4 1 2 3 5 1 3 3 6 2 1 5 7 4 2 6 8 4 3 6 9 5 4 8 7 7 5 9 8 7 6 9 9 8"
   ]
  },
  {
   "cell_type": "code",
   "execution_count": 377,
   "metadata": {},
   "outputs": [],
   "source": [
    "Day2←{⍺←5⋄0=≢⍵:1↓⍺⋄(⍺,((⊃¯1↑⍺) {⍵≡⍬:⍺⋄KEYMAP[⍺;1⊃⍵]∇1↓⍵} 'URDL'⍳1⊃⍵))∇1↓⍵}"
   ]
  },
  {
   "cell_type": "code",
   "execution_count": 383,
   "metadata": {},
   "outputs": [
    {
     "data": {
      "text/html": [
       "<span style=\"white-space:pre; font-family: monospace\">┌→────────┐\n",
       "│3 5 7 4 9│\n",
       "└~────────┘\n",
       "</span>"
      ]
     },
     "execution_count": 383,
     "metadata": {},
     "output_type": "execute_result"
    }
   ],
   "source": [
    "Day2 DAY2 ⍝ 35749"
   ]
  },
  {
   "cell_type": "code",
   "execution_count": 186,
   "metadata": {},
   "outputs": [],
   "source": [
    "KEYMAP←13 4 ⍴ 1 1 3 1 2 3 6 2 1 4 7 2 4 4 8 3 5 6 5 5 2 7 10 5 3 8 11 6 4 9 12 7 9 9 9 8 6 11 10 10 7 12 13 10 8 12 12 11 11 13 13 13"
   ]
  },
  {
   "cell_type": "code",
   "execution_count": 187,
   "metadata": {},
   "outputs": [
    {
     "data": {
      "text/html": [
       "<span style=\"white-space:pre; font-family: monospace\">┌→────────┐\n",
       "│9 3 6 5 C│\n",
       "└+────────┘\n",
       "</span>"
      ]
     },
     "execution_count": 187,
     "metadata": {},
     "output_type": "execute_result"
    }
   ],
   "source": [
    "('ABCD',⍨⍳9)[Day2 DAY2] ⍝ 9365C"
   ]
  },
  {
   "cell_type": "markdown",
   "metadata": {},
   "source": [
    "### Day 3: Squares With Three Sides\n",
    "https://adventofcode.com/2016/day/3\n",
    "\n",
    "Not much to do here apart from massaging the input array into the right shape."
   ]
  },
  {
   "cell_type": "code",
   "execution_count": 199,
   "metadata": {},
   "outputs": [],
   "source": [
    "DAY3←⍎¨⊃⎕NGET'data/2016/03.txt'1"
   ]
  },
  {
   "cell_type": "code",
   "execution_count": 202,
   "metadata": {},
   "outputs": [
    {
     "data": {
      "text/html": [
       "<span style=\"white-space:pre; font-family: monospace\">    \n",
       "1050\n",
       "    \n",
       "</span>"
      ]
     },
     "execution_count": 202,
     "metadata": {},
     "output_type": "execute_result"
    }
   ],
   "source": [
    "Valid←{(a b c)←⍵⋄((a+b)>c)∧((a+c)>b)∧((c+b)>a)}\n",
    "+/Valid¨DAY3 ⍝ 1050"
   ]
  },
  {
   "cell_type": "code",
   "execution_count": 207,
   "metadata": {},
   "outputs": [
    {
     "data": {
      "text/html": [
       "<span style=\"white-space:pre; font-family: monospace\">    \n",
       "1921\n",
       "    \n",
       "</span>"
      ]
     },
     "execution_count": 207,
     "metadata": {},
     "output_type": "execute_result"
    }
   ],
   "source": [
    "PART2←⍉↑DAY3\n",
    "+/Valid¨↓(3÷⍨≢∊PART2) 3 ⍴ ∊PART2 ⍝ 1921"
   ]
  },
  {
   "cell_type": "markdown",
   "metadata": {},
   "source": [
    "### Day 4: Security Through Obscurity\n",
    "https://adventofcode.com/2016/day/4\n",
    "\n",
    "A set of strings, consisting of letters and hyphens (the \"encrypted name\"), followed by digits (the \"sector id\"), followed by more letters enclosed in square brackets (the \"checksum\").\n",
    "\n",
    "A string is valid iff the checksum is the five most common letters in the encrypted name, in order, with ties broken by alphabetization."
   ]
  },
  {
   "cell_type": "code",
   "execution_count": 213,
   "metadata": {},
   "outputs": [],
   "source": [
    "RegexGroups←{⍺⎕S{⍵.(1↓Lengths↑¨Offsets↓¨⊂Block)} ⊢ ⍵}\n",
    "DAY4←'^([^\\d]+)(\\d+)\\[([^\\]]+)\\]$' RegexGroups ⊃⎕NGET'data/2016/04.txt'1"
   ]
  },
  {
   "cell_type": "markdown",
   "metadata": {},
   "source": [
    "To validate a given string, we do the following:\n",
    "\n",
    "1. Remove all hyphens\n",
    "2. Create a letter histogram mapping each letter to its frequency\n",
    "3. Sort the histogram in descending order on frequency and separate keys and values into vectors\n",
    "4. Partition the keys vector based on neighbouring letters with the same frequencies\n",
    "5. Sort each partition alphabetically, and flatten to single character vector\n",
    "6. If the first 5 letters match the checksum, return the sector id (converted to number).\n",
    "7. Else return 0."
   ]
  },
  {
   "cell_type": "code",
   "execution_count": 240,
   "metadata": {},
   "outputs": [],
   "source": [
    "]dinput\n",
    "Day4p1←{\n",
    "    (keys vals)←↓⍉{⍵[⍒⍵[;2];]}{⍺,≢⍵}⌸(~∘'-')1⊃⍵  ⍝ Remove hyphens, make frq table ordered by descending frq\n",
    "    p←5↑∊{(⊂⍋⍵)⌷⍵}¨keys⊂⍨1,2≠/vals               ⍝ Partition, sort, merge, pick first 5\n",
    "    p≡3⊃⍵:⍎2⊃⍵⋄0\n",
    "}"
   ]
  },
  {
   "cell_type": "code",
   "execution_count": 241,
   "metadata": {},
   "outputs": [
    {
     "data": {
      "text/html": [
       "<span style=\"white-space:pre; font-family: monospace\">      \n",
       "245102\n",
       "      \n",
       "</span>"
      ]
     },
     "execution_count": 241,
     "metadata": {},
     "output_type": "execute_result"
    }
   ],
   "source": [
    "+/Day4p1¨DAY4 ⍝ 245102"
   ]
  },
  {
   "cell_type": "markdown",
   "metadata": {},
   "source": [
    "For part 2 we are asked to 'decrypt' the string, meaning a circular shift of each letter by the sector id. We can achieve this easily using the dyadic form of [⊖](http://help.dyalog.com/17.1/index.htm#Language/Symbols/Circle%20Bar.htm?Highlight=%E2%8A%96) and the system function [⎕A](http://help.dyalog.com/17.1/index.htm#Language/System%20Functions/a.htm) which holds the upper case letters. \n",
    "\n",
    "1. Convert string to upper-case\n",
    "2. For each letter, rotate ⎕A until the letter is first\n",
    "3. Rotate by the sector id\n",
    "\n",
    "For the answer, we're searching for 'NORTHPOLE' amongst the decrypted strings. We can achieve this succinctly using a sequence of maps. However, would be more efficient by stopping after the target string was found.\n",
    "\n",
    "The odd-looking [819⌶](http://help.dyalog.com/17.1/index.htm#Language/Primitive%20Operators/Case%20Convert.htm?Highlight=819%E2%8C%B6) is a system function to convert a string to uppercase."
   ]
  },
  {
   "cell_type": "code",
   "execution_count": 242,
   "metadata": {},
   "outputs": [],
   "source": [
    "Day4p2←{R←⍎2⊃⍵⋄∊{⍵='-':' '⋄1↑(R+¯1+⎕A⍳⍵)⊖⎕A}¨1(819⌶)1⊃⍵}"
   ]
  },
  {
   "cell_type": "code",
   "execution_count": 243,
   "metadata": {},
   "outputs": [
    {
     "data": {
      "text/html": [
       "<span style=\"white-space:pre; font-family: monospace\">   \n",
       "324\n",
       "   \n",
       "</span>"
      ]
     },
     "execution_count": 243,
     "metadata": {},
     "output_type": "execute_result"
    }
   ],
   "source": [
    "⍎2⊃DAY4⊃⍨⊃⍸0≠⊃¨'NORTHPOLE'∘(⍸⍷)¨Day4p2¨DAY4 ⍝ 324"
   ]
  },
  {
   "cell_type": "markdown",
   "metadata": {},
   "source": [
    "### Day 5: How About a Nice Game of Chess?\n",
    "https://adventofcode.com/2016/day/5\n",
    "\n",
    "Skipping this, as needs MD5 which isn't available for Dyalog on a Mac :("
   ]
  },
  {
   "cell_type": "markdown",
   "metadata": {},
   "source": [
    "### Day 6: Signals and Noise\n",
    "https://adventofcode.com/2016/day/6\n",
    "\n",
    "Transpose input array. For each row, create a letter histogram, sort based on descending (part 1) and ascending (part 2) frequency, and pick the first letter."
   ]
  },
  {
   "cell_type": "code",
   "execution_count": 266,
   "metadata": {},
   "outputs": [
    {
     "data": {
      "text/html": [
       "<span style=\"white-space:pre; font-family: monospace\">┌→───────┐\n",
       "│qrqlznrl│\n",
       "└────────┘\n",
       "</span>"
      ]
     },
     "execution_count": 266,
     "metadata": {},
     "output_type": "execute_result"
    },
    {
     "data": {
      "text/html": [
       "<span style=\"white-space:pre; font-family: monospace\">┌→───────┐\n",
       "│kgzdfaon│\n",
       "└────────┘\n",
       "</span>"
      ]
     },
     "execution_count": 266,
     "metadata": {},
     "output_type": "execute_result"
    }
   ],
   "source": [
    "DAY6←↓⍉↑⊃⎕NGET'data/2016/06.txt'1\n",
    "∊{1 1⌷⍵[⍒⍵[;2];]}¨{⍺,≢⍵}⌸¨DAY6 ⍝ Part 1: qrqlznrl\n",
    "∊{1 1⌷⍵[⍋⍵[;2];]}¨{⍺,≢⍵}⌸¨DAY6 ⍝ Part 2: kgzdfaon"
   ]
  },
  {
   "cell_type": "markdown",
   "metadata": {},
   "source": [
    "### Day 7: Internet Protocol Version 7\n",
    "https://adventofcode.com/2016/day/7\n",
    "\n",
    "Some medium-level regexing required. "
   ]
  },
  {
   "cell_type": "code",
   "execution_count": 272,
   "metadata": {},
   "outputs": [],
   "source": [
    "DAY7←⊃⎕NGET'data/2016/07.txt'1\n",
    "RegexGroups←{⍺⎕S{⍵.(1↓Lengths↑¨Offsets↓¨⊂Block)} ⊢ ⍵}"
   ]
  },
  {
   "cell_type": "code",
   "execution_count": 273,
   "metadata": {},
   "outputs": [],
   "source": [
    "]dinput\n",
    "Abba←{\n",
    "    matches←'(.)(.)\\2\\1'⎕S'&'⊢⍵\n",
    "    0=≢matches:0\n",
    "    invalid←≢'(.)\\1\\1\\1'⎕S'&'⊢matches\n",
    "    0≠invalid-⍨≢matches\n",
    "}"
   ]
  },
  {
   "cell_type": "code",
   "execution_count": 274,
   "metadata": {},
   "outputs": [],
   "source": [
    "Day7p1←{(Abba ⍵)∧~Abba '\\[.+?\\]'⎕S'&'⊢⍵}  ⍝ ABBAs in body, and no ABBAs in hypernet sections"
   ]
  },
  {
   "cell_type": "code",
   "execution_count": 275,
   "metadata": {},
   "outputs": [
    {
     "data": {
      "text/html": [
       "<span style=\"white-space:pre; font-family: monospace\">   \n",
       "115\n",
       "   \n",
       "</span>"
      ]
     },
     "execution_count": 275,
     "metadata": {},
     "output_type": "execute_result"
    }
   ],
   "source": [
    "+/Day7p1¨DAY7 ⍝ 115"
   ]
  },
  {
   "cell_type": "markdown",
   "metadata": {},
   "source": [
    "For part 2, in the aba captures, we place the capture groups in an unanchored positive lookahead in order to see any overlapping matches, like in the example given: `zazbz[bzb]cdb`."
   ]
  },
  {
   "cell_type": "code",
   "execution_count": 276,
   "metadata": {},
   "outputs": [],
   "source": [
    "]dinput\n",
    "Day7p2←{\n",
    "    hypernets←∊'\\[.+?\\]'⎕S'&'⊢⍵\n",
    "    rest←'\\[.+?\\]'⎕R''⊢⍵\n",
    "    aba←'(?=(.)(.)\\1)' RegexGroups rest    \n",
    "    0=≢aba:0\n",
    "    bab←∊{(∊⍵)[2 1 2]⎕S'&'⊢hypernets}¨aba\n",
    "    (≢bab)>0\n",
    "}"
   ]
  },
  {
   "cell_type": "code",
   "execution_count": 277,
   "metadata": {},
   "outputs": [
    {
     "data": {
      "text/html": [
       "<span style=\"white-space:pre; font-family: monospace\">   \n",
       "231\n",
       "   \n",
       "</span>"
      ]
     },
     "execution_count": 277,
     "metadata": {},
     "output_type": "execute_result"
    }
   ],
   "source": [
    "+/Day7p2¨DAY7 ⍝ 231"
   ]
  },
  {
   "cell_type": "markdown",
   "metadata": {},
   "source": [
    "### Day 8: Two-Factor Authentication\n",
    "https://adventofcode.com/2016/day/8\n",
    "\n",
    "Some more array-wrangling -- APL home court advantage. The coordinates given are 0-based, so we switch to using `⎕IO←0` to avoid arithmetic. We can create the three functions referred to (rect, row, col) and treat the input data as a ready to go program. Note that the abuse of [⍎](http://help.dyalog.com/17.1/index.htm#Language/Symbols/Execute%20Symbol.htm?Highlight=%E2%8D%8E) here (in the absense of Scheme-y macros) is both unsafe and unsavoury."
   ]
  },
  {
   "cell_type": "code",
   "execution_count": 334,
   "metadata": {},
   "outputs": [],
   "source": [
    "⎕IO←0\n",
    "DISPLAY←6 50⍴0\n",
    "rect←{(cols rows)←⍵ ⋄ 1@(⊂⍤0,⍳rows cols)⊢⍺}\n",
    "row←{(A B)←⍵⋄((-B)⊖⍺[A;])@A⊢⍺}\n",
    "col←{⍉(⍉⍺)row⍵}"
   ]
  },
  {
   "cell_type": "markdown",
   "metadata": {},
   "source": [
    "The `Compile` function converts the input rows into strings containing valid APL in terms of the three functions `rect`, `row` and `col`."
   ]
  },
  {
   "cell_type": "code",
   "execution_count": 335,
   "metadata": {},
   "outputs": [],
   "source": [
    "]dinput\n",
    "Compile←{ \n",
    "    row←⊃'rotate row y=(\\d+) by (\\d+)'⎕R'⍺ row \\1 \\2'¨↓⍵\n",
    "    col←'rotate column x=(\\d+) by (\\d+)'⎕R'⍺ col \\1 \\2'¨row\n",
    "    'rect (\\d+)x(\\d+)'⎕R'⍺ rect \\1 \\2'¨col\n",
    "}"
   ]
  },
  {
   "cell_type": "code",
   "execution_count": 336,
   "metadata": {},
   "outputs": [],
   "source": [
    "DAY8←Compile⊃⎕NGET'data/2016/08.txt'1"
   ]
  },
  {
   "cell_type": "code",
   "execution_count": 337,
   "metadata": {},
   "outputs": [],
   "source": [
    "Day8←{0=≢⍵:⍺⋄(⍎0⊃⍵)∇1↓⍵} ⍝ Run the 'program', top to bottom"
   ]
  },
  {
   "cell_type": "code",
   "execution_count": 338,
   "metadata": {},
   "outputs": [
    {
     "data": {
      "text/html": [
       "<span style=\"white-space:pre; font-family: monospace\">   \n",
       "121\n",
       "   \n",
       "</span>"
      ]
     },
     "execution_count": 338,
     "metadata": {},
     "output_type": "execute_result"
    }
   ],
   "source": [
    "+/∊DISPLAY Day8 DAY8  ⍝ Part 1: 121"
   ]
  },
  {
   "cell_type": "markdown",
   "metadata": {},
   "source": [
    "The display shows a message! Let's highlight it a bit."
   ]
  },
  {
   "cell_type": "code",
   "execution_count": 346,
   "metadata": {},
   "outputs": [
    {
     "data": {
      "text/html": [
       "<span style=\"white-space:pre; font-family: monospace\">┌→─────────────────────────────────────────────────────────────────────────────────────────────────┐\n",
       "↓0 0 0     0     0   0 0 0     0     0     0 0     0 0 0 0     0 0     0 0 0 0    0 0 0   0        │\n",
       "│0     0   0     0   0     0   0     0   0     0   0         0     0   0            0     0        │\n",
       "│0     0   0     0   0     0   0     0   0         0 0 0     0     0   0 0 0        0     0        │\n",
       "│0 0 0     0     0   0 0 0     0     0   0         0         0     0   0            0     0        │\n",
       "│0   0     0     0   0   0     0     0   0     0   0         0     0   0            0     0        │\n",
       "│0     0     0 0     0     0     0 0       0 0     0 0 0 0     0 0     0 0 0 0    0 0 0   0 0 0 0  │\n",
       "└+─────────────────────────────────────────────────────────────────────────────────────────────────┘\n",
       "</span>"
      ]
     },
     "execution_count": 346,
     "metadata": {},
     "output_type": "execute_result"
    }
   ],
   "source": [
    "(' '@⊢)0=DISPLAY Day8 DAY8 ⍝ Part 2: RURUCEOEIL"
   ]
  },
  {
   "cell_type": "markdown",
   "metadata": {},
   "source": [
    "### Day 9: Explosives in Cyberspace\n",
    "https://adventofcode.com/2016/day/9\n",
    "\n",
    "Decompress simple runlength-encoding scheme. Can be succinctly formulated in terms of recursion. "
   ]
  },
  {
   "cell_type": "code",
   "execution_count": 356,
   "metadata": {},
   "outputs": [],
   "source": [
    "⎕IO←1\n",
    "DAY9←⊃⊃⎕NGET'data/2016/09.txt'1"
   ]
  },
  {
   "cell_type": "markdown",
   "metadata": {},
   "source": [
    "A run-length marker is two ints separated by an \"x\" and enclosed in brackets, e.g. (8x2). Let's write a utility function that gets these numbers out (assuming the beginning of the string), and also tacks on the end index -- where the string starts again after the marker. We use `⎕VFI` -- [Verify and Fix Input](http://help.dyalog.com/17.1/index.htm#Language/System%20Functions/vfi.htm?Highlight=%E2%8E%95VFI) -- to convert strings to numbers. "
   ]
  },
  {
   "cell_type": "code",
   "execution_count": 367,
   "metadata": {},
   "outputs": [],
   "source": [
    "Marker←{(2⊃'x'⎕VFI 1↓¯1↓end↑⍵),end←⍵⍳')'} "
   ]
  },
  {
   "cell_type": "markdown",
   "metadata": {},
   "source": [
    "The decompressed length is 1 for each non-compressed character plus the length×count of any encoded sequence."
   ]
  },
  {
   "cell_type": "code",
   "execution_count": 368,
   "metadata": {},
   "outputs": [],
   "source": [
    "]dinput\n",
    "Day9p1←{\n",
    "    0=≢⍵:⍺\n",
    "    '('≠⊃1↑⍵:(⍺+1)∇1↓⍵               ⍝ Uncompressed character -- add 1 and move on\n",
    "    (length count end)←Marker ⍵\n",
    "    (⍺+length×count)∇(end+length)↓⍵  ⍝ Add length×count and skip the marker and the length when carrying on\n",
    "}"
   ]
  },
  {
   "cell_type": "code",
   "execution_count": 369,
   "metadata": {},
   "outputs": [
    {
     "data": {
      "text/html": [
       "<span style=\"white-space:pre; font-family: monospace\">     \n",
       "74532\n",
       "     \n",
       "</span>"
      ]
     },
     "execution_count": 369,
     "metadata": {},
     "output_type": "execute_result"
    }
   ],
   "source": [
    "0 Day9p1 DAY9 ⍝ 74532"
   ]
  },
  {
   "cell_type": "markdown",
   "metadata": {},
   "source": [
    "For part 2 we need [big int support](http://dfns.dyalog.com/n_big.htm), which we can find in the 'dfns' workspace."
   ]
  },
  {
   "cell_type": "code",
   "execution_count": 370,
   "metadata": {},
   "outputs": [],
   "source": [
    "'big'⎕CY'dfns'"
   ]
  },
  {
   "cell_type": "markdown",
   "metadata": {},
   "source": [
    "Simiar to part 1, but we need an extra recursive step to expand already expanded chunks. Note that this means we're no longer tail-recursive, but the recursive depth is pretty modest."
   ]
  },
  {
   "cell_type": "code",
   "execution_count": 373,
   "metadata": {},
   "outputs": [],
   "source": [
    "]dinput\n",
    "Day9p2←{\n",
    "    0=≢⍵:⍺\n",
    "    '('≠⊃1↑⍵:(⍺ +big 1)∇1↓⍵\n",
    "    (length count end)←Marker ⍵\n",
    "    total←count ×big 0∇length↑end↓⍵  ⍝ Find length of expansion, including any embedded markers\n",
    "    (⍺ +big total)∇(end+length)↓⍵    ⍝ Next, as per part 1\n",
    "}"
   ]
  },
  {
   "cell_type": "code",
   "execution_count": 375,
   "metadata": {},
   "outputs": [
    {
     "data": {
      "text/html": [
       "<span style=\"white-space:pre; font-family: monospace\">┌→──────────┐\n",
       "│11558231665│\n",
       "└───────────┘\n",
       "</span>"
      ]
     },
     "execution_count": 375,
     "metadata": {},
     "output_type": "execute_result"
    }
   ],
   "source": [
    "0 Day9p2 DAY9 ⍝ 11558231665"
   ]
  },
  {
   "cell_type": "markdown",
   "metadata": {},
   "source": [
    "### Day 10: Balance Bots\n",
    "https://adventofcode.com/2016/day/10"
   ]
  },
  {
   "cell_type": "code",
   "execution_count": null,
   "metadata": {},
   "outputs": [],
   "source": []
  }
 ],
 "metadata": {
  "kernelspec": {
   "display_name": "Dyalog APL",
   "language": "apl",
   "name": "dyalog-kernel"
  },
  "language_info": {
   "file_extension": ".apl",
   "mimetype": "text/apl",
   "name": "APL"
  }
 },
 "nbformat": 4,
 "nbformat_minor": 2
}
